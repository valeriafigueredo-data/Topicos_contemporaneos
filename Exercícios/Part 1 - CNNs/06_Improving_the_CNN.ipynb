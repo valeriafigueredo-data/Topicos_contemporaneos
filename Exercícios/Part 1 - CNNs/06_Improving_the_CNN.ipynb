{
  "cells": [
    {
      "cell_type": "markdown",
      "source": [
        "**Sexto Trabalho**\n",
        "\n",
        "**Nome:Valéria Cristina A. R. de Figueredo**"
      ],
      "metadata": {
        "id": "mM6uxDaclRKV"
      }
    },
    {
      "cell_type": "code",
      "execution_count": 17,
      "metadata": {
        "id": "w2P0FRyjlNZy"
      },
      "outputs": [],
      "source": [
        "# Importando as bibliotecas necessárias\n",
        "import torch\n",
        "import torch.nn as nn\n",
        "import torch.optim as optim\n",
        "import torch.nn.functional as F\n",
        "from torch.utils.data import Dataset, DataLoader, Subset\n",
        "import torchvision\n",
        "import torchvision.transforms as transforms\n",
        "import matplotlib.pyplot as plt\n",
        "import numpy as np\n",
        "import pandas as pd\n",
        "from tqdm import tqdm"
      ]
    },
    {
      "cell_type": "code",
      "execution_count": 18,
      "metadata": {
        "id": "XvcpqcuflNZy",
        "colab": {
          "base_uri": "https://localhost:8080/"
        },
        "outputId": "5b5a0b25-845d-4fc2-95d8-6a090db62318"
      },
      "outputs": [
        {
          "output_type": "stream",
          "name": "stdout",
          "text": [
            "--2024-12-15 22:28:57--  https://pjreddie.com/media/files/mnist_train.csv\n",
            "Resolving pjreddie.com (pjreddie.com)... 162.0.215.52\n",
            "Connecting to pjreddie.com (pjreddie.com)|162.0.215.52|:443... connected.\n",
            "HTTP request sent, awaiting response... 200 OK\n",
            "Length: 109575994 (104M) [text/csv]\n",
            "Saving to: ‘data/mnist_train.csv’\n",
            "\n",
            "mnist_train.csv     100%[===================>] 104.50M  15.9MB/s    in 6.8s    \n",
            "\n",
            "2024-12-15 22:29:05 (15.4 MB/s) - ‘data/mnist_train.csv’ saved [109575994/109575994]\n",
            "\n"
          ]
        }
      ],
      "source": [
        "# Download do dataset MNIST into data dir\n",
        "! wget https://pjreddie.com/media/files/mnist_train.csv -P data"
      ]
    },
    {
      "cell_type": "code",
      "execution_count": 19,
      "metadata": {
        "id": "RCiFy2khlNZz"
      },
      "outputs": [],
      "source": [
        "class MNISTDataset(Dataset):\n",
        "    def __init__(self, csv_file, transform=None):\n",
        "        self.data = pd.read_csv(csv_file, header=None)\n",
        "        self.transform = transform\n",
        "\n",
        "    def __len__(self):\n",
        "        return len(self.data)\n",
        "\n",
        "    def __getitem__(self, idx):\n",
        "        # A primeira coluna é o rótulo\n",
        "        label = self.data.iloc[idx, 0]\n",
        "        # As demais colunas são os pixels da imagem\n",
        "        image = self.data.iloc[idx, 1:].values.astype('uint8').reshape(28, 28)\n",
        "\n",
        "        if self.transform:\n",
        "            image = self.transform(image)\n",
        "\n",
        "        return image, label"
      ]
    },
    {
      "cell_type": "code",
      "execution_count": 20,
      "metadata": {
        "id": "epnLqW67lNZz"
      },
      "outputs": [],
      "source": [
        "# Transformação para converter a imagem para tensor\n",
        "transform = transforms.Compose([\n",
        "    transforms.ToTensor(),      # Convertendo a imagem PIL para tensor\n",
        "    transforms.Normalize((0.5,), (0.5,))  # Normalizando a imagem\n",
        "])\n",
        "\n",
        "# Criando o dataset\n",
        "mnist_dataset = MNISTDataset(\"./data/mnist_train.csv\", transform=transform)\n",
        "\n",
        "# Transformação para converter a imagem para tensor\n",
        "transform = transforms.Compose([\n",
        "    transforms.ToPILImage(),    # Convertendo o array numpy para imagem PIL\n",
        "    transforms.ToTensor(),      # Convertendo a imagem PIL para tensor\n",
        "    transforms.Normalize((0.5,), (0.5,))  # Normalizando a imagem\n",
        "])\n",
        "\n",
        "# Criando o dataset\n",
        "mnist_dataset = MNISTDataset(\"./data/mnist_train.csv\", transform=transform)"
      ]
    },
    {
      "cell_type": "code",
      "execution_count": 21,
      "metadata": {
        "id": "78nt3J-clNZz"
      },
      "outputs": [],
      "source": [
        "# Criando índices aleatórios para os subsets de treino e teste\n",
        "np.random.seed(42)\n",
        "indices = np.arange(len(mnist_dataset))\n",
        "np.random.shuffle(indices)\n",
        "\n",
        "# Dividindo os índices em trainset e testset\n",
        "num_train = 1000\n",
        "num_val = 500\n",
        "num_test = 500\n",
        "train_indices = indices[:num_train]  # Primeiros 1.000 índices para o trainset\n",
        "val_indices = indices[num_train:num_train+num_val]  # Próximos 500 índices para o valset\n",
        "test_indices = indices[num_train+num_val:num_train+num_val+num_test]  # Mais 500 para o testset\n",
        "\n",
        "trainset = Subset(mnist_dataset, train_indices)\n",
        "valset = Subset(mnist_dataset, val_indices)\n",
        "testset = Subset(mnist_dataset, test_indices)\n",
        "\n",
        "# Criando DataLoaders para os subsets\n",
        "trainloader = DataLoader(trainset, batch_size=64, shuffle=True)\n",
        "valloader = DataLoader(valset, batch_size=64, shuffle=False)\n",
        "testloader = DataLoader(testset, batch_size=64, shuffle=False)"
      ]
    },
    {
      "cell_type": "code",
      "execution_count": 22,
      "metadata": {
        "id": "Tutq3KBslNZz"
      },
      "outputs": [],
      "source": [
        "def train_model(model, trainloader, valloader, criterion, optimizer, num_epochs=5):\n",
        "    history = {\n",
        "        'train_losses': [],\n",
        "        'val_losses': [],\n",
        "        'train_accuracies': [],\n",
        "        'val_accuracies': []\n",
        "    }\n",
        "\n",
        "    for epoch in range(num_epochs):\n",
        "        # Treinamento\n",
        "        model.train()\n",
        "        running_loss = 0.0\n",
        "        correct = 0\n",
        "        total = 0\n",
        "        for i, data in tqdm(enumerate(trainloader, 0), total=len(trainloader)):\n",
        "            inputs, labels = data\n",
        "\n",
        "            optimizer.zero_grad()\n",
        "\n",
        "            outputs = model(inputs)\n",
        "            loss = criterion(outputs, labels)\n",
        "            loss.backward()\n",
        "            optimizer.step()\n",
        "\n",
        "            running_loss += loss.item()\n",
        "            _, predicted = torch.max(outputs.data, 1)\n",
        "            total += labels.size(0)\n",
        "            correct += (predicted == labels).sum().item()\n",
        "\n",
        "        train_loss = running_loss / len(trainloader)\n",
        "        train_acc = 100 * correct / total\n",
        "        history['train_losses'].append(train_loss)\n",
        "        history['train_accuracies'].append(train_acc)\n",
        "        print(f'Epoch {epoch+1}, Train Loss: {train_loss:.3f}, Train Accuracy: {train_acc:.2f}%')\n",
        "\n",
        "        # Validação\n",
        "        model.eval()\n",
        "        val_running_loss = 0.0\n",
        "        correct = 0\n",
        "        total = 0\n",
        "        with torch.no_grad():\n",
        "            for data in valloader:\n",
        "                inputs, labels = data\n",
        "                outputs = model(inputs)\n",
        "                loss = criterion(outputs, labels)\n",
        "                val_running_loss += loss.item()\n",
        "                _, predicted = torch.max(outputs.data, 1)\n",
        "                total += labels.size(0)\n",
        "                correct += (predicted == labels).sum().item()\n",
        "\n",
        "        val_loss = val_running_loss / len(valloader)\n",
        "        val_acc = 100 * correct / total\n",
        "        history['val_losses'].append(val_loss)\n",
        "        history['val_accuracies'].append(val_acc)\n",
        "        print(f'Epoch {epoch+1}, Val Loss: {val_loss:.3f}, Val Accuracy: {val_acc:.2f}%')\n",
        "\n",
        "    print('Treinamento concluído')\n",
        "    return history\n",
        "\n",
        "\n",
        "def test_model(model, testloader):\n",
        "    correct = 0\n",
        "    total = 0\n",
        "    with torch.no_grad():\n",
        "        for data in testloader:\n",
        "            images, labels = data\n",
        "            outputs = model(images)\n",
        "            _, predicted = torch.max(outputs.data, 1)\n",
        "            total += labels.size(0)\n",
        "            correct += (predicted == labels).sum().item()\n",
        "\n",
        "    print(f'Acurácia da rede na base de teste: {100 * correct / total:.2f}%')"
      ]
    },
    {
      "cell_type": "code",
      "execution_count": 23,
      "metadata": {
        "id": "NZ_pTUTWlNZ0"
      },
      "outputs": [],
      "source": [
        "class CNN(nn.Module):\n",
        "    def __init__(self, initialize_weights=True, dropout=0.2):\n",
        "        super(CNN, self).__init__()\n",
        "        self.conv1 = nn.Conv2d(1, 6, 5)\n",
        "        self.conv2 = nn.Conv2d(6, 12, 5)\n",
        "        self.fc1 = nn.Linear(12 * 4 * 4, 64)\n",
        "        self.fc2 = nn.Linear(64, 10)\n",
        "        self.dropout = nn.Dropout(dropout)\n",
        "\n",
        "        if initialize_weights:\n",
        "            self._initialize_weights()\n",
        "\n",
        "    def forward(self, x):\n",
        "        # CNN\n",
        "        x = F.relu(self.conv1(x))\n",
        "        x = F.max_pool2d(x, 2, 2)\n",
        "        x = F.relu(self.conv2(x))\n",
        "        x = F.max_pool2d(x, 2, 2)\n",
        "\n",
        "        # Flatten\n",
        "        x = x.view(-1, 12 * 4 * 4)\n",
        "        x = self.dropout(F.relu(self.fc1(x)))\n",
        "        x = self.fc2(x)\n",
        "\n",
        "        return x\n",
        "\n",
        "    def _initialize_weights(self):\n",
        "        for m in self.modules():\n",
        "            if isinstance(m, nn.Conv2d) or isinstance(m, nn.Linear):\n",
        "                nn.init.xavier_normal_(m.weight)\n",
        "                if m.bias is not None:\n",
        "                    nn.init.constant_(m.bias, 0)"
      ]
    },
    {
      "cell_type": "code",
      "execution_count": 24,
      "metadata": {
        "id": "3537ZabAlNZ0"
      },
      "outputs": [],
      "source": [
        "model = CNN(\n",
        "    initialize_weights=True,\n",
        "    dropout=0.2\n",
        ")\n"
      ]
    },
    {
      "cell_type": "code",
      "execution_count": 25,
      "metadata": {
        "id": "FoQzsKQ-lNZ0"
      },
      "outputs": [],
      "source": [
        "criterion = nn.CrossEntropyLoss()\n",
        "optimizer = optim.SGD(model.parameters(), lr=0.01, momentum=0.9)"
      ]
    },
    {
      "cell_type": "code",
      "execution_count": 26,
      "metadata": {
        "id": "q6Y7z9S2lNZ0",
        "colab": {
          "base_uri": "https://localhost:8080/"
        },
        "outputId": "d5738dac-0a0f-49a3-d077-f6dabe65423b"
      },
      "outputs": [
        {
          "output_type": "stream",
          "name": "stderr",
          "text": [
            "100%|██████████| 16/16 [00:01<00:00, 11.45it/s]\n"
          ]
        },
        {
          "output_type": "stream",
          "name": "stdout",
          "text": [
            "Epoch 1, Train Loss: 2.328, Train Accuracy: 13.30%\n",
            "Epoch 1, Val Loss: 2.235, Val Accuracy: 21.20%\n"
          ]
        },
        {
          "output_type": "stream",
          "name": "stderr",
          "text": [
            "100%|██████████| 16/16 [00:01<00:00, 15.66it/s]\n"
          ]
        },
        {
          "output_type": "stream",
          "name": "stdout",
          "text": [
            "Epoch 2, Train Loss: 2.100, Train Accuracy: 29.20%\n",
            "Epoch 2, Val Loss: 1.850, Val Accuracy: 42.60%\n"
          ]
        },
        {
          "output_type": "stream",
          "name": "stderr",
          "text": [
            "100%|██████████| 16/16 [00:00<00:00, 19.57it/s]\n"
          ]
        },
        {
          "output_type": "stream",
          "name": "stdout",
          "text": [
            "Epoch 3, Train Loss: 1.474, Train Accuracy: 51.70%\n",
            "Epoch 3, Val Loss: 0.943, Val Accuracy: 71.40%\n"
          ]
        },
        {
          "output_type": "stream",
          "name": "stderr",
          "text": [
            "100%|██████████| 16/16 [00:00<00:00, 22.71it/s]\n"
          ]
        },
        {
          "output_type": "stream",
          "name": "stdout",
          "text": [
            "Epoch 4, Train Loss: 0.905, Train Accuracy: 69.20%\n",
            "Epoch 4, Val Loss: 0.589, Val Accuracy: 82.40%\n"
          ]
        },
        {
          "output_type": "stream",
          "name": "stderr",
          "text": [
            "100%|██████████| 16/16 [00:00<00:00, 21.98it/s]\n"
          ]
        },
        {
          "output_type": "stream",
          "name": "stdout",
          "text": [
            "Epoch 5, Train Loss: 0.604, Train Accuracy: 80.00%\n",
            "Epoch 5, Val Loss: 0.453, Val Accuracy: 85.40%\n",
            "Treinamento concluído\n"
          ]
        }
      ],
      "source": [
        "# Treinando a CNN\n",
        "history = train_model(\n",
        "    model=model,\n",
        "    trainloader=trainloader,\n",
        "    valloader=valloader,\n",
        "    criterion=criterion,\n",
        "    optimizer=optimizer\n",
        ")"
      ]
    },
    {
      "cell_type": "code",
      "execution_count": 27,
      "metadata": {
        "id": "LZ7rQYbFlNZ0",
        "colab": {
          "base_uri": "https://localhost:8080/",
          "height": 507
        },
        "outputId": "2e914c0e-ecbc-41e4-a565-2c6f20e6fe00"
      },
      "outputs": [
        {
          "output_type": "display_data",
          "data": {
            "text/plain": [
              "<Figure size 1200x500 with 2 Axes>"
            ],
            "image/png": "[encoded data removed]"
          },
          "metadata": {}
        }
      ],
      "source": [
        "epochs = range(1, len(history['train_losses']) + 1)\n",
        "\n",
        "# Plot de losses\n",
        "plt.figure(figsize=(12, 5))\n",
        "\n",
        "plt.subplot(1, 2, 1)\n",
        "plt.grid()\n",
        "plt.plot(epochs, history['train_losses'], label='Train Loss')\n",
        "plt.plot(epochs, history['val_losses'], label='Validation Loss')\n",
        "plt.xlabel('Epochs')\n",
        "plt.ylabel('Loss')\n",
        "plt.title('Training and Validation Loss')\n",
        "plt.legend()\n",
        "\n",
        "# Plot de accuracies\n",
        "plt.subplot(1, 2, 2)\n",
        "plt.grid()\n",
        "plt.plot(epochs, history['train_accuracies'], label='Train Accuracy')\n",
        "plt.plot(epochs, history['val_accuracies'], label='Validation Accuracy')\n",
        "plt.xlabel('Epochs')\n",
        "plt.ylabel('Accuracy')\n",
        "plt.title('Training and Validation Accuracy')\n",
        "plt.legend()\n",
        "\n",
        "plt.tight_layout()\n",
        "plt.show()"
      ]
    },
    {
      "cell_type": "code",
      "execution_count": 28,
      "metadata": {
        "id": "I6JhaYiRlNZ0",
        "colab": {
          "base_uri": "https://localhost:8080/"
        },
        "outputId": "0cd477cb-6e0d-4277-89ec-6dd7c233a23f"
      },
      "outputs": [
        {
          "output_type": "stream",
          "name": "stdout",
          "text": [
            "Acurácia da rede na base de teste: 89.20%\n"
          ]
        }
      ],
      "source": [
        "test_model(model, testloader)"
      ]
    },
    {
      "cell_type": "markdown",
      "metadata": {
        "id": "kYGR20VzlNZ0"
      },
      "source": [
        "## Exercícios"
      ]
    },
    {
      "cell_type": "markdown",
      "metadata": {
        "id": "umMY7u53lNZ1"
      },
      "source": [
        "### Exercício 1\n",
        "Na CNN implementada, execute experimentos variando:\n",
        "- O número de filtros convolucionais em `self.conv1` (6 e 8)\n",
        "- O número de filtros convolucionais em `self.conv2` (12 e 16)\n",
        "\n",
        "Ao final, observe qual combinação desempenha melhor no conjunto de testes.\n",
        "\n",
        "Dica: Adicionar argumentos no construtor da classe para determinar o número de filtros em cada camada pode ser útil para inicializar diversos modelos."
      ]
    },
    {
      "cell_type": "code",
      "source": [
        "import torch\n",
        "import torch.nn as nn\n",
        "import torch.optim as optim\n",
        "import torch.nn.functional as F\n",
        "\n",
        "# Definição da CNN class\n",
        "class CNN(nn.Module):\n",
        "    def __init__(self, initialize_weights=True, dropout=0.2, num_filters_1=6, num_filters_2=12):\n",
        "        super(CNN, self).__init__()\n",
        "        self.num_filters_2 = num_filters_2\n",
        "        self.conv1 = nn.Conv2d(1, num_filters_1, 5)\n",
        "        self.conv2 = nn.Conv2d(num_filters_1, num_filters_2, 5)\n",
        "        self.fc1 = nn.Linear(num_filters_2 * 4 * 4, 64)\n",
        "        self.fc2 = nn.Linear(64, 10)\n",
        "        self.dropout = nn.Dropout(dropout)\n",
        "\n",
        "        if initialize_weights:\n",
        "            self._initialize_weights()\n",
        "\n",
        "    def forward(self, x):\n",
        "        # Camadas de CNN\n",
        "        x = F.relu(self.conv1(x))\n",
        "        x = F.max_pool2d(x, 2, 2)\n",
        "        x = F.relu(self.conv2(x))\n",
        "        x = F.max_pool2d(x, 2, 2)\n",
        "\n",
        "        # Flatten e Conecção de camadas\n",
        "        x = x.view(-1, self.num_filters_2 * 4 * 4)\n",
        "        x = self.dropout(F.relu(self.fc1(x)))\n",
        "        x = self.fc2(x)\n",
        "\n",
        "        return x\n",
        "\n",
        "    def _initialize_weights(self):\n",
        "        for m in self.modules():\n",
        "            if isinstance(m, nn.Conv2d) or isinstance(m, nn.Linear):\n",
        "                nn.init.xavier_normal_(m.weight)\n",
        "                if m.bias is not None:\n",
        "                    nn.init.constant_(m.bias, 0)\n",
        "\n",
        "# Lista de combinação de filtros\n",
        "parameters_combinations = [\n",
        "    (6, 12),\n",
        "    (6, 16),\n",
        "    (8, 12),\n",
        "    (6, 16),\n",
        "]\n",
        "\n",
        "# Loop pelos filtros e treino do modelo\n",
        "for num_filters_1, num_filters_2 in parameters_combinations:\n",
        "    print(f'Testing model with num_filters_1={num_filters_1} and num_filters_2={num_filters_2}')\n",
        "\n",
        "    model = CNN(\n",
        "        initialize_weights=True,\n",
        "        dropout=0.2,\n",
        "        num_filters_1=num_filters_1,\n",
        "        num_filters_2=num_filters_2\n",
        "    )\n",
        "\n",
        "    criterion = nn.CrossEntropyLoss()\n",
        "    optimizer = optim.SGD(model.parameters(), lr=0.01, momentum=0.9)\n",
        "\n",
        "    # Treino do modelo\n",
        "    history = train_model(\n",
        "        model=model,\n",
        "        trainloader=trainloader,\n",
        "        valloader=valloader,\n",
        "        criterion=criterion,\n",
        "        optimizer=optimizer\n",
        "    )\n",
        "\n",
        "    # Teste do modelo\n",
        "    test_model(model, testloader)\n",
        "    print()"
      ],
      "metadata": {
        "colab": {
          "base_uri": "https://localhost:8080/"
        },
        "id": "wrjB2ov5bv4l",
        "outputId": "2beef8c6-bc6f-4b13-a87c-9ca4a442ee62"
      },
      "execution_count": 32,
      "outputs": [
        {
          "output_type": "stream",
          "name": "stdout",
          "text": [
            "Testing model with num_filters_1=6 and num_filters_2=12\n"
          ]
        },
        {
          "output_type": "stream",
          "name": "stderr",
          "text": [
            "100%|██████████| 16/16 [00:00<00:00, 23.40it/s]\n"
          ]
        },
        {
          "output_type": "stream",
          "name": "stdout",
          "text": [
            "Epoch 1, Train Loss: 2.222, Train Accuracy: 22.20%\n",
            "Epoch 1, Val Loss: 2.010, Val Accuracy: 48.20%\n"
          ]
        },
        {
          "output_type": "stream",
          "name": "stderr",
          "text": [
            "100%|██████████| 16/16 [00:00<00:00, 23.39it/s]\n"
          ]
        },
        {
          "output_type": "stream",
          "name": "stdout",
          "text": [
            "Epoch 2, Train Loss: 1.681, Train Accuracy: 48.30%\n",
            "Epoch 2, Val Loss: 1.137, Val Accuracy: 65.60%\n"
          ]
        },
        {
          "output_type": "stream",
          "name": "stderr",
          "text": [
            "100%|██████████| 16/16 [00:00<00:00, 23.33it/s]\n"
          ]
        },
        {
          "output_type": "stream",
          "name": "stdout",
          "text": [
            "Epoch 3, Train Loss: 0.977, Train Accuracy: 67.40%\n",
            "Epoch 3, Val Loss: 0.650, Val Accuracy: 80.20%\n"
          ]
        },
        {
          "output_type": "stream",
          "name": "stderr",
          "text": [
            "100%|██████████| 16/16 [00:00<00:00, 23.51it/s]\n"
          ]
        },
        {
          "output_type": "stream",
          "name": "stdout",
          "text": [
            "Epoch 4, Train Loss: 0.593, Train Accuracy: 80.40%\n",
            "Epoch 4, Val Loss: 0.417, Val Accuracy: 87.60%\n"
          ]
        },
        {
          "output_type": "stream",
          "name": "stderr",
          "text": [
            "100%|██████████| 16/16 [00:00<00:00, 23.87it/s]\n"
          ]
        },
        {
          "output_type": "stream",
          "name": "stdout",
          "text": [
            "Epoch 5, Train Loss: 0.450, Train Accuracy: 83.70%\n",
            "Epoch 5, Val Loss: 0.325, Val Accuracy: 90.20%\n",
            "Treinamento concluído\n",
            "Acurácia da rede na base de teste: 89.00%\n",
            "\n",
            "Testing model with num_filters_1=6 and num_filters_2=16\n"
          ]
        },
        {
          "output_type": "stream",
          "name": "stderr",
          "text": [
            "100%|██████████| 16/16 [00:00<00:00, 22.93it/s]\n"
          ]
        },
        {
          "output_type": "stream",
          "name": "stdout",
          "text": [
            "Epoch 1, Train Loss: 2.290, Train Accuracy: 12.60%\n",
            "Epoch 1, Val Loss: 2.182, Val Accuracy: 23.60%\n"
          ]
        },
        {
          "output_type": "stream",
          "name": "stderr",
          "text": [
            "100%|██████████| 16/16 [00:00<00:00, 23.23it/s]\n"
          ]
        },
        {
          "output_type": "stream",
          "name": "stdout",
          "text": [
            "Epoch 2, Train Loss: 2.020, Train Accuracy: 28.90%\n",
            "Epoch 2, Val Loss: 1.713, Val Accuracy: 47.20%\n"
          ]
        },
        {
          "output_type": "stream",
          "name": "stderr",
          "text": [
            "100%|██████████| 16/16 [00:00<00:00, 22.45it/s]\n"
          ]
        },
        {
          "output_type": "stream",
          "name": "stdout",
          "text": [
            "Epoch 3, Train Loss: 1.405, Train Accuracy: 54.10%\n",
            "Epoch 3, Val Loss: 0.956, Val Accuracy: 66.20%\n"
          ]
        },
        {
          "output_type": "stream",
          "name": "stderr",
          "text": [
            "100%|██████████| 16/16 [00:00<00:00, 22.93it/s]\n"
          ]
        },
        {
          "output_type": "stream",
          "name": "stdout",
          "text": [
            "Epoch 4, Train Loss: 0.881, Train Accuracy: 70.50%\n",
            "Epoch 4, Val Loss: 0.634, Val Accuracy: 81.00%\n"
          ]
        },
        {
          "output_type": "stream",
          "name": "stderr",
          "text": [
            "100%|██████████| 16/16 [00:00<00:00, 17.57it/s]\n"
          ]
        },
        {
          "output_type": "stream",
          "name": "stdout",
          "text": [
            "Epoch 5, Train Loss: 0.621, Train Accuracy: 78.80%\n",
            "Epoch 5, Val Loss: 0.512, Val Accuracy: 83.60%\n",
            "Treinamento concluído\n",
            "Acurácia da rede na base de teste: 85.80%\n",
            "\n",
            "Testing model with num_filters_1=8 and num_filters_2=12\n"
          ]
        },
        {
          "output_type": "stream",
          "name": "stderr",
          "text": [
            "100%|██████████| 16/16 [00:01<00:00, 15.59it/s]\n"
          ]
        },
        {
          "output_type": "stream",
          "name": "stdout",
          "text": [
            "Epoch 1, Train Loss: 2.255, Train Accuracy: 20.50%\n",
            "Epoch 1, Val Loss: 2.127, Val Accuracy: 33.00%\n"
          ]
        },
        {
          "output_type": "stream",
          "name": "stderr",
          "text": [
            "100%|██████████| 16/16 [00:00<00:00, 16.87it/s]\n"
          ]
        },
        {
          "output_type": "stream",
          "name": "stdout",
          "text": [
            "Epoch 2, Train Loss: 1.838, Train Accuracy: 42.30%\n",
            "Epoch 2, Val Loss: 1.349, Val Accuracy: 58.00%\n"
          ]
        },
        {
          "output_type": "stream",
          "name": "stderr",
          "text": [
            "100%|██████████| 16/16 [00:00<00:00, 22.20it/s]\n"
          ]
        },
        {
          "output_type": "stream",
          "name": "stdout",
          "text": [
            "Epoch 3, Train Loss: 1.103, Train Accuracy: 65.80%\n",
            "Epoch 3, Val Loss: 0.733, Val Accuracy: 74.80%\n"
          ]
        },
        {
          "output_type": "stream",
          "name": "stderr",
          "text": [
            "100%|██████████| 16/16 [00:00<00:00, 22.68it/s]\n"
          ]
        },
        {
          "output_type": "stream",
          "name": "stdout",
          "text": [
            "Epoch 4, Train Loss: 0.719, Train Accuracy: 76.10%\n",
            "Epoch 4, Val Loss: 0.539, Val Accuracy: 84.40%\n"
          ]
        },
        {
          "output_type": "stream",
          "name": "stderr",
          "text": [
            "100%|██████████| 16/16 [00:00<00:00, 20.44it/s]\n"
          ]
        },
        {
          "output_type": "stream",
          "name": "stdout",
          "text": [
            "Epoch 5, Train Loss: 0.575, Train Accuracy: 81.90%\n",
            "Epoch 5, Val Loss: 0.460, Val Accuracy: 86.80%\n",
            "Treinamento concluído\n",
            "Acurácia da rede na base de teste: 89.80%\n",
            "\n",
            "Testing model with num_filters_1=6 and num_filters_2=16\n"
          ]
        },
        {
          "output_type": "stream",
          "name": "stderr",
          "text": [
            "100%|██████████| 16/16 [00:00<00:00, 22.23it/s]\n"
          ]
        },
        {
          "output_type": "stream",
          "name": "stdout",
          "text": [
            "Epoch 1, Train Loss: 2.218, Train Accuracy: 21.70%\n",
            "Epoch 1, Val Loss: 2.012, Val Accuracy: 37.60%\n"
          ]
        },
        {
          "output_type": "stream",
          "name": "stderr",
          "text": [
            "100%|██████████| 16/16 [00:00<00:00, 22.19it/s]\n"
          ]
        },
        {
          "output_type": "stream",
          "name": "stdout",
          "text": [
            "Epoch 2, Train Loss: 1.699, Train Accuracy: 44.20%\n",
            "Epoch 2, Val Loss: 1.315, Val Accuracy: 57.60%\n"
          ]
        },
        {
          "output_type": "stream",
          "name": "stderr",
          "text": [
            "100%|██████████| 16/16 [00:00<00:00, 22.00it/s]\n"
          ]
        },
        {
          "output_type": "stream",
          "name": "stdout",
          "text": [
            "Epoch 3, Train Loss: 1.114, Train Accuracy: 63.80%\n",
            "Epoch 3, Val Loss: 0.805, Val Accuracy: 75.20%\n"
          ]
        },
        {
          "output_type": "stream",
          "name": "stderr",
          "text": [
            "100%|██████████| 16/16 [00:00<00:00, 22.14it/s]\n"
          ]
        },
        {
          "output_type": "stream",
          "name": "stdout",
          "text": [
            "Epoch 4, Train Loss: 0.724, Train Accuracy: 74.30%\n",
            "Epoch 4, Val Loss: 0.542, Val Accuracy: 83.40%\n"
          ]
        },
        {
          "output_type": "stream",
          "name": "stderr",
          "text": [
            "100%|██████████| 16/16 [00:00<00:00, 22.12it/s]\n"
          ]
        },
        {
          "output_type": "stream",
          "name": "stdout",
          "text": [
            "Epoch 5, Train Loss: 0.521, Train Accuracy: 82.90%\n",
            "Epoch 5, Val Loss: 0.444, Val Accuracy: 85.40%\n",
            "Treinamento concluído\n",
            "Acurácia da rede na base de teste: 88.80%\n",
            "\n"
          ]
        }
      ]
    },
    {
      "cell_type": "markdown",
      "metadata": {
        "id": "d7KwHvNYlNZ1"
      },
      "source": [
        "### Exercício 2\n",
        "\n",
        "Na CNN implementada, execute 5 treinamentos variando aleatoriamente o número de neurônios de saída em `self.fc1` (o valor atual é 64 e também deve ser alterado na entrada da próxima camada).\n",
        "\n",
        "Como você determinaria qual foi o melhor valor?"
      ]
    },
    {
      "cell_type": "code",
      "execution_count": 38,
      "metadata": {
        "id": "UU2AKvOFlNZ1",
        "colab": {
          "base_uri": "https://localhost:8080/"
        },
        "outputId": "0abce4ee-053a-4448-ecf2-b81de8c858ac"
      },
      "outputs": [
        {
          "output_type": "stream",
          "name": "stderr",
          "text": [
            "100%|██████████| 16/16 [00:00<00:00, 17.68it/s]\n"
          ]
        },
        {
          "output_type": "stream",
          "name": "stdout",
          "text": [
            "Epoch 1, Train Loss: 2.304, Train Accuracy: 13.30%\n",
            "Epoch 1, Val Loss: 2.236, Val Accuracy: 22.60%\n"
          ]
        },
        {
          "output_type": "stream",
          "name": "stderr",
          "text": [
            "100%|██████████| 16/16 [00:00<00:00, 23.01it/s]\n"
          ]
        },
        {
          "output_type": "stream",
          "name": "stdout",
          "text": [
            "Epoch 2, Train Loss: 2.138, Train Accuracy: 28.50%\n",
            "Epoch 2, Val Loss: 1.960, Val Accuracy: 41.20%\n"
          ]
        },
        {
          "output_type": "stream",
          "name": "stderr",
          "text": [
            "100%|██████████| 16/16 [00:00<00:00, 22.99it/s]\n"
          ]
        },
        {
          "output_type": "stream",
          "name": "stdout",
          "text": [
            "Epoch 3, Train Loss: 1.599, Train Accuracy: 47.50%\n",
            "Epoch 3, Val Loss: 1.075, Val Accuracy: 63.80%\n"
          ]
        },
        {
          "output_type": "stream",
          "name": "stderr",
          "text": [
            "100%|██████████| 16/16 [00:00<00:00, 23.11it/s]\n"
          ]
        },
        {
          "output_type": "stream",
          "name": "stdout",
          "text": [
            "Epoch 4, Train Loss: 0.850, Train Accuracy: 72.50%\n",
            "Epoch 4, Val Loss: 0.535, Val Accuracy: 85.60%\n"
          ]
        },
        {
          "output_type": "stream",
          "name": "stderr",
          "text": [
            "100%|██████████| 16/16 [00:00<00:00, 22.88it/s]\n"
          ]
        },
        {
          "output_type": "stream",
          "name": "stdout",
          "text": [
            "Epoch 5, Train Loss: 0.549, Train Accuracy: 80.90%\n",
            "Epoch 5, Val Loss: 0.412, Val Accuracy: 87.40%\n",
            "Treinamento concluído\n",
            "Número de neurônios na camada conectada: 31\n",
            "Acurácia da rede na base de teste: 89.00%\n",
            "\n",
            "\n"
          ]
        },
        {
          "output_type": "stream",
          "name": "stderr",
          "text": [
            "100%|██████████| 16/16 [00:00<00:00, 22.00it/s]\n"
          ]
        },
        {
          "output_type": "stream",
          "name": "stdout",
          "text": [
            "Epoch 1, Train Loss: 2.279, Train Accuracy: 13.30%\n",
            "Epoch 1, Val Loss: 2.191, Val Accuracy: 21.20%\n"
          ]
        },
        {
          "output_type": "stream",
          "name": "stderr",
          "text": [
            "100%|██████████| 16/16 [00:00<00:00, 21.75it/s]\n"
          ]
        },
        {
          "output_type": "stream",
          "name": "stdout",
          "text": [
            "Epoch 2, Train Loss: 2.022, Train Accuracy: 34.20%\n",
            "Epoch 2, Val Loss: 1.617, Val Accuracy: 57.60%\n"
          ]
        },
        {
          "output_type": "stream",
          "name": "stderr",
          "text": [
            "100%|██████████| 16/16 [00:00<00:00, 22.99it/s]\n"
          ]
        },
        {
          "output_type": "stream",
          "name": "stdout",
          "text": [
            "Epoch 3, Train Loss: 1.190, Train Accuracy: 61.10%\n",
            "Epoch 3, Val Loss: 0.655, Val Accuracy: 78.80%\n"
          ]
        },
        {
          "output_type": "stream",
          "name": "stderr",
          "text": [
            "100%|██████████| 16/16 [00:00<00:00, 22.27it/s]\n"
          ]
        },
        {
          "output_type": "stream",
          "name": "stdout",
          "text": [
            "Epoch 4, Train Loss: 0.662, Train Accuracy: 77.90%\n",
            "Epoch 4, Val Loss: 0.429, Val Accuracy: 86.80%\n"
          ]
        },
        {
          "output_type": "stream",
          "name": "stderr",
          "text": [
            "100%|██████████| 16/16 [00:00<00:00, 22.56it/s]\n"
          ]
        },
        {
          "output_type": "stream",
          "name": "stdout",
          "text": [
            "Epoch 5, Train Loss: 0.433, Train Accuracy: 86.50%\n",
            "Epoch 5, Val Loss: 0.382, Val Accuracy: 88.60%\n",
            "Treinamento concluído\n",
            "Número de neurônios na camada conectada: 76\n",
            "Acurácia da rede na base de teste: 88.40%\n",
            "\n",
            "\n"
          ]
        },
        {
          "output_type": "stream",
          "name": "stderr",
          "text": [
            "100%|██████████| 16/16 [00:00<00:00, 16.87it/s]\n"
          ]
        },
        {
          "output_type": "stream",
          "name": "stdout",
          "text": [
            "Epoch 1, Train Loss: 2.309, Train Accuracy: 13.60%\n",
            "Epoch 1, Val Loss: 2.224, Val Accuracy: 24.00%\n"
          ]
        },
        {
          "output_type": "stream",
          "name": "stderr",
          "text": [
            "100%|██████████| 16/16 [00:01<00:00, 15.26it/s]\n"
          ]
        },
        {
          "output_type": "stream",
          "name": "stdout",
          "text": [
            "Epoch 2, Train Loss: 2.086, Train Accuracy: 32.10%\n",
            "Epoch 2, Val Loss: 1.801, Val Accuracy: 49.80%\n"
          ]
        },
        {
          "output_type": "stream",
          "name": "stderr",
          "text": [
            "100%|██████████| 16/16 [00:00<00:00, 20.78it/s]\n"
          ]
        },
        {
          "output_type": "stream",
          "name": "stdout",
          "text": [
            "Epoch 3, Train Loss: 1.507, Train Accuracy: 49.70%\n",
            "Epoch 3, Val Loss: 1.058, Val Accuracy: 65.20%\n"
          ]
        },
        {
          "output_type": "stream",
          "name": "stderr",
          "text": [
            "100%|██████████| 16/16 [00:00<00:00, 23.36it/s]\n"
          ]
        },
        {
          "output_type": "stream",
          "name": "stdout",
          "text": [
            "Epoch 4, Train Loss: 0.992, Train Accuracy: 65.80%\n",
            "Epoch 4, Val Loss: 0.715, Val Accuracy: 77.20%\n"
          ]
        },
        {
          "output_type": "stream",
          "name": "stderr",
          "text": [
            "100%|██████████| 16/16 [00:00<00:00, 23.78it/s]\n"
          ]
        },
        {
          "output_type": "stream",
          "name": "stdout",
          "text": [
            "Epoch 5, Train Loss: 0.629, Train Accuracy: 78.90%\n",
            "Epoch 5, Val Loss: 0.555, Val Accuracy: 82.60%\n",
            "Treinamento concluído\n",
            "Número de neurônios na camada conectada: 44\n",
            "Acurácia da rede na base de teste: 87.80%\n",
            "\n",
            "\n"
          ]
        },
        {
          "output_type": "stream",
          "name": "stderr",
          "text": [
            "100%|██████████| 16/16 [00:00<00:00, 22.90it/s]\n"
          ]
        },
        {
          "output_type": "stream",
          "name": "stdout",
          "text": [
            "Epoch 1, Train Loss: 2.242, Train Accuracy: 18.20%\n",
            "Epoch 1, Val Loss: 2.109, Val Accuracy: 38.00%\n"
          ]
        },
        {
          "output_type": "stream",
          "name": "stderr",
          "text": [
            "100%|██████████| 16/16 [00:00<00:00, 22.94it/s]\n"
          ]
        },
        {
          "output_type": "stream",
          "name": "stdout",
          "text": [
            "Epoch 2, Train Loss: 1.840, Train Accuracy: 40.80%\n",
            "Epoch 2, Val Loss: 1.338, Val Accuracy: 64.00%\n"
          ]
        },
        {
          "output_type": "stream",
          "name": "stderr",
          "text": [
            "100%|██████████| 16/16 [00:00<00:00, 22.58it/s]\n"
          ]
        },
        {
          "output_type": "stream",
          "name": "stdout",
          "text": [
            "Epoch 3, Train Loss: 1.179, Train Accuracy: 59.80%\n",
            "Epoch 3, Val Loss: 0.791, Val Accuracy: 75.00%\n"
          ]
        },
        {
          "output_type": "stream",
          "name": "stderr",
          "text": [
            "100%|██████████| 16/16 [00:00<00:00, 23.12it/s]\n"
          ]
        },
        {
          "output_type": "stream",
          "name": "stdout",
          "text": [
            "Epoch 4, Train Loss: 0.774, Train Accuracy: 74.70%\n",
            "Epoch 4, Val Loss: 0.524, Val Accuracy: 86.00%\n"
          ]
        },
        {
          "output_type": "stream",
          "name": "stderr",
          "text": [
            "100%|██████████| 16/16 [00:00<00:00, 22.68it/s]\n"
          ]
        },
        {
          "output_type": "stream",
          "name": "stdout",
          "text": [
            "Epoch 5, Train Loss: 0.502, Train Accuracy: 83.90%\n",
            "Epoch 5, Val Loss: 0.433, Val Accuracy: 86.60%\n",
            "Treinamento concluído\n",
            "Número de neurônios na camada conectada: 41\n",
            "Acurácia da rede na base de teste: 87.60%\n",
            "\n",
            "\n"
          ]
        },
        {
          "output_type": "stream",
          "name": "stderr",
          "text": [
            "100%|██████████| 16/16 [00:00<00:00, 23.11it/s]\n"
          ]
        },
        {
          "output_type": "stream",
          "name": "stdout",
          "text": [
            "Epoch 1, Train Loss: 2.284, Train Accuracy: 15.20%\n",
            "Epoch 1, Val Loss: 2.217, Val Accuracy: 27.40%\n"
          ]
        },
        {
          "output_type": "stream",
          "name": "stderr",
          "text": [
            "100%|██████████| 16/16 [00:00<00:00, 22.83it/s]\n"
          ]
        },
        {
          "output_type": "stream",
          "name": "stdout",
          "text": [
            "Epoch 2, Train Loss: 2.060, Train Accuracy: 31.60%\n",
            "Epoch 2, Val Loss: 1.771, Val Accuracy: 57.20%\n"
          ]
        },
        {
          "output_type": "stream",
          "name": "stderr",
          "text": [
            "100%|██████████| 16/16 [00:00<00:00, 16.71it/s]\n"
          ]
        },
        {
          "output_type": "stream",
          "name": "stdout",
          "text": [
            "Epoch 3, Train Loss: 1.377, Train Accuracy: 56.50%\n",
            "Epoch 3, Val Loss: 0.857, Val Accuracy: 74.60%\n"
          ]
        },
        {
          "output_type": "stream",
          "name": "stderr",
          "text": [
            "100%|██████████| 16/16 [00:01<00:00, 15.29it/s]\n"
          ]
        },
        {
          "output_type": "stream",
          "name": "stdout",
          "text": [
            "Epoch 4, Train Loss: 0.754, Train Accuracy: 74.70%\n",
            "Epoch 4, Val Loss: 0.570, Val Accuracy: 82.40%\n"
          ]
        },
        {
          "output_type": "stream",
          "name": "stderr",
          "text": [
            "100%|██████████| 16/16 [00:00<00:00, 20.36it/s]\n"
          ]
        },
        {
          "output_type": "stream",
          "name": "stdout",
          "text": [
            "Epoch 5, Train Loss: 0.496, Train Accuracy: 85.10%\n",
            "Epoch 5, Val Loss: 0.456, Val Accuracy: 84.60%\n",
            "Treinamento concluído\n",
            "Número de neurônios na camada conectada: 47\n",
            "Acurácia da rede na base de teste: 88.20%\n",
            "\n",
            "\n"
          ]
        }
      ],
      "source": [
        "import torch\n",
        "import torch.nn as nn\n",
        "import torch.optim as optim\n",
        "import torch.nn.functional as F\n",
        "\n",
        "# Definição da CNN class\n",
        "class CNN(nn.Module):\n",
        "    def __init__(self, initialize_weights=True, dropout=0.2, num_filters_1=6, num_filters_2=12, num_hidden=64):\n",
        "        super(CNN, self).__init__()\n",
        "        self.num_filters_2 = num_filters_2\n",
        "        self.conv1 = nn.Conv2d(1, num_filters_1, 5)\n",
        "        self.conv2 = nn.Conv2d(num_filters_1, num_filters_2, 5)\n",
        "        self.fc1 = nn.Linear(num_filters_2 * 4 * 4, 64)\n",
        "        self.fc2 = nn.Linear(64, 10)\n",
        "        self.dropout = nn.Dropout(dropout)\n",
        "\n",
        "        if initialize_weights:\n",
        "            self._initialize_weights()\n",
        "\n",
        "    def forward(self, x):\n",
        "        # Camadas de CNN\n",
        "        x = F.relu(self.conv1(x))\n",
        "        x = F.max_pool2d(x, 2, 2)\n",
        "        x = F.relu(self.conv2(x))\n",
        "        x = F.max_pool2d(x, 2, 2)\n",
        "\n",
        "        # Flatten e Conecção de camadas\n",
        "        x = x.view(-1, self.num_filters_2 * 4 * 4)\n",
        "        x = self.dropout(F.relu(self.fc1(x)))\n",
        "        x = self.fc2(x)\n",
        "\n",
        "        return x\n",
        "\n",
        "    def _initialize_weights(self):\n",
        "        for m in self.modules():\n",
        "            if isinstance(m, nn.Conv2d) or isinstance(m, nn.Linear):\n",
        "                nn.init.xavier_normal_(m.weight)\n",
        "                if m.bias is not None:\n",
        "                    nn.init.constant_(m.bias, 0)\n",
        "\n",
        "for i in range(5):\n",
        "    num_neurons = np.random.randint(10, 100)\n",
        "\n",
        "    model = CNN(\n",
        "        initialize_weights=True,\n",
        "        dropout=0.2,\n",
        "        num_hidden=num_neurons\n",
        "    )\n",
        "\n",
        "    criterion = nn.CrossEntropyLoss()\n",
        "    optimizer = optim.SGD(model.parameters(), lr=0.01, momentum=0.9)\n",
        "\n",
        "    # Treino do modelo CNN\n",
        "    history = train_model(\n",
        "        model=model,\n",
        "        trainloader=trainloader,\n",
        "        valloader=valloader,\n",
        "        criterion=criterion,\n",
        "        optimizer=optimizer\n",
        "    )\n",
        "\n",
        "    print(f'Número de neurônios na camada conectada: {num_neurons}')\n",
        "\n",
        "    # Teste do modelo\n",
        "    test_model(model, testloader)\n",
        "    print()\n",
        "    print()\n"
      ]
    }
  ],
  "metadata": {
    "kernelspec": {
      "display_name": "base",
      "language": "python",
      "name": "python3"
    },
    "language_info": {
      "codemirror_mode": {
        "name": "ipython",
        "version": 3
      },
      "file_extension": ".py",
      "mimetype": "text/x-python",
      "name": "python",
      "nbconvert_exporter": "python",
      "pygments_lexer": "ipython3",
      "version": "3.10.13"
    },
    "colab": {
      "provenance": []
    }
  },
  "nbformat": 4,
  "nbformat_minor": 0
}