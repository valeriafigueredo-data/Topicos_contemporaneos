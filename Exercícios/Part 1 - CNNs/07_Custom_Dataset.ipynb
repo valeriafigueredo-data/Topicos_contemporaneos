{
  "cells": [
    {
      "cell_type": "markdown",
      "source": [
        "**Sétimo Trabalho**\n",
        "\n",
        "**Nome:Valéria Cristina A. R. de Figueredo**"
      ],
      "metadata": {
        "id": "DgIcpVz4sqrS"
      }
    },
    {
      "cell_type": "markdown",
      "metadata": {
        "id": "veyXHdE1sdHj"
      },
      "source": [
        "## Exercício\n",
        "Um dataset sintético contendo alguns exemplos de diferentes formas básicas é criado. Em seguida, crie um dataset e um modelo convolucional que classifique o formato na imagem."
      ]
    },
    {
      "cell_type": "code",
      "execution_count": 121,
      "metadata": {
        "id": "X25cYrWJsdHk"
      },
      "outputs": [],
      "source": [
        "import numpy as np\n",
        "import cv2\n",
        "import os\n",
        "import pandas as pd\n",
        "import matplotlib.pyplot as plt\n",
        "from tqdm import tqdm"
      ]
    },
    {
      "cell_type": "code",
      "execution_count": 122,
      "metadata": {
        "id": "xTPyElO8sdHk"
      },
      "outputs": [],
      "source": [
        "# Parâmetros\n",
        "image_size = 64\n",
        "num_examples = 2000\n",
        "num_classes = 5\n",
        "output_file = \"data/synthetic.csv\""
      ]
    },
    {
      "cell_type": "code",
      "execution_count": 123,
      "metadata": {
        "id": "W21b69pssdHk"
      },
      "outputs": [],
      "source": [
        "# Função para gerar uma imagem de uma determinada classe\n",
        "def generate_image(label):\n",
        "    image = np.zeros((image_size, image_size, 3), dtype=np.uint8)\n",
        "    if label == 0:\n",
        "        # Classe 0: Círculos\n",
        "        center = (np.random.randint(10, image_size-10), np.random.randint(10, image_size-10))\n",
        "        radius = np.random.randint(5, 10)\n",
        "        color = (np.random.randint(256), np.random.randint(256), np.random.randint(256))\n",
        "        cv2.circle(image, center, radius, color, -1)\n",
        "    elif label == 1:\n",
        "        # Classe 1: Triângulos equiláteros\n",
        "        side_length = np.random.randint(10, 20)\n",
        "        height = int(np.sqrt(3)/2 * side_length)\n",
        "        center = (np.random.randint(side_length//2, image_size-side_length//2),\n",
        "                  np.random.randint(height//2, image_size-height//2))\n",
        "        pts = np.array([[center[0], center[1] - 2*height//3],\n",
        "                        [center[0] - side_length//2, center[1] + height//3],\n",
        "                        [center[0] + side_length//2, center[1] + height//3]], np.int32)\n",
        "        pts = pts.reshape((-1, 1, 2))\n",
        "        color = (np.random.randint(256), np.random.randint(256), np.random.randint(256))\n",
        "        cv2.fillPoly(image, [pts], color)\n",
        "    elif label == 2:\n",
        "        # Classe 2: Linhas Horizontais\n",
        "        y = np.random.randint(5, image_size-5)\n",
        "        color = (np.random.randint(256), np.random.randint(256), np.random.randint(256))\n",
        "        thickness = np.random.randint(1, 3)\n",
        "        cv2.line(image, (0, y), (image_size, y), color, thickness)\n",
        "    elif label == 3:\n",
        "        # Classe 3: Quadrados\n",
        "        top_left = (np.random.randint(10, image_size-10), np.random.randint(10, image_size-10))\n",
        "        size = np.random.randint(5, 10)\n",
        "        bottom_right = (top_left[0] + size, top_left[1] + size)\n",
        "        color = (np.random.randint(256), np.random.randint(256), np.random.randint(256))\n",
        "        cv2.rectangle(image, top_left, bottom_right, color, -1)\n",
        "    elif label == 4:\n",
        "        # Classe 4: Linhas Verticais\n",
        "        x = np.random.randint(5, image_size-5)\n",
        "        color = (np.random.randint(256), np.random.randint(256), np.random.randint(256))\n",
        "        thickness = np.random.randint(1, 3)\n",
        "        cv2.line(image, (x, 0), (x, image_size), color, thickness)\n",
        "\n",
        "    image = cv2.cvtColor(image, cv2.COLOR_BGR2RGB)\n",
        "    return image"
      ]
    },
    {
      "cell_type": "code",
      "execution_count": 124,
      "metadata": {
        "id": "x1udN2I6sdHl"
      },
      "outputs": [],
      "source": [
        "def show_image(image):\n",
        "    plt.figure(figsize=(4, 4))\n",
        "    plt.imshow(image)\n",
        "    plt.axis(\"off\")\n",
        "    plt.show()"
      ]
    },
    {
      "cell_type": "code",
      "execution_count": 125,
      "metadata": {
        "id": "eVaSmFaNsdHl",
        "colab": {
          "base_uri": "https://localhost:8080/",
          "height": 345
        },
        "outputId": "86cae85a-8a55-44ae-ab4c-9498814c7a2e"
      },
      "outputs": [
        {
          "output_type": "display_data",
          "data": {
            "text/plain": [
              "<Figure size 400x400 with 1 Axes>"
            ],
            "image/png": "[encoded data removed]"
          },
          "metadata": {}
        }
      ],
      "source": [
        "show_image(generate_image(1))"
      ]
    },
    {
      "cell_type": "code",
      "execution_count": 126,
      "metadata": {
        "id": "3mPrjbbysdHl",
        "colab": {
          "base_uri": "https://localhost:8080/"
        },
        "outputId": "533f1692-149d-4b77-9430-c9d98691c27a"
      },
      "outputs": [
        {
          "output_type": "stream",
          "name": "stderr",
          "text": [
            "100%|██████████| 2000/2000 [00:00<00:00, 11701.94it/s]\n"
          ]
        },
        {
          "output_type": "stream",
          "name": "stdout",
          "text": [
            "Dataset salvo em data/synthetic.csv\n"
          ]
        }
      ],
      "source": [
        "data = []\n",
        "labels = []\n",
        "for _ in tqdm(range(num_examples)):\n",
        "    label = np.random.randint(0, num_classes)\n",
        "    image = generate_image(label).flatten()\n",
        "    data.append(np.concatenate(([label], image)))\n",
        "    labels.append(label)\n",
        "\n",
        "data = np.array(data)\n",
        "\n",
        "# Salvando em CSV\n",
        "df = pd.DataFrame(data)\n",
        "df.to_csv(output_file, index=False, header=False)\n",
        "\n",
        "print(f\"Dataset salvo em {output_file}\")"
      ]
    },
    {
      "cell_type": "code",
      "execution_count": 127,
      "metadata": {
        "id": "S-ZhAVkqsdHl"
      },
      "outputs": [],
      "source": [
        "import torch\n",
        "import torch.nn as nn\n",
        "import torch.optim as optim\n",
        "import torch.nn.functional as F\n",
        "from torch.utils.data import Dataset, DataLoader, Subset\n",
        "import torchvision\n",
        "import torchvision.transforms as transforms"
      ]
    },
    {
      "cell_type": "code",
      "execution_count": 128,
      "metadata": {
        "id": "2f0WNZ65sdHl"
      },
      "outputs": [],
      "source": [
        "# Definição da classe SyntheticCSVLoader para carregar o dataset a partir de um arquivo CSV. Baseie-se no MNISTDataset do notebook \"04 - Basic CNNs.ipynb\"\n",
        "class SyntheticCSVLoader(Dataset):\n",
        "    def __init__(self, csv_file, image_size=64, transform=None):\n",
        "        self.data = pd.read_csv(csv_file, header=None)\n",
        "        self.image_size = image_size\n",
        "        self.transform = transform\n",
        "\n",
        "    def __len__(self):\n",
        "        return len(self.data)\n",
        "\n",
        "    def __getitem__(self, idx):\n",
        "        # A primeira coluna é o rótulo\n",
        "        label = self.data.iloc[idx, 0]\n",
        "\n",
        "        # As demais colunas são os pixels da imagem (64x64x3)\n",
        "        image = self.data.iloc[idx, 1:].values.astype(np.uint8).reshape(self.image_size, self.image_size, 3)\n",
        "\n",
        "        # Converte a imagem para tensor e ajusta os eixos para o formato (C, H, W)\n",
        "        image = torch.tensor(image).permute(2, 0, 1)\n",
        "\n",
        "        if self.transform:\n",
        "            image = self.transform(image)\n",
        "\n",
        "        return image, label"
      ]
    },
    {
      "cell_type": "code",
      "execution_count": 129,
      "metadata": {
        "id": "TZ1ByHbxsdHl"
      },
      "outputs": [],
      "source": [
        "transform = transforms.Compose([\n",
        "    transforms.ToPILImage(),    # Convertendo o array numpy para imagem PIL\n",
        "    transforms.ToTensor(),      # Convertendo a imagem PIL para tensor\n",
        "    transforms.Normalize((0.5,), (0.5,))  # Normalizando a imagem\n",
        "])\n",
        "\n",
        "synthetic_dataset = SyntheticCSVLoader(\n",
        "    csv_file=\"data/synthetic.csv\",\n",
        "    transform=transform\n",
        ")"
      ]
    },
    {
      "cell_type": "code",
      "execution_count": 130,
      "metadata": {
        "id": "Dq5jgP4CsdHl"
      },
      "outputs": [],
      "source": [
        "# Dividindo o dataset em conjuntos de treino e teste\n",
        "trainset = Subset(synthetic_dataset, range(1800))\n",
        "valset = Subset(synthetic_dataset, range(1800, 2000))"
      ]
    },
    {
      "cell_type": "code",
      "execution_count": 131,
      "metadata": {
        "id": "DlrZXD-LsdHl"
      },
      "outputs": [],
      "source": [
        "# Criando DataLoaders para os subsets\n",
        "train_loader = DataLoader(trainset, batch_size=32, shuffle=True)\n",
        "val_loader = DataLoader(valset, batch_size=32, shuffle=True)"
      ]
    },
    {
      "cell_type": "code",
      "source": [
        "x, y = trainset[0]"
      ],
      "metadata": {
        "id": "mShouoBAw39L"
      },
      "execution_count": 132,
      "outputs": []
    },
    {
      "cell_type": "code",
      "source": [
        "x.shape,y"
      ],
      "metadata": {
        "colab": {
          "base_uri": "https://localhost:8080/"
        },
        "id": "COGK8Rr0xDjE",
        "outputId": "43f8a8c3-b805-4de1-d2d7-bb541bdf7e82"
      },
      "execution_count": 133,
      "outputs": [
        {
          "output_type": "execute_result",
          "data": {
            "text/plain": [
              "(torch.Size([3, 64, 64]), 3)"
            ]
          },
          "metadata": {},
          "execution_count": 133
        }
      ]
    },
    {
      "cell_type": "code",
      "execution_count": 134,
      "metadata": {
        "id": "hADX39pmsdHl"
      },
      "outputs": [],
      "source": [
        "def train_model(model, trainloader, valloader, criterion, optimizer, num_epochs=5):\n",
        "    history = {\n",
        "        'train_losses': [],\n",
        "        'val_losses': [],\n",
        "        'train_accuracies': [],\n",
        "        'val_accuracies': []\n",
        "    }\n",
        "\n",
        "    for epoch in range(num_epochs):\n",
        "        # Treinamento\n",
        "        model.train()\n",
        "        running_loss = 0.0\n",
        "        correct = 0\n",
        "        total = 0\n",
        "        for i, data in tqdm(enumerate(trainloader, 0), total=len(trainloader)):\n",
        "            inputs, labels = data\n",
        "\n",
        "            optimizer.zero_grad()\n",
        "\n",
        "            outputs = model(inputs)\n",
        "            loss = criterion(outputs, labels)\n",
        "            loss.backward()\n",
        "            optimizer.step()\n",
        "\n",
        "            running_loss += loss.item()\n",
        "            _, predicted = torch.max(outputs.data, 1)\n",
        "            total += labels.size(0)\n",
        "            correct += (predicted == labels).sum().item()\n",
        "\n",
        "        train_loss = running_loss / len(trainloader)\n",
        "        train_acc = 100 * correct / total\n",
        "        history['train_losses'].append(train_loss)\n",
        "        history['train_accuracies'].append(train_acc)\n",
        "        print(f'Epoch {epoch+1}, Train Loss: {train_loss:.3f}, Train Accuracy: {train_acc:.2f}%')\n",
        "\n",
        "        # Validação\n",
        "        model.eval()\n",
        "        val_running_loss = 0.0\n",
        "        correct = 0\n",
        "        total = 0\n",
        "        with torch.no_grad():\n",
        "            for data in valloader:\n",
        "                inputs, labels = data\n",
        "                outputs = model(inputs)\n",
        "                loss = criterion(outputs, labels)\n",
        "                val_running_loss += loss.item()\n",
        "                _, predicted = torch.max(outputs.data, 1)\n",
        "                total += labels.size(0)\n",
        "                correct += (predicted == labels).sum().item()\n",
        "\n",
        "        val_loss = val_running_loss / len(valloader)\n",
        "        val_acc = 100 * correct / total\n",
        "        history['val_losses'].append(val_loss)\n",
        "        history['val_accuracies'].append(val_acc)\n",
        "        print(f'Epoch {epoch+1}, Val Loss: {val_loss:.3f}, Val Accuracy: {val_acc:.2f}%')\n",
        "\n",
        "    print('Treinamento concluído')\n",
        "    return history\n",
        "\n",
        "\n",
        "def plot_history(history):\n",
        "    fig, (ax1, ax2) = plt.subplots(1, 2, figsize=(12, 4))\n",
        "\n",
        "    ax1.plot(history['train_losses'], label='Train')\n",
        "    ax1.plot(history['val_losses'], label='Validation')\n",
        "    ax1.set_title('Loss')\n",
        "    ax1.legend()\n",
        "\n",
        "    ax2.plot(history['train_accuracies'], label='Train')\n",
        "    ax2.plot(history['val_accuracies'], label='Validation')\n",
        "    ax2.set_title('Accuracy')\n",
        "    ax2.legend()\n",
        "\n",
        "    plt.show()\n",
        "\n",
        "\n",
        "def test_model(model, testloader):\n",
        "    correct = 0\n",
        "    total = 0\n",
        "    with torch.no_grad():\n",
        "        for data in testloader:\n",
        "            images, labels = data\n",
        "            outputs = model(images)\n",
        "            _, predicted = torch.max(outputs.data, 1)\n",
        "            total += labels.size(0)\n",
        "            correct += (predicted == labels).sum().item()\n",
        "\n",
        "    print(f'Acurácia da rede na base de teste: {100 * correct / total:.2f}%')"
      ]
    },
    {
      "cell_type": "code",
      "execution_count": 135,
      "metadata": {
        "id": "QrxCw4VwsdHl",
        "colab": {
          "base_uri": "https://localhost:8080/"
        },
        "outputId": "e008ef64-dbc4-4851-896a-34f238e5f357"
      },
      "outputs": [
        {
          "output_type": "execute_result",
          "data": {
            "text/plain": [
              "torch.Size([32, 5])"
            ]
          },
          "metadata": {},
          "execution_count": 135
        }
      ],
      "source": [
        "class CNN(nn.Module):\n",
        "    def __init__(self, num_classes=5):\n",
        "        super().__init__()\n",
        "        self.net = nn.Sequential(\n",
        "            nn.Conv2d(3,8,5),\n",
        "            nn.ReLU(),\n",
        "            nn.MaxPool2d(2),\n",
        "            nn.Dropout(0.2),\n",
        "\n",
        "            nn.Conv2d(8,16,5),\n",
        "            nn.ReLU(),\n",
        "            nn.MaxPool2d(2),\n",
        "            nn.Dropout(0.2),\n",
        "\n",
        "            nn.Flatten(),\n",
        "\n",
        "            nn.Linear(16*13*13,64),\n",
        "            nn.ReLU(),\n",
        "            nn.Linear(64, num_classes)\n",
        "        )\n",
        "\n",
        "    def forward(self, x):\n",
        "        x= self.net(x)\n",
        "        return x\n",
        "\n",
        "\n",
        "model = CNN()\n",
        "\n",
        "images, labels = next(iter(val_loader))\n",
        "\n",
        "model(images).shape"
      ]
    },
    {
      "cell_type": "code",
      "execution_count": 136,
      "metadata": {
        "id": "6pJELa6usdHl"
      },
      "outputs": [],
      "source": [
        "criterion = nn.CrossEntropyLoss()\n",
        "optimizer = optim.SGD(model.parameters(), lr=0.01, momentum=0.9)\n",
        "# optimizer = optim.Adam(model.parameters(), lr=1e-3)"
      ]
    },
    {
      "cell_type": "code",
      "execution_count": 137,
      "metadata": {
        "id": "8mJ63g9WsdHl",
        "colab": {
          "base_uri": "https://localhost:8080/"
        },
        "outputId": "1a6912e6-fd13-4230-c420-ebcc23e6e664"
      },
      "outputs": [
        {
          "output_type": "stream",
          "name": "stderr",
          "text": [
            "100%|██████████| 57/57 [00:04<00:00, 13.13it/s]\n"
          ]
        },
        {
          "output_type": "stream",
          "name": "stdout",
          "text": [
            "Epoch 1, Train Loss: 1.612, Train Accuracy: 20.33%\n",
            "Epoch 1, Val Loss: 1.604, Val Accuracy: 23.00%\n"
          ]
        },
        {
          "output_type": "stream",
          "name": "stderr",
          "text": [
            "100%|██████████| 57/57 [00:03<00:00, 14.75it/s]\n"
          ]
        },
        {
          "output_type": "stream",
          "name": "stdout",
          "text": [
            "Epoch 2, Train Loss: 1.606, Train Accuracy: 24.39%\n",
            "Epoch 2, Val Loss: 1.602, Val Accuracy: 24.00%\n"
          ]
        },
        {
          "output_type": "stream",
          "name": "stderr",
          "text": [
            "100%|██████████| 57/57 [00:03<00:00, 15.82it/s]\n"
          ]
        },
        {
          "output_type": "stream",
          "name": "stdout",
          "text": [
            "Epoch 3, Train Loss: 1.586, Train Accuracy: 27.11%\n",
            "Epoch 3, Val Loss: 1.546, Val Accuracy: 43.50%\n"
          ]
        },
        {
          "output_type": "stream",
          "name": "stderr",
          "text": [
            "100%|██████████| 57/57 [00:03<00:00, 14.31it/s]\n"
          ]
        },
        {
          "output_type": "stream",
          "name": "stdout",
          "text": [
            "Epoch 4, Train Loss: 1.453, Train Accuracy: 44.50%\n",
            "Epoch 4, Val Loss: 1.416, Val Accuracy: 48.00%\n"
          ]
        },
        {
          "output_type": "stream",
          "name": "stderr",
          "text": [
            "100%|██████████| 57/57 [00:04<00:00, 13.96it/s]\n"
          ]
        },
        {
          "output_type": "stream",
          "name": "stdout",
          "text": [
            "Epoch 5, Train Loss: 1.222, Train Accuracy: 49.94%\n",
            "Epoch 5, Val Loss: 1.119, Val Accuracy: 58.50%\n"
          ]
        },
        {
          "output_type": "stream",
          "name": "stderr",
          "text": [
            "100%|██████████| 57/57 [00:03<00:00, 15.77it/s]\n"
          ]
        },
        {
          "output_type": "stream",
          "name": "stdout",
          "text": [
            "Epoch 6, Train Loss: 0.999, Train Accuracy: 59.72%\n",
            "Epoch 6, Val Loss: 0.656, Val Accuracy: 67.50%\n"
          ]
        },
        {
          "output_type": "stream",
          "name": "stderr",
          "text": [
            "100%|██████████| 57/57 [00:03<00:00, 15.27it/s]\n"
          ]
        },
        {
          "output_type": "stream",
          "name": "stdout",
          "text": [
            "Epoch 7, Train Loss: 0.671, Train Accuracy: 67.83%\n",
            "Epoch 7, Val Loss: 0.599, Val Accuracy: 69.00%\n"
          ]
        },
        {
          "output_type": "stream",
          "name": "stderr",
          "text": [
            "100%|██████████| 57/57 [00:04<00:00, 12.89it/s]\n"
          ]
        },
        {
          "output_type": "stream",
          "name": "stdout",
          "text": [
            "Epoch 8, Train Loss: 0.615, Train Accuracy: 71.39%\n",
            "Epoch 8, Val Loss: 0.550, Val Accuracy: 71.50%\n"
          ]
        },
        {
          "output_type": "stream",
          "name": "stderr",
          "text": [
            "100%|██████████| 57/57 [00:03<00:00, 15.68it/s]\n"
          ]
        },
        {
          "output_type": "stream",
          "name": "stdout",
          "text": [
            "Epoch 9, Train Loss: 0.624, Train Accuracy: 71.61%\n",
            "Epoch 9, Val Loss: 0.529, Val Accuracy: 71.50%\n"
          ]
        },
        {
          "output_type": "stream",
          "name": "stderr",
          "text": [
            "100%|██████████| 57/57 [00:03<00:00, 15.85it/s]\n"
          ]
        },
        {
          "output_type": "stream",
          "name": "stdout",
          "text": [
            "Epoch 10, Train Loss: 0.574, Train Accuracy: 74.11%\n",
            "Epoch 10, Val Loss: 0.504, Val Accuracy: 72.50%\n"
          ]
        },
        {
          "output_type": "stream",
          "name": "stderr",
          "text": [
            "100%|██████████| 57/57 [00:04<00:00, 12.59it/s]\n"
          ]
        },
        {
          "output_type": "stream",
          "name": "stdout",
          "text": [
            "Epoch 11, Train Loss: 0.477, Train Accuracy: 79.94%\n",
            "Epoch 11, Val Loss: 0.482, Val Accuracy: 76.00%\n"
          ]
        },
        {
          "output_type": "stream",
          "name": "stderr",
          "text": [
            "100%|██████████| 57/57 [00:03<00:00, 15.96it/s]\n"
          ]
        },
        {
          "output_type": "stream",
          "name": "stdout",
          "text": [
            "Epoch 12, Train Loss: 0.417, Train Accuracy: 82.39%\n",
            "Epoch 12, Val Loss: 0.390, Val Accuracy: 83.50%\n"
          ]
        },
        {
          "output_type": "stream",
          "name": "stderr",
          "text": [
            "100%|██████████| 57/57 [00:03<00:00, 15.93it/s]\n"
          ]
        },
        {
          "output_type": "stream",
          "name": "stdout",
          "text": [
            "Epoch 13, Train Loss: 0.343, Train Accuracy: 86.61%\n",
            "Epoch 13, Val Loss: 0.378, Val Accuracy: 84.00%\n"
          ]
        },
        {
          "output_type": "stream",
          "name": "stderr",
          "text": [
            "100%|██████████| 57/57 [00:04<00:00, 11.90it/s]\n"
          ]
        },
        {
          "output_type": "stream",
          "name": "stdout",
          "text": [
            "Epoch 14, Train Loss: 0.284, Train Accuracy: 88.50%\n",
            "Epoch 14, Val Loss: 0.299, Val Accuracy: 90.50%\n"
          ]
        },
        {
          "output_type": "stream",
          "name": "stderr",
          "text": [
            "100%|██████████| 57/57 [00:03<00:00, 15.68it/s]\n"
          ]
        },
        {
          "output_type": "stream",
          "name": "stdout",
          "text": [
            "Epoch 15, Train Loss: 0.222, Train Accuracy: 91.61%\n",
            "Epoch 15, Val Loss: 0.221, Val Accuracy: 92.00%\n",
            "Treinamento concluído\n"
          ]
        }
      ],
      "source": [
        "# Treinamento\n",
        "history = train_model(model, train_loader, val_loader, criterion, optimizer, num_epochs=15)"
      ]
    },
    {
      "cell_type": "code",
      "execution_count": 138,
      "metadata": {
        "id": "cD49gWl5sdHl",
        "colab": {
          "base_uri": "https://localhost:8080/"
        },
        "outputId": "cf29fd00-547c-40c0-a670-f260503f354d"
      },
      "outputs": [
        {
          "output_type": "stream",
          "name": "stdout",
          "text": [
            "Acurácia da rede na base de teste: 92.00%\n"
          ]
        }
      ],
      "source": [
        "# Teste\n",
        "test_model(model, val_loader)"
      ]
    },
    {
      "cell_type": "code",
      "execution_count": 139,
      "metadata": {
        "id": "fXN8Kx_3sdHl",
        "colab": {
          "base_uri": "https://localhost:8080/",
          "height": 391
        },
        "outputId": "04ae7c4b-e4e1-40a9-be28-8c4297a11d57"
      },
      "outputs": [
        {
          "output_type": "display_data",
          "data": {
            "text/plain": [
              "<Figure size 1200x400 with 2 Axes>"
            ],
            "image/png": "[encoded data removed]"
          },
          "metadata": {}
        }
      ],
      "source": [
        "plot_history(history)"
      ]
    }
  ],
  "metadata": {
    "kernelspec": {
      "display_name": "base",
      "language": "python",
      "name": "python3"
    },
    "language_info": {
      "codemirror_mode": {
        "name": "ipython",
        "version": 3
      },
      "file_extension": ".py",
      "mimetype": "text/x-python",
      "name": "python",
      "nbconvert_exporter": "python",
      "pygments_lexer": "ipython3",
      "version": "3.10.13"
    },
    "colab": {
      "provenance": []
    }
  },
  "nbformat": 4,
  "nbformat_minor": 0
}