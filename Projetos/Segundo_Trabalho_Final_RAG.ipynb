{
  "cells": [
    {
      "cell_type": "markdown",
      "source": [
        "**Segundo Projeto Final**\n",
        "\n",
        "**Disciplina Tópicos Contemporâneos**\n",
        "\n",
        "**Discentes:**\n",
        "\n",
        "**Valéria Cristina A. R. de Figueredo** (vcarf@cesar.school)\n",
        "\n",
        "**Manuela de Lacerda Bezerra Carvalho** (mlbc@cesar.school)"
      ],
      "metadata": {
        "id": "CRcjW5_Iyakd"
      }
    },
    {
      "cell_type": "markdown",
      "source": [
        "**Objetivo do Projeto:** Construção de um RAG utilizando LangChain\n",
        "\n",
        "Deverá ser desenvolvido um sistema RAG (Retrieval-Augmented Generation), utilizando a biblioteca LangChain para um ou mais documentos. Pode ser arquivos PDF, de texto, páginas da web, etc. O projeto será avaliado nos seguintes aspectos: escolha do documento, splitting do documento, criação de vector store retrieval, geração de respostas."
      ],
      "metadata": {
        "id": "UFaFOEF0HZGg"
      }
    },
    {
      "cell_type": "markdown",
      "source": [
        "**DESCRIÇÃO DO DOCUMENTO**\n",
        "\n",
        "O Projeto de Lei nº 2338/2023 (“PL de Inteligência Artificial) visa estabelecer diretrizes e normas para o uso de tecnologias de inteligência artificial no Brasil.\n",
        "\n",
        "O objetivo é que se torne o marco Legal de Inteligência Artificial, assim como estabeleça direitos para proteger os cidadãos e implemente ferramentas de governança, que serão operadas por instituições responsáveis pela fiscalização e supervisão das tecnologias de IA.\n",
        "\n",
        "A sua compreensão pelos agentes de inteligência artificial é de grande importância para buscar salvaguardar a população em geral dos efeitos danosos da I.A., bem como permitir o avanço da I.A. de forma segura.\n",
        "\n",
        "O Substitutivo ao Projeto de Lei 2338/2023 (“PL de IA”) foi aprovado pelo plenário do Senado Federal no dia 10/12/2024. O PL segue para a Câmara dos Deputados onde deverá ser analisado para aprovação e sanção ou, caso sofra alterações, voltar ao Senado para deliberação final.\n",
        "\n",
        "A Comissão Temporária sobre Inteligência Artificial do Senado Federal aprovou o Substitutivo 199 ao PL. Uma das alterações foi a exclusão da classificação como sistemas de IA de alto risco aqueles utilizados para \"curadoria, difusão, recomendação e distribuição, em grande escala e de forma significativamente automatizada, de conteúdo\" — direcionados às plataformas digitais.\n",
        "\n",
        "Assim como ocorreu essa mudança, outras ainda podem ocorrer. Daí a importância dos agentes de Inteligência Artificial e da população em geral terem conhecimento do andamento desse projeto de lei para fins de participação de cunho democrático, cobranças e melhorias."
      ],
      "metadata": {
        "id": "qxKF4s2JFh-X"
      }
    },
    {
      "cell_type": "markdown",
      "source": [
        "# **1. Importar Bibliotecas**"
      ],
      "metadata": {
        "id": "LmfXzMhl0EtP"
      }
    },
    {
      "cell_type": "code",
      "source": [
        "! pip install langchain langchain_openai langchain_community\n",
        "! pip install faiss-cpu\n",
        "!pip install pypdf"
      ],
      "metadata": {
        "colab": {
          "base_uri": "https://localhost:8080/"
        },
        "id": "fqv8KOFU3ChF",
        "outputId": "ae17cccb-dace-4b07-8f18-f301c6f6d8c2"
      },
      "execution_count": 1,
      "outputs": [
        {
          "output_type": "stream",
          "name": "stdout",
          "text": [
            "Requirement already satisfied: langchain in /usr/local/lib/python3.10/dist-packages (0.3.12)\n",
            "Collecting langchain_openai\n",
            "  Downloading langchain_openai-0.2.14-py3-none-any.whl.metadata (2.7 kB)\n",
            "Collecting langchain_community\n",
            "  Downloading langchain_community-0.3.14-py3-none-any.whl.metadata (2.9 kB)\n",
            "Requirement already satisfied: PyYAML>=5.3 in /usr/local/lib/python3.10/dist-packages (from langchain) (6.0.2)\n",
            "Requirement already satisfied: SQLAlchemy<3,>=1.4 in /usr/local/lib/python3.10/dist-packages (from langchain) (2.0.36)\n",
            "Requirement already satisfied: aiohttp<4.0.0,>=3.8.3 in /usr/local/lib/python3.10/dist-packages (from langchain) (3.11.10)\n",
            "Requirement already satisfied: async-timeout<5.0.0,>=4.0.0 in /usr/local/lib/python3.10/dist-packages (from langchain) (4.0.3)\n",
            "Requirement already satisfied: langchain-core<0.4.0,>=0.3.25 in /usr/local/lib/python3.10/dist-packages (from langchain) (0.3.25)\n",
            "Requirement already satisfied: langchain-text-splitters<0.4.0,>=0.3.3 in /usr/local/lib/python3.10/dist-packages (from langchain) (0.3.3)\n",
            "Requirement already satisfied: langsmith<0.3,>=0.1.17 in /usr/local/lib/python3.10/dist-packages (from langchain) (0.2.3)\n",
            "Requirement already satisfied: numpy<2,>=1.22.4 in /usr/local/lib/python3.10/dist-packages (from langchain) (1.26.4)\n",
            "Requirement already satisfied: pydantic<3.0.0,>=2.7.4 in /usr/local/lib/python3.10/dist-packages (from langchain) (2.10.3)\n",
            "Requirement already satisfied: requests<3,>=2 in /usr/local/lib/python3.10/dist-packages (from langchain) (2.32.3)\n",
            "Requirement already satisfied: tenacity!=8.4.0,<10,>=8.1.0 in /usr/local/lib/python3.10/dist-packages (from langchain) (9.0.0)\n",
            "Collecting langchain-core<0.4.0,>=0.3.25 (from langchain)\n",
            "  Downloading langchain_core-0.3.29-py3-none-any.whl.metadata (6.3 kB)\n",
            "Collecting openai<2.0.0,>=1.58.1 (from langchain_openai)\n",
            "  Downloading openai-1.59.3-py3-none-any.whl.metadata (27 kB)\n",
            "Collecting tiktoken<1,>=0.7 (from langchain_openai)\n",
            "  Downloading tiktoken-0.8.0-cp310-cp310-manylinux_2_17_x86_64.manylinux2014_x86_64.whl.metadata (6.6 kB)\n",
            "Collecting dataclasses-json<0.7,>=0.5.7 (from langchain_community)\n",
            "  Downloading dataclasses_json-0.6.7-py3-none-any.whl.metadata (25 kB)\n",
            "Collecting httpx-sse<0.5.0,>=0.4.0 (from langchain_community)\n",
            "  Downloading httpx_sse-0.4.0-py3-none-any.whl.metadata (9.0 kB)\n",
            "Collecting langchain\n",
            "  Downloading langchain-0.3.14-py3-none-any.whl.metadata (7.1 kB)\n",
            "Collecting pydantic-settings<3.0.0,>=2.4.0 (from langchain_community)\n",
            "  Downloading pydantic_settings-2.7.1-py3-none-any.whl.metadata (3.5 kB)\n",
            "Requirement already satisfied: aiohappyeyeballs>=2.3.0 in /usr/local/lib/python3.10/dist-packages (from aiohttp<4.0.0,>=3.8.3->langchain) (2.4.4)\n",
            "Requirement already satisfied: aiosignal>=1.1.2 in /usr/local/lib/python3.10/dist-packages (from aiohttp<4.0.0,>=3.8.3->langchain) (1.3.2)\n",
            "Requirement already satisfied: attrs>=17.3.0 in /usr/local/lib/python3.10/dist-packages (from aiohttp<4.0.0,>=3.8.3->langchain) (24.3.0)\n",
            "Requirement already satisfied: frozenlist>=1.1.1 in /usr/local/lib/python3.10/dist-packages (from aiohttp<4.0.0,>=3.8.3->langchain) (1.5.0)\n",
            "Requirement already satisfied: multidict<7.0,>=4.5 in /usr/local/lib/python3.10/dist-packages (from aiohttp<4.0.0,>=3.8.3->langchain) (6.1.0)\n",
            "Requirement already satisfied: propcache>=0.2.0 in /usr/local/lib/python3.10/dist-packages (from aiohttp<4.0.0,>=3.8.3->langchain) (0.2.1)\n",
            "Requirement already satisfied: yarl<2.0,>=1.17.0 in /usr/local/lib/python3.10/dist-packages (from aiohttp<4.0.0,>=3.8.3->langchain) (1.18.3)\n",
            "Collecting marshmallow<4.0.0,>=3.18.0 (from dataclasses-json<0.7,>=0.5.7->langchain_community)\n",
            "  Downloading marshmallow-3.23.3-py3-none-any.whl.metadata (7.1 kB)\n",
            "Collecting typing-inspect<1,>=0.4.0 (from dataclasses-json<0.7,>=0.5.7->langchain_community)\n",
            "  Downloading typing_inspect-0.9.0-py3-none-any.whl.metadata (1.5 kB)\n",
            "Requirement already satisfied: jsonpatch<2.0,>=1.33 in /usr/local/lib/python3.10/dist-packages (from langchain-core<0.4.0,>=0.3.25->langchain) (1.33)\n",
            "Requirement already satisfied: packaging<25,>=23.2 in /usr/local/lib/python3.10/dist-packages (from langchain-core<0.4.0,>=0.3.25->langchain) (24.2)\n",
            "Requirement already satisfied: typing-extensions>=4.7 in /usr/local/lib/python3.10/dist-packages (from langchain-core<0.4.0,>=0.3.25->langchain) (4.12.2)\n",
            "Requirement already satisfied: httpx<1,>=0.23.0 in /usr/local/lib/python3.10/dist-packages (from langsmith<0.3,>=0.1.17->langchain) (0.28.1)\n",
            "Requirement already satisfied: orjson<4.0.0,>=3.9.14 in /usr/local/lib/python3.10/dist-packages (from langsmith<0.3,>=0.1.17->langchain) (3.10.12)\n",
            "Requirement already satisfied: requests-toolbelt<2.0.0,>=1.0.0 in /usr/local/lib/python3.10/dist-packages (from langsmith<0.3,>=0.1.17->langchain) (1.0.0)\n",
            "Requirement already satisfied: anyio<5,>=3.5.0 in /usr/local/lib/python3.10/dist-packages (from openai<2.0.0,>=1.58.1->langchain_openai) (3.7.1)\n",
            "Requirement already satisfied: distro<2,>=1.7.0 in /usr/local/lib/python3.10/dist-packages (from openai<2.0.0,>=1.58.1->langchain_openai) (1.9.0)\n",
            "Requirement already satisfied: jiter<1,>=0.4.0 in /usr/local/lib/python3.10/dist-packages (from openai<2.0.0,>=1.58.1->langchain_openai) (0.8.2)\n",
            "Requirement already satisfied: sniffio in /usr/local/lib/python3.10/dist-packages (from openai<2.0.0,>=1.58.1->langchain_openai) (1.3.1)\n",
            "Requirement already satisfied: tqdm>4 in /usr/local/lib/python3.10/dist-packages (from openai<2.0.0,>=1.58.1->langchain_openai) (4.67.1)\n",
            "Requirement already satisfied: annotated-types>=0.6.0 in /usr/local/lib/python3.10/dist-packages (from pydantic<3.0.0,>=2.7.4->langchain) (0.7.0)\n",
            "Requirement already satisfied: pydantic-core==2.27.1 in /usr/local/lib/python3.10/dist-packages (from pydantic<3.0.0,>=2.7.4->langchain) (2.27.1)\n",
            "Collecting python-dotenv>=0.21.0 (from pydantic-settings<3.0.0,>=2.4.0->langchain_community)\n",
            "  Downloading python_dotenv-1.0.1-py3-none-any.whl.metadata (23 kB)\n",
            "Requirement already satisfied: charset-normalizer<4,>=2 in /usr/local/lib/python3.10/dist-packages (from requests<3,>=2->langchain) (3.4.0)\n",
            "Requirement already satisfied: idna<4,>=2.5 in /usr/local/lib/python3.10/dist-packages (from requests<3,>=2->langchain) (3.10)\n",
            "Requirement already satisfied: urllib3<3,>=1.21.1 in /usr/local/lib/python3.10/dist-packages (from requests<3,>=2->langchain) (2.2.3)\n",
            "Requirement already satisfied: certifi>=2017.4.17 in /usr/local/lib/python3.10/dist-packages (from requests<3,>=2->langchain) (2024.12.14)\n",
            "Requirement already satisfied: greenlet!=0.4.17 in /usr/local/lib/python3.10/dist-packages (from SQLAlchemy<3,>=1.4->langchain) (3.1.1)\n",
            "Requirement already satisfied: regex>=2022.1.18 in /usr/local/lib/python3.10/dist-packages (from tiktoken<1,>=0.7->langchain_openai) (2024.11.6)\n",
            "Requirement already satisfied: exceptiongroup in /usr/local/lib/python3.10/dist-packages (from anyio<5,>=3.5.0->openai<2.0.0,>=1.58.1->langchain_openai) (1.2.2)\n",
            "Requirement already satisfied: httpcore==1.* in /usr/local/lib/python3.10/dist-packages (from httpx<1,>=0.23.0->langsmith<0.3,>=0.1.17->langchain) (1.0.7)\n",
            "Requirement already satisfied: h11<0.15,>=0.13 in /usr/local/lib/python3.10/dist-packages (from httpcore==1.*->httpx<1,>=0.23.0->langsmith<0.3,>=0.1.17->langchain) (0.14.0)\n",
            "Requirement already satisfied: jsonpointer>=1.9 in /usr/local/lib/python3.10/dist-packages (from jsonpatch<2.0,>=1.33->langchain-core<0.4.0,>=0.3.25->langchain) (3.0.0)\n",
            "Collecting mypy-extensions>=0.3.0 (from typing-inspect<1,>=0.4.0->dataclasses-json<0.7,>=0.5.7->langchain_community)\n",
            "  Downloading mypy_extensions-1.0.0-py3-none-any.whl.metadata (1.1 kB)\n",
            "Downloading langchain_openai-0.2.14-py3-none-any.whl (50 kB)\n",
            "\u001b[2K   \u001b[90m━━━━━━━━━━━━━━━━━━━━━━━━━━━━━━━━━━━━━━━━\u001b[0m \u001b[32m50.9/50.9 kB\u001b[0m \u001b[31m5.1 MB/s\u001b[0m eta \u001b[36m0:00:00\u001b[0m\n",
            "\u001b[?25hDownloading langchain_community-0.3.14-py3-none-any.whl (2.5 MB)\n",
            "\u001b[2K   \u001b[90m━━━━━━━━━━━━━━━━━━━━━━━━━━━━━━━━━━━━━━━━\u001b[0m \u001b[32m2.5/2.5 MB\u001b[0m \u001b[31m26.6 MB/s\u001b[0m eta \u001b[36m0:00:00\u001b[0m\n",
            "\u001b[?25hDownloading langchain-0.3.14-py3-none-any.whl (1.0 MB)\n",
            "\u001b[2K   \u001b[90m━━━━━━━━━━━━━━━━━━━━━━━━━━━━━━━━━━━━━━━━\u001b[0m \u001b[32m1.0/1.0 MB\u001b[0m \u001b[31m32.4 MB/s\u001b[0m eta \u001b[36m0:00:00\u001b[0m\n",
            "\u001b[?25hDownloading dataclasses_json-0.6.7-py3-none-any.whl (28 kB)\n",
            "Downloading httpx_sse-0.4.0-py3-none-any.whl (7.8 kB)\n",
            "Downloading langchain_core-0.3.29-py3-none-any.whl (411 kB)\n",
            "\u001b[2K   \u001b[90m━━━━━━━━━━━━━━━━━━━━━━━━━━━━━━━━━━━━━━━━\u001b[0m \u001b[32m411.6/411.6 kB\u001b[0m \u001b[31m28.3 MB/s\u001b[0m eta \u001b[36m0:00:00\u001b[0m\n",
            "\u001b[?25hDownloading openai-1.59.3-py3-none-any.whl (454 kB)\n",
            "\u001b[2K   \u001b[90m━━━━━━━━━━━━━━━━━━━━━━━━━━━━━━━━━━━━━━━━\u001b[0m \u001b[32m454.8/454.8 kB\u001b[0m \u001b[31m32.0 MB/s\u001b[0m eta \u001b[36m0:00:00\u001b[0m\n",
            "\u001b[?25hDownloading pydantic_settings-2.7.1-py3-none-any.whl (29 kB)\n",
            "Downloading tiktoken-0.8.0-cp310-cp310-manylinux_2_17_x86_64.manylinux2014_x86_64.whl (1.2 MB)\n",
            "\u001b[2K   \u001b[90m━━━━━━━━━━━━━━━━━━━━━━━━━━━━━━━━━━━━━━━━\u001b[0m \u001b[32m1.2/1.2 MB\u001b[0m \u001b[31m51.9 MB/s\u001b[0m eta \u001b[36m0:00:00\u001b[0m\n",
            "\u001b[?25hDownloading marshmallow-3.23.3-py3-none-any.whl (48 kB)\n",
            "\u001b[2K   \u001b[90m━━━━━━━━━━━━━━━━━━━━━━━━━━━━━━━━━━━━━━━━\u001b[0m \u001b[32m48.9/48.9 kB\u001b[0m \u001b[31m4.5 MB/s\u001b[0m eta \u001b[36m0:00:00\u001b[0m\n",
            "\u001b[?25hDownloading python_dotenv-1.0.1-py3-none-any.whl (19 kB)\n",
            "Downloading typing_inspect-0.9.0-py3-none-any.whl (8.8 kB)\n",
            "Downloading mypy_extensions-1.0.0-py3-none-any.whl (4.7 kB)\n",
            "Installing collected packages: python-dotenv, mypy-extensions, marshmallow, httpx-sse, typing-inspect, tiktoken, pydantic-settings, openai, dataclasses-json, langchain-core, langchain_openai, langchain, langchain_community\n",
            "  Attempting uninstall: openai\n",
            "    Found existing installation: openai 1.57.4\n",
            "    Uninstalling openai-1.57.4:\n",
            "      Successfully uninstalled openai-1.57.4\n",
            "  Attempting uninstall: langchain-core\n",
            "    Found existing installation: langchain-core 0.3.25\n",
            "    Uninstalling langchain-core-0.3.25:\n",
            "      Successfully uninstalled langchain-core-0.3.25\n",
            "  Attempting uninstall: langchain\n",
            "    Found existing installation: langchain 0.3.12\n",
            "    Uninstalling langchain-0.3.12:\n",
            "      Successfully uninstalled langchain-0.3.12\n",
            "Successfully installed dataclasses-json-0.6.7 httpx-sse-0.4.0 langchain-0.3.14 langchain-core-0.3.29 langchain_community-0.3.14 langchain_openai-0.2.14 marshmallow-3.23.3 mypy-extensions-1.0.0 openai-1.59.3 pydantic-settings-2.7.1 python-dotenv-1.0.1 tiktoken-0.8.0 typing-inspect-0.9.0\n",
            "Collecting faiss-cpu\n",
            "  Downloading faiss_cpu-1.9.0.post1-cp310-cp310-manylinux_2_17_x86_64.manylinux2014_x86_64.whl.metadata (4.4 kB)\n",
            "Requirement already satisfied: numpy<3.0,>=1.25.0 in /usr/local/lib/python3.10/dist-packages (from faiss-cpu) (1.26.4)\n",
            "Requirement already satisfied: packaging in /usr/local/lib/python3.10/dist-packages (from faiss-cpu) (24.2)\n",
            "Downloading faiss_cpu-1.9.0.post1-cp310-cp310-manylinux_2_17_x86_64.manylinux2014_x86_64.whl (27.5 MB)\n",
            "\u001b[2K   \u001b[90m━━━━━━━━━━━━━━━━━━━━━━━━━━━━━━━━━━━━━━━━\u001b[0m \u001b[32m27.5/27.5 MB\u001b[0m \u001b[31m62.3 MB/s\u001b[0m eta \u001b[36m0:00:00\u001b[0m\n",
            "\u001b[?25hInstalling collected packages: faiss-cpu\n",
            "Successfully installed faiss-cpu-1.9.0.post1\n",
            "Collecting pypdf\n",
            "  Downloading pypdf-5.1.0-py3-none-any.whl.metadata (7.2 kB)\n",
            "Requirement already satisfied: typing_extensions>=4.0 in /usr/local/lib/python3.10/dist-packages (from pypdf) (4.12.2)\n",
            "Downloading pypdf-5.1.0-py3-none-any.whl (297 kB)\n",
            "\u001b[2K   \u001b[90m━━━━━━━━━━━━━━━━━━━━━━━━━━━━━━━━━━━━━━━━\u001b[0m \u001b[32m298.0/298.0 kB\u001b[0m \u001b[31m4.2 MB/s\u001b[0m eta \u001b[36m0:00:00\u001b[0m\n",
            "\u001b[?25hInstalling collected packages: pypdf\n",
            "Successfully installed pypdf-5.1.0\n"
          ]
        }
      ]
    },
    {
      "cell_type": "code",
      "source": [
        "from langchain_community.document_loaders import PyPDFLoader\n",
        "from langchain_text_splitters import RecursiveCharacterTextSplitter\n",
        "from langchain_openai import OpenAIEmbeddings\n",
        "from langchain.vectorstores import FAISS\n",
        "import os\n",
        "import getpass\n",
        "\n"
      ],
      "metadata": {
        "id": "IyDa9KaDyP59"
      },
      "execution_count": 2,
      "outputs": []
    },
    {
      "cell_type": "code",
      "source": [
        "# Solicita a chave da API do OpenAI\n",
        "openai_api_key = getpass.getpass(prompt=\"Digite sua chave da API OpenAI: \")\n",
        "os.environ[\"OPENAI_API_KEY\"] = openai_api_key"
      ],
      "metadata": {
        "colab": {
          "base_uri": "https://localhost:8080/"
        },
        "id": "1E-hMsFJy9jw",
        "outputId": "1d30fc87-0cd1-48e1-cf23-845d8a8e5e6a"
      },
      "execution_count": 3,
      "outputs": [
        {
          "name": "stdout",
          "output_type": "stream",
          "text": [
            "Digite sua chave da API OpenAI: ··········\n"
          ]
        }
      ]
    },
    {
      "cell_type": "markdown",
      "metadata": {
        "id": "vQ0dUCxVyWtz"
      },
      "source": [
        "## **Retrieval Augmented Generation (RAG)**"
      ]
    },
    {
      "cell_type": "markdown",
      "metadata": {
        "id": "4QrAfKnuyWt1"
      },
      "source": [
        "# **2. Carregando Documentos - Loading**"
      ]
    },
    {
      "cell_type": "markdown",
      "source": [
        "Carregamento do documento usando PyPDFLoader."
      ],
      "metadata": {
        "id": "0P-7HQHMoz4b"
      }
    },
    {
      "cell_type": "code",
      "source": [
        "# Carregar o conteúdo da página\n",
        "file_path = (\n",
        "    \"https://legis.senado.leg.br/sdleg-getter/documento?dm=9347622&ts=1735605216274&disposition=inline\"\n",
        ")\n",
        "\n",
        "loader = PyPDFLoader(file_path)\n",
        "\n",
        "# Carregar o conteúdo da página\n",
        "docs = loader.load_and_split()\n",
        "\n",
        "# Exibir o texto extraído\n",
        "print(docs[1])"
      ],
      "metadata": {
        "colab": {
          "base_uri": "https://localhost:8080/"
        },
        "id": "ox9ue4hgadYi",
        "outputId": "6a4ab64e-3136-45ea-ca3d-19b74872b931"
      },
      "execution_count": 4,
      "outputs": [
        {
          "output_type": "stream",
          "name": "stdout",
          "text": [
            "page_content='PROJETO DE LEI Nº       , DE 2023 \n",
            "Dispõe sobre o uso da Inteligência Artificial. \n",
            "O CONGRESSO NACIONAL decreta: \n",
            "CAPÍTULO I \n",
            "DISPOSIÇÕES PRELIMINARES \n",
            "Art. 1º Esta Lei estabelece normas gerais de caráter nacional para \n",
            "o desenvolvimento, implementação e uso responsável de sistemas de \n",
            "inteligência artificial (IA) no Brasil, com o objetivo de proteger os direitos \n",
            "fundamentais e garantir a implementação de sistemas seguros e confiáveis, em \n",
            "benefício da pessoa humana, do regime democrático e do desenvolvimento \n",
            "científico e tecnológico. \n",
            "Art. 2º O desenvolvimento, a implementação e o uso de sistemas \n",
            "de inteligência artificial no Brasil têm como fundamentos: \n",
            "I – a centralidade da pessoa humana; \n",
            "II – o respeito aos direitos humanos e aos valores democráticos; \n",
            "III – o livre desenvolvimento da personalidade; \n",
            "IV – a proteção ao meio ambiente e o desenvolvimento \n",
            "sustentável; \n",
            "V – a igualdade, a não discriminação, a pluralidade e o respeito \n",
            "aos direitos trabalhistas; \n",
            "VI – o desenvolvimento tecnológico e a inovação; \n",
            "VII – a livre iniciativa, a livre concorrência e a defesa do \n",
            "consumidor; \n",
            "SF/23833.90768-16\n",
            "Página 2 de 33 Avulso do PL 2338/2023' metadata={'source': 'https://legis.senado.leg.br/sdleg-getter/documento?dm=9347622&ts=1735605216274&disposition=inline', 'page': 1}\n"
          ]
        }
      ]
    },
    {
      "cell_type": "markdown",
      "metadata": {
        "id": "WcP722ikyWt2"
      },
      "source": [
        "# **3. Dividindo Documentos - Splitting/Chunking**"
      ]
    },
    {
      "cell_type": "markdown",
      "source": [
        "Divisão do documento usando RecursiveCharacterTextSplitter."
      ],
      "metadata": {
        "id": "GxEekYGkpAY9"
      }
    },
    {
      "cell_type": "code",
      "execution_count": 5,
      "metadata": {
        "id": "Nj36f54ByWt3",
        "colab": {
          "base_uri": "https://localhost:8080/"
        },
        "outputId": "ba295f59-3c32-4e5a-b65a-3cfb31f86be8"
      },
      "outputs": [
        {
          "output_type": "stream",
          "name": "stdout",
          "text": [
            "Número de splits: 94\n"
          ]
        }
      ],
      "source": [
        "# https://python.langchain.com/v0.2/docs/how_to/#text-splitters\n",
        "\n",
        "\n",
        "# Definir o separador de texto\n",
        "text_splitter = RecursiveCharacterTextSplitter(\n",
        "    chunk_size=1000, chunk_overlap=300, add_start_index=True\n",
        ")\n",
        "all_splits = text_splitter.split_documents(docs)\n",
        "\n",
        "\n",
        "# Exibir a quantidade de splits\n",
        "print(\"Número de splits:\", len(all_splits))\n"
      ]
    },
    {
      "cell_type": "code",
      "source": [
        "all_splits"
      ],
      "metadata": {
        "colab": {
          "base_uri": "https://localhost:8080/"
        },
        "id": "NYJj_ZtiDorO",
        "outputId": "54390a3d-302c-442a-9370-d014b9d5d94f"
      },
      "execution_count": 6,
      "outputs": [
        {
          "output_type": "execute_result",
          "data": {
            "text/plain": [
              "[Document(metadata={'source': 'https://legis.senado.leg.br/sdleg-getter/documento?dm=9347622&ts=1735605216274&disposition=inline', 'page': 0, 'start_index': 0}, page_content='SENADO FEDERAL  \\nPROJETO DE LEI \\nN° 2338, DE 2023\\nDispõe sobre o uso da Inteligência Artificial.\\nAUTORIA: Senador Rodrigo Pacheco (PSD/MG)\\nPágina da matéria\\nPágina 1 de 33 Avulso do PL 2338/2023'),\n",
              " Document(metadata={'source': 'https://legis.senado.leg.br/sdleg-getter/documento?dm=9347622&ts=1735605216274&disposition=inline', 'page': 1, 'start_index': 0}, page_content='PROJETO DE LEI Nº       , DE 2023 \\nDispõe sobre o uso da Inteligência Artificial. \\nO CONGRESSO NACIONAL decreta: \\nCAPÍTULO I \\nDISPOSIÇÕES PRELIMINARES \\nArt. 1º Esta Lei estabelece normas gerais de caráter nacional para \\no desenvolvimento, implementação e uso responsável de sistemas de \\ninteligência artificial (IA) no Brasil, com o objetivo de proteger os direitos \\nfundamentais e garantir a implementação de sistemas seguros e confiáveis, em \\nbenefício da pessoa humana, do regime democrático e do desenvolvimento \\ncientífico e tecnológico. \\nArt. 2º O desenvolvimento, a implementação e o uso de sistemas \\nde inteligência artificial no Brasil têm como fundamentos: \\nI – a centralidade da pessoa humana; \\nII – o respeito aos direitos humanos e aos valores democráticos; \\nIII – o livre desenvolvimento da personalidade; \\nIV – a proteção ao meio ambiente e o desenvolvimento \\nsustentável; \\nV – a igualdade, a não discriminação, a pluralidade e o respeito \\naos direitos trabalhistas;'),\n",
              " Document(metadata={'source': 'https://legis.senado.leg.br/sdleg-getter/documento?dm=9347622&ts=1735605216274&disposition=inline', 'page': 1, 'start_index': 706}, page_content='II – o respeito aos direitos humanos e aos valores democráticos; \\nIII – o livre desenvolvimento da personalidade; \\nIV – a proteção ao meio ambiente e o desenvolvimento \\nsustentável; \\nV – a igualdade, a não discriminação, a pluralidade e o respeito \\naos direitos trabalhistas; \\nVI – o desenvolvimento tecnológico e a inovação; \\nVII – a livre iniciativa, a livre concorrência e a defesa do \\nconsumidor; \\nSF/23833.90768-16\\nPágina 2 de 33 Avulso do PL 2338/2023'),\n",
              " Document(metadata={'source': 'https://legis.senado.leg.br/sdleg-getter/documento?dm=9347622&ts=1735605216274&disposition=inline', 'page': 2, 'start_index': 0}, page_content='VIII – a privacidade, a proteção de dados e a autodeterminação \\ninformativa; \\nIX – a promoção da pesquisa e do desenvolvimento com a \\nfinalidade de estimular a inovação nos setores produtivos e no poder público; e \\nX – o acesso à informação e à educação, e a conscientização sobre \\nos sistemas de inteligência artificial e suas aplicações. \\nArt. 3º O desenvolvimento, a implementação e o uso de sistemas \\nde inteligência artificial observarão a boa-fé e os seguintes princípios: \\nI – crescimento inclusivo, desenvolvimento sustentável e bem-\\nestar; \\nII – autodeterminação e liberdade de decisão e de escolha; \\nIII – participação humana no ciclo da inteligência artificial e \\nsupervisão humana efetiva; \\nIV – não discriminação; \\nV – justiça, equidade e inclusão; \\nVI – transparência, explicabilidade, inteligibilidade e \\nauditabilidade; \\nVII – confiabilidade e robustez dos sistemas de inteligência \\nartificial e segurança da informação;'),\n",
              " Document(metadata={'source': 'https://legis.senado.leg.br/sdleg-getter/documento?dm=9347622&ts=1735605216274&disposition=inline', 'page': 2, 'start_index': 675}, page_content='supervisão humana efetiva; \\nIV – não discriminação; \\nV – justiça, equidade e inclusão; \\nVI – transparência, explicabilidade, inteligibilidade e \\nauditabilidade; \\nVII – confiabilidade e robustez dos sistemas de inteligência \\nartificial e segurança da informação; \\nVIII – devido processo legal, contestabilidade e contraditório; \\nIX – rastreabilidade das decisões durante o ciclo de vida de \\nsistemas de inteligência artificial como meio de prestação de contas e atribuição \\nde responsabilidades a uma pessoa natural ou jurídica; \\nX – prestação de contas, responsabilização e reparação integral de \\ndanos; \\nXI – prevenção, precaução e mitigação de riscos sistêmicos \\nderivados de usos intencionais ou não intencionais e de efeitos não previstos de \\nsistemas de inteligência artificial; e \\nSF/23833.90768-16\\nPágina 3 de 33 Avulso do PL 2338/2023'),\n",
              " Document(metadata={'source': 'https://legis.senado.leg.br/sdleg-getter/documento?dm=9347622&ts=1735605216274&disposition=inline', 'page': 3, 'start_index': 0}, page_content='XII – não maleficência e proporcionalidade entre os métodos \\nempregados e as finalidades determinadas e legítimas dos sistemas de \\ninteligência artificial. \\nArt. 4º Para as finalidades desta Lei, adotam-se as seguintes \\ndefinições: \\nI – sistema de inteligência artificial: sistema computacional, com \\ngraus diferentes de autonomia, desenhado para inferir como atingir um dado \\nconjunto de objetivos, utilizando abordagens baseadas em aprendizagem de \\nmáquina e/ou lógica e representação do conhecimento, por meio de dados de \\nentrada provenientes de máquinas ou humanos, com o objetivo de produzir \\nprevisões, recomendações ou decisões que possam influenciar o ambiente \\nvirtual ou real; \\nII – fornecedor de sistema de inteligência artificial: pessoa natural \\nou jurídica, de natureza pública ou privada, que desenvolva um sistema de \\ninteligência artificial, diretamente ou por encomenda, com vistas a sua \\ncolocação no mercado ou a sua aplicação em serviço por ela fornecido, sob seu'),\n",
              " Document(metadata={'source': 'https://legis.senado.leg.br/sdleg-getter/documento?dm=9347622&ts=1735605216274&disposition=inline', 'page': 3, 'start_index': 689}, page_content='II – fornecedor de sistema de inteligência artificial: pessoa natural \\nou jurídica, de natureza pública ou privada, que desenvolva um sistema de \\ninteligência artificial, diretamente ou por encomenda, com vistas a sua \\ncolocação no mercado ou a sua aplicação em serviço por ela fornecido, sob seu \\npróprio nome ou marca, a título oneroso ou gratuito; \\nIII – operador de sistema de inteligência artificial: pessoa natural \\nou jurídica, de natureza pública ou privada, que empregue ou utilize, em seu \\nnome ou benefício, sistema de inteligência artificial, salvo se o referido sistema \\nfor utilizado no âmbito de uma atividade pessoal de caráter não profissional; \\nIV – agentes de inteligência artificial: fornecedores e operadores \\nde sistemas de inteligência artificial; \\nV – autoridade competente: órgão ou entidade da Administração \\nPública Federal responsável por zelar, implementar e fiscalizar o cumprimento \\ndesta Lei em todo o território nacional;'),\n",
              " Document(metadata={'source': 'https://legis.senado.leg.br/sdleg-getter/documento?dm=9347622&ts=1735605216274&disposition=inline', 'page': 3, 'start_index': 1352}, page_content='IV – agentes de inteligência artificial: fornecedores e operadores \\nde sistemas de inteligência artificial; \\nV – autoridade competente: órgão ou entidade da Administração \\nPública Federal responsável por zelar, implementar e fiscalizar o cumprimento \\ndesta Lei em todo o território nacional; \\nVI – discriminação: qualquer distinção, exclusão, restrição ou \\npreferência, em qualquer área da vida pública ou privada, cujo propósito ou \\nefeito seja anular ou restringir o reconhecimento, gozo ou exercício, em \\ncondições de igualdade, de um ou mais direitos ou liberdades previstos no \\nordenamento jurídico, em razão de características pessoais como origem \\ngeográfica, raça, cor ou etnia, gênero, orientação sexual, classe \\nsocioeconômica, idade, deficiência, religião ou opiniões políticas; \\nVII – discriminação indireta: discriminação que ocorre quando \\nnormativa, prática ou critério aparentemente neutro tem a capacidade de \\nSF/23833.90768-16\\nPágina 4 de 33 Avulso do PL 2338/2023'),\n",
              " Document(metadata={'source': 'https://legis.senado.leg.br/sdleg-getter/documento?dm=9347622&ts=1735605216274&disposition=inline', 'page': 4, 'start_index': 0}, page_content='acarretar desvantagem para pessoas pertencentes a grupo específico, ou as \\ncoloquem em desvantagem, a menos que essa normativa, prática ou critério \\ntenha algum objetivo ou justificativa razoável e legítima à luz do direito à \\nigualdade e dos demais direitos fundamentais; \\nVIII – mineração de textos e dados: processo de extração e análise \\nde grandes quantidades de dados ou de trechos parciais ou integrais de conteúdo \\ntextual, a partir dos quais são extraídos padrões e correlações que gerarão \\ninformações relevantes para o desenvolvimento ou utilização de sistemas de \\ninteligência artificial. \\nCAPÍTULO II \\nDOS DIREITOS \\nSeção I \\nDisposições Gerais \\nArt. 5º Pessoas afetadas por sistemas de inteligência artificial têm \\nos seguintes direitos, a serem exercidos na forma e nas condições descritas \\nneste Capítulo: \\nI – direito à informação prévia quanto às suas interações com \\nsistemas de inteligência artificial; \\nII – direito à explicação sobre a decisão, recomendação ou'),\n",
              " Document(metadata={'source': 'https://legis.senado.leg.br/sdleg-getter/documento?dm=9347622&ts=1735605216274&disposition=inline', 'page': 4, 'start_index': 728}, page_content='os seguintes direitos, a serem exercidos na forma e nas condições descritas \\nneste Capítulo: \\nI – direito à informação prévia quanto às suas interações com \\nsistemas de inteligência artificial; \\nII – direito à explicação sobre a decisão, recomendação ou \\nprevisão tomada por sistemas de inteligência artificial; \\nIII – direito de contestar decisões ou previsões de sistemas de \\ninteligência artificial que produzam efeitos jurídicos ou que impactem de \\nmaneira significativa os interesses do afetado; \\nIV – direito à determinação e à participação humana em decisões \\nde sistemas de inteligência artificial, levando-se em conta o contexto e o estado \\nda arte do desenvolvimento tecnológico; \\nV – direito à não-discriminação e à correção de vieses \\ndiscriminatórios diretos, indiretos, ilegais ou abusivos; e \\nVI – direito à privacidade e à proteção de dados pessoais, nos \\ntermos da legislação pertinente. \\nParágrafo único. Os agentes de inteligência artificial informarão,'),\n",
              " Document(metadata={'source': 'https://legis.senado.leg.br/sdleg-getter/documento?dm=9347622&ts=1735605216274&disposition=inline', 'page': 4, 'start_index': 1419}, page_content='V – direito à não-discriminação e à correção de vieses \\ndiscriminatórios diretos, indiretos, ilegais ou abusivos; e \\nVI – direito à privacidade e à proteção de dados pessoais, nos \\ntermos da legislação pertinente. \\nParágrafo único. Os agentes de inteligência artificial informarão, \\nde forma clara e facilmente acessível, os procedimentos necessários para o \\nexercício dos direitos descritos no caput. \\nSF/23833.90768-16\\nPágina 5 de 33 Avulso do PL 2338/2023'),\n",
              " Document(metadata={'source': 'https://legis.senado.leg.br/sdleg-getter/documento?dm=9347622&ts=1735605216274&disposition=inline', 'page': 5, 'start_index': 0}, page_content='Art. 6º A defesa dos interesses e dos direitos previstos nesta Lei \\npoderá ser exercida perante os órgãos administrativos competentes, bem como \\nem juízo, individual ou coletivamente, na forma do disposto na legislação \\npertinente acerca dos instrumentos de tutela individual, coletiva e difusa. \\nSeção II \\nDos direitos associados a informação e compreensão das decisões tomadas \\npor sistemas de inteligência artificial \\nArt. 7º Pessoas afetadas por sistemas de inteligência artificial têm \\no direito de receber, previamente à contratação ou utilização do sistema, \\ninformações claras e adequadas quanto aos seguintes aspectos: \\nI – caráter automatizado da interação e da decisão em processos \\nou produtos que afetem a pessoa; \\nII – descrição geral do sistema, tipos de decisões, recomendações \\nou previsões que se destina a fazer e consequências de sua utilização para a \\npessoa; \\nIII – identificação dos operadores do sistema de inteligência'),\n",
              " Document(metadata={'source': 'https://legis.senado.leg.br/sdleg-getter/documento?dm=9347622&ts=1735605216274&disposition=inline', 'page': 5, 'start_index': 694}, page_content='ou produtos que afetem a pessoa; \\nII – descrição geral do sistema, tipos de decisões, recomendações \\nou previsões que se destina a fazer e consequências de sua utilização para a \\npessoa; \\nIII – identificação dos operadores do sistema de inteligência \\nartificial e medidas de governança adotadas no desenvolvimento e emprego do \\nsistema pela organização; \\nIV – papel do sistema de inteligência artificial e dos humanos \\nenvolvidos no processo de tomada de decisão, previsão ou recomendação; \\nV – categorias de dados pessoais utilizados no contexto do \\nfuncionamento do sistema de inteligência artificial; \\nVI – medidas de segurança, de não-discriminação e de \\nconfiabilidade adotadas, incluindo acurácia, precisão e cobertura; e \\nVII – outras informações definidas em regulamento. \\n§ 1º Sem prejuízo do fornecimento de informações de maneira \\ncompleta em meio físico ou digital aberto ao público, a informação referida no \\ninciso I do caput deste artigo será também fornecida, quando couber, com o'),\n",
              " Document(metadata={'source': 'https://legis.senado.leg.br/sdleg-getter/documento?dm=9347622&ts=1735605216274&disposition=inline', 'page': 5, 'start_index': 1423}, page_content='VII – outras informações definidas em regulamento. \\n§ 1º Sem prejuízo do fornecimento de informações de maneira \\ncompleta em meio físico ou digital aberto ao público, a informação referida no \\ninciso I do caput deste artigo será também fornecida, quando couber, com o \\nuso de ícones ou símbolos facilmente reconhecíveis. \\n§ 2º Pessoas expostas a sistemas de reconhecimento de emoções \\nou a sistemas de categorização biométrica serão informadas sobre a utilização \\ne o funcionamento do sistema no ambiente em que ocorrer a exposição. \\nSF/23833.90768-16\\nPágina 6 de 33 Avulso do PL 2338/2023'),\n",
              " Document(metadata={'source': 'https://legis.senado.leg.br/sdleg-getter/documento?dm=9347622&ts=1735605216274&disposition=inline', 'page': 6, 'start_index': 0}, page_content='§ 3º Os sistemas de inteligência artificial que se destinem a grupos \\nvulneráveis, tais como crianças, adolescentes, idosos e pessoas com \\ndeficiência, serão desenvolvidos de tal modo que essas pessoas consigam \\nentender seu funcionamento e seus direitos em face dos agentes de inteligência \\nartificial. \\nArt. 8º A pessoa afetada por sistema de inteligência artificial \\npoderá solicitar explicação sobre a decisão, previsão ou recomendação, com \\ninformações a respeito dos critérios e dos procedimentos utilizados, assim \\ncomo sobre os principais fatores que afetam tal previsão ou decisão específica, \\nincluindo informações sobre: \\nI – a racionalidade e a lógica do sistema, o significado e as \\nconsequências previstas de tal decisão para a pessoa afetada; \\nII – o grau e o nível de contribuição do sistema de inteligência \\nartificial para a tomada de decisões; \\nIII – os dados processados e a sua fonte, os critérios para a tomada'),\n",
              " Document(metadata={'source': 'https://legis.senado.leg.br/sdleg-getter/documento?dm=9347622&ts=1735605216274&disposition=inline', 'page': 6, 'start_index': 696}, page_content='consequências previstas de tal decisão para a pessoa afetada; \\nII – o grau e o nível de contribuição do sistema de inteligência \\nartificial para a tomada de decisões; \\nIII – os dados processados e a sua fonte, os critérios para a tomada \\nde decisão e, quando apropriado, a sua ponderação, aplicados à situação da \\npessoa afetada; \\nIV – os mecanismos por meio dos quais a pessoa pode contestar a \\ndecisão; e \\nV – a possibilidade de solicitar intervenção humana, nos termos \\ndesta Lei. \\nParágrafo único. As informações mencionadas no caput serão \\nfornecidas por procedimento gratuito e facilitado, em linguagem que permita \\nque a pessoa compreenda o resultado da decisão ou previsão em questão, no \\nprazo de até quinze dias a contar da solicitação, permitida a prorrogação, uma \\nvez, por igual período, a depender da complexidade do caso. \\nSeção III \\nDo direito de contestar decisões e de solicitar intervenção humana \\nArt. 9º A pessoa afetada por sistema de inteligência artificial terá'),\n",
              " Document(metadata={'source': 'https://legis.senado.leg.br/sdleg-getter/documento?dm=9347622&ts=1735605216274&disposition=inline', 'page': 6, 'start_index': 1393}, page_content='prazo de até quinze dias a contar da solicitação, permitida a prorrogação, uma \\nvez, por igual período, a depender da complexidade do caso. \\nSeção III \\nDo direito de contestar decisões e de solicitar intervenção humana \\nArt. 9º A pessoa afetada por sistema de inteligência artificial terá \\no direito de contestar e de solicitar a revisão de decisões, recomendações ou \\nprevisões geradas por tal sistema que produzam efeitos jurídicos relevantes ou \\nque impactem de maneira significativa seus interesses. \\n§ 1º Fica assegurado o direito de correção de dados incompletos, \\ninexatos ou desatualizados utilizados por sistemas de inteligência artificial, \\nSF/23833.90768-16\\nPágina 7 de 33 Avulso do PL 2338/2023'),\n",
              " Document(metadata={'source': 'https://legis.senado.leg.br/sdleg-getter/documento?dm=9347622&ts=1735605216274&disposition=inline', 'page': 7, 'start_index': 0}, page_content='assim como o direito de solicitar a anonimização, bloqueio ou eliminação de \\ndados desnecessários, excessivos ou tratados em desconformidade com a \\nlegislação, nos termos do art. 18 da Lei nº 13.709, de 14 de agosto de 2018 e \\nda legislação pertinente. \\n§ 2º O direito à contestação previsto no caput deste artigo abrange \\ntambém decisões, recomendações ou previsões amparadas em inferências \\ndiscriminatórias, irrazoáveis ou que atentem contra a boa-fé objetiva, assim \\ncompreendidas as inferências que: \\nI – sejam fundadas em dados inadequados ou abusivos para as \\nfinalidades do tratamento; \\nII – sejam baseadas em métodos imprecisos ou estatisticamente \\nnão confiáveis; ou \\nIII – não considerem de forma adequada a individualidade e as \\ncaracterísticas pessoais dos indivíduos. \\nArt. 10. Quando a decisão, previsão ou recomendação de sistema \\nde inteligência artificial produzir efeitos jurídicos relevantes ou que impactem'),\n",
              " Document(metadata={'source': 'https://legis.senado.leg.br/sdleg-getter/documento?dm=9347622&ts=1735605216274&disposition=inline', 'page': 7, 'start_index': 658}, page_content='não confiáveis; ou \\nIII – não considerem de forma adequada a individualidade e as \\ncaracterísticas pessoais dos indivíduos. \\nArt. 10. Quando a decisão, previsão ou recomendação de sistema \\nde inteligência artificial produzir efeitos jurídicos relevantes ou que impactem \\nde maneira significativa os interesses da pessoa, inclusive por meio da geração \\nde perfis e da realização de inferências, esta poderá solicitar a intervenção ou \\nrevisão humana. \\nParágrafo único. A intervenção ou revisão humana não será \\nexigida caso a sua implementação seja comprovadamente impossível, hipótese \\nna qual o responsável pela operação do sistema de inteligência artificial \\nimplementará medidas alternativas eficazes, a fim de assegurar a reanálise da \\ndecisão contestada, levando em consideração os argumentos suscitados pela \\npessoa afetada, assim como a reparação de eventuais danos gerados. \\nArt. 11. Em cenários nos quais as decisões, previsões ou'),\n",
              " Document(metadata={'source': 'https://legis.senado.leg.br/sdleg-getter/documento?dm=9347622&ts=1735605216274&disposition=inline', 'page': 7, 'start_index': 1319}, page_content='implementará medidas alternativas eficazes, a fim de assegurar a reanálise da \\ndecisão contestada, levando em consideração os argumentos suscitados pela \\npessoa afetada, assim como a reparação de eventuais danos gerados. \\nArt. 11. Em cenários nos quais as decisões, previsões ou \\nrecomendações geradas por sistemas de inteligência artificial tenham um \\nimpacto irreversível ou de difícil reversão ou envolvam decisões que possam \\ngerar riscos à vida ou à integridade física de indivíduos, haverá envolvimento \\nhumano significativo no processo decisório e determinação humana final. \\nSeção IV \\nDo direito à não-discriminação e à correção de vieses discriminatórios diretos, \\nindiretos, ilegais ou abusivos \\nArt. 12. As pessoas afetadas por decisões, previsões ou \\nrecomendações de sistemas de inteligência artificial têm direito a tratamento \\nSF/23833.90768-16\\nPágina 8 de 33 Avulso do PL 2338/2023'),\n",
              " Document(metadata={'source': 'https://legis.senado.leg.br/sdleg-getter/documento?dm=9347622&ts=1735605216274&disposition=inline', 'page': 8, 'start_index': 0}, page_content='justo e isonômico, sendo vedadas a implementação e o uso de sistemas de \\ninteligência artificial que possam acarretar discriminação direta, indireta, ilegal \\nou abusiva, inclusive: \\nI – em decorrência do uso de dados pessoais sensíveis ou de \\nimpactos desproporcionais em razão de características pessoais como origem \\ngeográfica, raça, cor ou etnia, gênero, orientação sexual, classe \\nsocioeconômica, idade, deficiência, religião ou opiniões políticas; ou \\nII – em função do estabelecimento de desvantagens ou \\nagravamento da situação de vulnerabilidade de pessoas pertencentes a um \\ngrupo específico, ainda que se utilizem critérios aparentemente neutros. \\nParágrafo único. A vedação prevista no caput não impede a \\nadoção de critérios de diferenciação entre indivíduos ou grupos quando tal \\ndiferenciação se dê em função de objetivos ou justificativas demonstradas, \\nrazoáveis e legítimas à luz do direito à igualdade e dos demais direitos \\nfundamentais. \\nCAPÍTULO III'),\n",
              " Document(metadata={'source': 'https://legis.senado.leg.br/sdleg-getter/documento?dm=9347622&ts=1735605216274&disposition=inline', 'page': 8, 'start_index': 718}, page_content='adoção de critérios de diferenciação entre indivíduos ou grupos quando tal \\ndiferenciação se dê em função de objetivos ou justificativas demonstradas, \\nrazoáveis e legítimas à luz do direito à igualdade e dos demais direitos \\nfundamentais. \\nCAPÍTULO III \\nDA CATEGORIZAÇÃO DOS RISCOS \\nSeção I \\nAvaliação preliminar \\nArt. 13. Previamente a sua colocação no mercado ou utilização \\nem serviço, todo sistema de inteligência artificial passará por avaliação \\npreliminar realizada pelo fornecedor para classificação de seu grau de risco, \\ncujo registro considerará os critérios previstos neste capítulo. \\n§ 1º Os fornecedores de sistemas de inteligência artificial de \\npropósito geral incluirão em sua avaliação preliminar as finalidades ou \\naplicações indicadas, nos termos do art. 17 desta lei. \\n§ 2º Haverá registro e documentação da avaliação preliminar \\nrealizada pelo fornecedor para fins de responsabilização e prestação de contas'),\n",
              " Document(metadata={'source': 'https://legis.senado.leg.br/sdleg-getter/documento?dm=9347622&ts=1735605216274&disposition=inline', 'page': 8, 'start_index': 1380}, page_content='propósito geral incluirão em sua avaliação preliminar as finalidades ou \\naplicações indicadas, nos termos do art. 17 desta lei. \\n§ 2º Haverá registro e documentação da avaliação preliminar \\nrealizada pelo fornecedor para fins de responsabilização e prestação de contas \\nno caso de o sistema de inteligência artificial não ser classificado como de risco \\nalto. \\n§ 3º A autoridade competente poderá determinar a reclassificação \\ndo sistema de inteligência artificial, mediante notificação prévia, bem como \\ndeterminar a realização de avaliação de impacto algorítmico para instrução da \\ninvestigação em curso. \\nSF/23833.90768-16\\nPágina 9 de 33 Avulso do PL 2338/2023'),\n",
              " Document(metadata={'source': 'https://legis.senado.leg.br/sdleg-getter/documento?dm=9347622&ts=1735605216274&disposition=inline', 'page': 9, 'start_index': 0}, page_content='§ 4º Se o resultado da reclassificação identificar o sistema de \\ninteligência artificial como de alto risco, a realização de avaliação de impacto \\nalgorítmico e a adoção das demais medidas de governança previstas no \\nCapítulo IV serão obrigatórias, sem prejuízo de eventuais penalidades em caso \\nde avaliação preliminar fraudulenta, incompleta ou inverídica. \\nSeção II \\nRisco Excessivo \\nArt. 14. São vedadas a implementação e o uso de sistemas de \\ninteligência artificial: \\nI – que empreguem técnicas subliminares que tenham por objetivo \\nou por efeito induzir a pessoa natural a se comportar de forma prejudicial ou \\nperigosa à sua saúde ou segurança ou contra os fundamentos desta Lei; \\nII – que explorem quaisquer vulnerabilidades de grupos \\nespecíficos de pessoas naturais, tais como as associadas a sua idade ou \\ndeficiência física ou mental, de modo a induzi-las a se comportar de forma \\nprejudicial a sua saúde ou segurança ou contra os fundamentos desta Lei;'),\n",
              " Document(metadata={'source': 'https://legis.senado.leg.br/sdleg-getter/documento?dm=9347622&ts=1735605216274&disposition=inline', 'page': 9, 'start_index': 689}, page_content='II – que explorem quaisquer vulnerabilidades de grupos \\nespecíficos de pessoas naturais, tais como as associadas a sua idade ou \\ndeficiência física ou mental, de modo a induzi-las a se comportar de forma \\nprejudicial a sua saúde ou segurança ou contra os fundamentos desta Lei; \\nIII – pelo poder público, para avaliar, classificar ou ranquear as \\npessoas naturais, com base no seu comportamento social ou em atributos da sua \\npersonalidade, por meio de pontuação universal, para o acesso a bens e serviços \\ne políticas públicas, de forma ilegítima ou desproporcional. \\nArt. 15. No âmbito de atividades de segurança pública, somente é \\npermitido o uso de sistemas de identificação biométrica à distância, de forma \\ncontínua em espaços acessíveis ao público, quando houver previsão em lei \\nfederal específica e autorização judicial em conexão com a atividade de \\npersecução penal individualizada, nos seguintes casos: \\nI – persecução de crimes passíveis de pena máxima de reclusão'),\n",
              " Document(metadata={'source': 'https://legis.senado.leg.br/sdleg-getter/documento?dm=9347622&ts=1735605216274&disposition=inline', 'page': 9, 'start_index': 1403}, page_content='contínua em espaços acessíveis ao público, quando houver previsão em lei \\nfederal específica e autorização judicial em conexão com a atividade de \\npersecução penal individualizada, nos seguintes casos: \\nI – persecução de crimes passíveis de pena máxima de reclusão \\nsuperior a dois anos; \\nII – busca de vítimas de crimes ou pessoas desaparecidas; ou \\nIII – crime em flagrante. \\nParágrafo único. A lei a que se refere o caput preverá medidas \\nproporcionais e estritamente necessárias ao atendimento do interesse público, \\nobservados o devido processo legal e o controle judicial, bem como os \\nprincípios e direitos previstos nesta Lei, especialmente a garantia contra a \\ndiscriminação e a necessidade de revisão da inferência algorítmica pelo agente \\nSF/23833.90768-16\\nPágina 10 de 33 Avulso do PL 2338/2023'),\n",
              " Document(metadata={'source': 'https://legis.senado.leg.br/sdleg-getter/documento?dm=9347622&ts=1735605216274&disposition=inline', 'page': 10, 'start_index': 0}, page_content='público responsável, antes da tomada de qualquer ação em face da pessoa \\nidentificada. \\nArt. 16. Caberá à autoridade competente regulamentar os sistemas \\nde inteligência artificial de risco excessivo. \\nSeção III \\nAlto Risco \\nArt. 17. São considerados sistemas de inteligência artificial de \\nalto risco aqueles utilizados para as seguintes finalidades: \\nI – aplicação como dispositivos de segurança na gestão e no \\nfuncionamento de infraestruturas críticas, tais como controle de trânsito e redes \\nde abastecimento de água e de eletricidade; \\nII – educação e formação profissional, incluindo sistemas de \\ndeterminação de acesso a instituições de ensino ou de formação profissional ou \\npara avaliação e monitoramento de estudantes; \\nIII – recrutamento, triagem, filtragem, avaliação de candidatos, \\ntomada de decisões sobre promoções ou cessações de relações contratuais de \\ntrabalho, repartição de tarefas e controle e avaliação do desempenho e do'),\n",
              " Document(metadata={'source': 'https://legis.senado.leg.br/sdleg-getter/documento?dm=9347622&ts=1735605216274&disposition=inline', 'page': 10, 'start_index': 684}, page_content='para avaliação e monitoramento de estudantes; \\nIII – recrutamento, triagem, filtragem, avaliação de candidatos, \\ntomada de decisões sobre promoções ou cessações de relações contratuais de \\ntrabalho, repartição de tarefas e controle e avaliação do desempenho e do \\ncomportamento das pessoas afetadas por tais aplicações de inteligência \\nartificial nas áreas de emprego, gestão de trabalhadores e acesso ao emprego \\npor conta própria; \\nIV – avaliação de critérios de acesso, elegibilidade, concessão, \\nrevisão, redução ou revogação de serviços privados e públicos que sejam \\nconsiderados essenciais, incluindo sistemas utilizados para avaliar a \\nelegibilidade de pessoas naturais quanto a prestações de serviços públicos de \\nassistência e de seguridade; \\nV – avaliação da capacidade de endividamento das pessoas \\nnaturais ou estabelecimento de sua classificação de crédito; \\nVI – envio ou estabelecimento de prioridades para serviços de'),\n",
              " Document(metadata={'source': 'https://legis.senado.leg.br/sdleg-getter/documento?dm=9347622&ts=1735605216274&disposition=inline', 'page': 10, 'start_index': 1328}, page_content='elegibilidade de pessoas naturais quanto a prestações de serviços públicos de \\nassistência e de seguridade; \\nV – avaliação da capacidade de endividamento das pessoas \\nnaturais ou estabelecimento de sua classificação de crédito; \\nVI – envio ou estabelecimento de prioridades para serviços de \\nresposta a emergências, incluindo bombeiros e assistência médica; \\nVII – administração da justiça, incluindo sistemas que auxiliem \\nautoridades judiciárias na investigação dos fatos e na aplicação da lei; \\nVIII – veículos autônomos, quando seu uso puder gerar riscos à \\nintegridade física de pessoas; \\nSF/23833.90768-16\\nPágina 11 de 33 Avulso do PL 2338/2023'),\n",
              " Document(metadata={'source': 'https://legis.senado.leg.br/sdleg-getter/documento?dm=9347622&ts=1735605216274&disposition=inline', 'page': 11, 'start_index': 0}, page_content='IX – aplicações na área da saúde, inclusive as destinadas a auxiliar \\ndiagnósticos e procedimentos médicos; \\nX – sistemas biométricos de identificação; \\nXI – investigação criminal e segurança pública, em especial para \\navaliações individuais de riscos pelas autoridades competentes, a fim de \\ndeterminar o risco de uma pessoa cometer infrações ou de reincidir, ou o risco \\npara potenciais vítimas de infrações penais ou para avaliar os traços de \\npersonalidade e as características ou o comportamento criminal passado de \\npessoas singulares ou grupos; \\nXII – estudo analítico de crimes relativos a pessoas naturais, \\npermitindo às autoridades policiais pesquisar grandes conjuntos de dados \\ncomplexos, relacionados ou não relacionados, disponíveis em diferentes fontes \\nde dados ou em diferentes formatos de dados, no intuito de identificar padrões \\ndesconhecidos ou descobrir relações escondidas nos dados; \\nXIII – investigação por autoridades administrativas para avaliar a'),\n",
              " Document(metadata={'source': 'https://legis.senado.leg.br/sdleg-getter/documento?dm=9347622&ts=1735605216274&disposition=inline', 'page': 11, 'start_index': 691}, page_content='complexos, relacionados ou não relacionados, disponíveis em diferentes fontes \\nde dados ou em diferentes formatos de dados, no intuito de identificar padrões \\ndesconhecidos ou descobrir relações escondidas nos dados; \\nXIII – investigação por autoridades administrativas para avaliar a \\ncredibilidade dos elementos de prova no decurso da investigação ou repressão \\nde infrações, para prever a ocorrência ou a recorrência de uma infração real ou \\npotencial com base na definição de perfis de pessoas singulares; ou \\nXIV – gestão da migração e controle de fronteiras. \\nArt. 18.  Caberá à autoridade competente atualizar a lista dos \\nsistemas de inteligência artificial de risco excessivo ou de alto risco, \\nidentificando novas hipóteses, com base em, pelo menos, um dos seguintes \\ncritérios: \\nI – a implementação ser em larga escala, levando-se em \\nconsideração o número de pessoas afetadas e a extensão geográfica, bem como \\na sua duração e frequência;'),\n",
              " Document(metadata={'source': 'https://legis.senado.leg.br/sdleg-getter/documento?dm=9347622&ts=1735605216274&disposition=inline', 'page': 11, 'start_index': 1395}, page_content='identificando novas hipóteses, com base em, pelo menos, um dos seguintes \\ncritérios: \\nI – a implementação ser em larga escala, levando-se em \\nconsideração o número de pessoas afetadas e a extensão geográfica, bem como \\na sua duração e frequência; \\nII – o sistema puder impactar negativamente o exercício de direitos \\ne liberdades ou a utilização de um serviço; \\nIII – o sistema tiver alto potencial danoso de ordem material ou \\nmoral, bem como discriminatório; \\nIV – o sistema afetar pessoas de um grupo específico vulnerável; \\nV – serem os possíveis resultados prejudiciais do sistema de \\ninteligência artificial irreversíveis ou de difícil reversão; \\nSF/23833.90768-16\\nPágina 12 de 33 Avulso do PL 2338/2023'),\n",
              " Document(metadata={'source': 'https://legis.senado.leg.br/sdleg-getter/documento?dm=9347622&ts=1735605216274&disposition=inline', 'page': 12, 'start_index': 0}, page_content='VI – um sistema de inteligência artificial similar ter causado \\nanteriormente danos materiais ou morais; \\nVII – baixo grau de transparência, explicabilidade e auditabilidade \\ndo sistema de inteligência artificial, que dificulte o seu controle ou supervisão; \\nVIII – alto nível de identificabilidade dos titulares dos dados, \\nincluindo o tratamento de dados genéticos e biométricos para efeitos de \\nidentificação única de uma pessoa singular, especialmente quando o tratamento \\ninclui combinação, correspondência ou comparação de dados de várias fontes; \\nIX – quando existirem expectativas razoáveis do afetado quanto \\nao uso de seus dados pessoais no sistema de inteligência artificial, em especial \\na expectativa de confidencialidade, como no tratamento de dados sigilosos ou \\nsensíveis. \\nParágrafo único. A atualização da lista mencionada no caput pela \\nautoridade competente será precedida de consulta ao órgão regulador setorial'),\n",
              " Document(metadata={'source': 'https://legis.senado.leg.br/sdleg-getter/documento?dm=9347622&ts=1735605216274&disposition=inline', 'page': 12, 'start_index': 700}, page_content='a expectativa de confidencialidade, como no tratamento de dados sigilosos ou \\nsensíveis. \\nParágrafo único. A atualização da lista mencionada no caput pela \\nautoridade competente será precedida de consulta ao órgão regulador setorial \\ncompetente, se houver, assim como de consulta e de audiência públicas e de \\nanálise de impacto regulatório. \\nCAPÍTULO IV \\nDA GOVERNANÇA DOS SISTEMAS DE INTELIGÊNCIA ARTIFICIAL \\nSeção I \\nDisposições Gerais \\nArt. 19. Os agentes de inteligência artificial estabelecerão \\nestruturas de governança e processos internos aptos a garantir a segurança dos \\nsistemas e o atendimento dos direitos de pessoas afetadas, nos termos previstos \\nno Capítulo II desta Lei e da legislação pertinente, que incluirão, pelo menos: \\nI – medidas de transparência quanto ao emprego de sistemas de \\ninteligência artificial na interação com pessoas naturais, o que inclui o uso de \\ninterfaces ser humano-máquina adequadas e suficientemente claras e \\ninformativas;'),\n",
              " Document(metadata={'source': 'https://legis.senado.leg.br/sdleg-getter/documento?dm=9347622&ts=1735605216274&disposition=inline', 'page': 12, 'start_index': 1444}, page_content='I – medidas de transparência quanto ao emprego de sistemas de \\ninteligência artificial na interação com pessoas naturais, o que inclui o uso de \\ninterfaces ser humano-máquina adequadas e suficientemente claras e \\ninformativas; \\nII – transparência quanto às medidas de governança adotadas no \\ndesenvolvimento e emprego do sistema de inteligência artificial pela \\norganização; \\nIII – medidas de gestão de dados adequadas para a mitigação e \\nprevenção de potenciais vieses discriminatórios; \\nSF/23833.90768-16\\nPágina 13 de 33 Avulso do PL 2338/2023'),\n",
              " Document(metadata={'source': 'https://legis.senado.leg.br/sdleg-getter/documento?dm=9347622&ts=1735605216274&disposition=inline', 'page': 13, 'start_index': 0}, page_content='IV – legitimação do tratamento de dados conforme a legislação de \\nproteção de dados, inclusive por meio da adoção de medidas de privacidade \\ndesde a concepção e por padrão e da adoção de técnicas que minimizem o uso \\nde dados pessoais; \\nV – adoção de parâmetros adequados de separação e organização \\ndos dados para treinamento, teste e validação dos resultados do sistema; e \\nVI – adoção de medidas adequadas de segurança da informação \\ndesde a concepção até a operação do sistema. \\n§ 1º As medidas de governança dos sistemas de inteligência \\nartificial são aplicáveis ao longo de todo o seu ciclo de vida, desde a concepção \\ninicial até o encerramento de suas atividades e descontinuação. \\n§ 2º A documentação técnica de sistemas de inteligência artificial \\nde alto risco será elaborada antes de sua disponibilização no mercado ou de seu \\nuso para prestação de serviço e será mantida atualizada durante sua utilização. \\nSeção II'),\n",
              " Document(metadata={'source': 'https://legis.senado.leg.br/sdleg-getter/documento?dm=9347622&ts=1735605216274&disposition=inline', 'page': 13, 'start_index': 691}, page_content='§ 2º A documentação técnica de sistemas de inteligência artificial \\nde alto risco será elaborada antes de sua disponibilização no mercado ou de seu \\nuso para prestação de serviço e será mantida atualizada durante sua utilização. \\nSeção II \\nMedidas de Governança para Sistemas de Inteligência Artificial de Alto Risco \\nArt. 20. Além das medidas indicadas no art. 19, os agentes de \\ninteligência artificial que forneçam ou operem sistemas de alto risco adotarão \\nas seguintes medidas de governança e processos internos: \\nI – documentação, no formato adequado ao processo de \\ndesenvolvimento e à tecnologia usada, a respeito do funcionamento do sistema \\ne das decisões envolvidas em sua construção, implementação e uso, \\nconsiderando todas as etapas relevantes no ciclo de vida do sistema, tais como \\nestágio de design, de desenvolvimento, de avaliação, de operação e de \\ndescontinuação do sistema; \\nII – uso de ferramentas de registro automático da operação do'),\n",
              " Document(metadata={'source': 'https://legis.senado.leg.br/sdleg-getter/documento?dm=9347622&ts=1735605216274&disposition=inline', 'page': 13, 'start_index': 1409}, page_content='considerando todas as etapas relevantes no ciclo de vida do sistema, tais como \\nestágio de design, de desenvolvimento, de avaliação, de operação e de \\ndescontinuação do sistema; \\nII – uso de ferramentas de registro automático da operação do \\nsistema, de modo a permitir a avaliação de sua acurácia e robustez e a apurar \\npotenciais discriminatórios, e implementação das medidas de mitigação de \\nriscos adotadas, com especial atenção para efeitos adversos; \\nIII – realização de testes para avaliação de níveis apropriados de \\nconfiabilidade, conforme o setor e o tipo de aplicação do sistema de inteligência \\nartificial, incluindo testes de robustez, acurácia, precisão e cobertura; \\nIV – medidas de gestão de dados para mitigar e prevenir vieses \\ndiscriminatórios, incluindo: \\nSF/23833.90768-16\\nPágina 14 de 33 Avulso do PL 2338/2023'),\n",
              " Document(metadata={'source': 'https://legis.senado.leg.br/sdleg-getter/documento?dm=9347622&ts=1735605216274&disposition=inline', 'page': 14, 'start_index': 0}, page_content='a) avaliação dos dados com medidas apropriadas de controle de \\nvieses cognitivos humanos que possam afetar a coleta e organização dos dados \\ne para evitar a geração de vieses por problemas na classificação, falhas ou falta \\nde informação em relação a grupos afetados, falta de cobertura ou distorções \\nem representatividade, conforme a aplicação pretendida, bem como medidas \\ncorretivas para evitar a incorporação de vieses sociais estruturais que possam \\nser perpetuados e ampliados pela tecnologia; e \\nb) composição de equipe inclusiva responsável pela concepção e \\ndesenvolvimento do sistema, orientada pela busca da diversidade. \\nV – adoção de medidas técnicas para viabilizar a explicabilidade \\ndos resultados dos sistemas de inteligência artificial e de medidas para \\ndisponibilizar aos operadores e potenciais impactados informações gerais sobre \\no funcionamento do modelo de inteligência artificial empregado, explicitando'),\n",
              " Document(metadata={'source': 'https://legis.senado.leg.br/sdleg-getter/documento?dm=9347622&ts=1735605216274&disposition=inline', 'page': 14, 'start_index': 634}, page_content='V – adoção de medidas técnicas para viabilizar a explicabilidade \\ndos resultados dos sistemas de inteligência artificial e de medidas para \\ndisponibilizar aos operadores e potenciais impactados informações gerais sobre \\no funcionamento do modelo de inteligência artificial empregado, explicitando \\na lógica e os critérios relevantes para a produção de resultados, bem como, \\nmediante requisição do interessado, disponibilizar informações adequadas que \\npermitam a interpretação dos resultados concretamente produzidos, respeitado \\no sigilo industrial e comercial. \\nParágrafo único. A supervisão humana de sistemas de inteligência \\nartificial de alto risco buscará prevenir ou minimizar os riscos para direitos e \\nliberdades das pessoas que possam decorrer de seu uso normal ou de seu uso \\nem condições de utilização indevida razoavelmente previsíveis, viabilizando \\nque as pessoas responsáveis pela supervisão humana possam: \\nI – compreender as capacidades e limitações do sistema de'),\n",
              " Document(metadata={'source': 'https://legis.senado.leg.br/sdleg-getter/documento?dm=9347622&ts=1735605216274&disposition=inline', 'page': 14, 'start_index': 1347}, page_content='liberdades das pessoas que possam decorrer de seu uso normal ou de seu uso \\nem condições de utilização indevida razoavelmente previsíveis, viabilizando \\nque as pessoas responsáveis pela supervisão humana possam: \\nI – compreender as capacidades e limitações do sistema de \\ninteligência artificial e controlar devidamente o seu funcionamento, de modo \\nque sinais de anomalias, disfuncionalidades e desempenho inesperado possam \\nser identificados e resolvidos o mais rapidamente possível; \\nII – ter ciência da possível tendência para confiar automaticamente \\nou confiar excessivamente no resultado produzido pelo sistema de inteligência \\nartificial; \\nIII – interpretar corretamente o resultado do sistema de \\ninteligência artificial tendo em conta as características do sistema e as \\nferramentas e os métodos de interpretação disponíveis; \\nIV – decidir, em qualquer situação específica, por não usar o \\nsistema de inteligência artificial de alto risco ou ignorar, anular ou reverter seu \\nresultado; e'),\n",
              " Document(metadata={'source': 'https://legis.senado.leg.br/sdleg-getter/documento?dm=9347622&ts=1735605216274&disposition=inline', 'page': 14, 'start_index': 2053}, page_content='inteligência artificial tendo em conta as características do sistema e as \\nferramentas e os métodos de interpretação disponíveis; \\nIV – decidir, em qualquer situação específica, por não usar o \\nsistema de inteligência artificial de alto risco ou ignorar, anular ou reverter seu \\nresultado; e \\nSF/23833.90768-16\\nPágina 15 de 33 Avulso do PL 2338/2023'),\n",
              " Document(metadata={'source': 'https://legis.senado.leg.br/sdleg-getter/documento?dm=9347622&ts=1735605216274&disposition=inline', 'page': 15, 'start_index': 0}, page_content='V – intervir no funcionamento do sistema de inteligência artificial \\nde alto risco ou interromper seu funcionamento. \\nArt. 21. Adicionalmente às medidas de governança estabelecidas \\nneste capítulo, órgãos e entidades do poder público da União, Estados, Distrito \\nFederal e Municípios, ao contratar, desenvolver ou utilizar sistemas de \\ninteligência artificial considerados de alto risco, adotarão as seguintes medidas: \\nI – realização de consulta e audiência públicas prévias sobre a \\nutilização planejada dos sistemas de inteligência artificial, com informações \\nsobre os dados a serem utilizados, a lógica geral de funcionamento e resultados \\nde testes realizados; \\nII – definição de protocolos de acesso e de utilização do sistema \\nque permitam o registro de quem o utilizou, para qual situação concreta, e com \\nqual finalidade; \\nIII – utilização de dados provenientes de fontes seguras, que sejam \\nexatas, relevantes, atualizadas e representativas das populações afetadas e'),\n",
              " Document(metadata={'source': 'https://legis.senado.leg.br/sdleg-getter/documento?dm=9347622&ts=1735605216274&disposition=inline', 'page': 15, 'start_index': 735}, page_content='que permitam o registro de quem o utilizou, para qual situação concreta, e com \\nqual finalidade; \\nIII – utilização de dados provenientes de fontes seguras, que sejam \\nexatas, relevantes, atualizadas e representativas das populações afetadas e \\ntestadas contra vieses discriminatórios, em conformidade com a Lei nº 13.709, \\nde 14 de agosto de 2018, e seus atos regulamentares; \\nIV – garantia facilitada e efetiva ao cidadão, perante o poder \\npúblico, de direito à explicação e revisão humanas de decisão por sistemas de \\ninteligência artificial que gerem efeitos jurídicos relevantes ou que impactem \\nsignificativamente os interesses do afetado, a ser realizada pelo agente público \\ncompetente; \\nV – utilização de interface de programação de aplicativos que \\npermita sua utilização por outros sistemas para fins de interoperabilidade, na \\nforma da regulamentação; e \\nVI – publicização em veículos de fácil acesso, preferencialmente'),\n",
              " Document(metadata={'source': 'https://legis.senado.leg.br/sdleg-getter/documento?dm=9347622&ts=1735605216274&disposition=inline', 'page': 15, 'start_index': 1417}, page_content='competente; \\nV – utilização de interface de programação de aplicativos que \\npermita sua utilização por outros sistemas para fins de interoperabilidade, na \\nforma da regulamentação; e \\nVI – publicização em veículos de fácil acesso, preferencialmente \\nem seus sítios eletrônicos, das avaliações preliminares dos sistemas de \\ninteligência artificial desenvolvidos, implementados ou utilizados pelo poder \\npúblico da União, Estados, Distrito Federal e Municípios, independentemente \\ndo grau de risco, sem prejuízo do disposto no art. 43. \\n§ 1º A utilização de sistemas biométricos pelo poder público da \\nUnião, Estados, Distrito Federal e Municípios será precedida da edição de ato \\nnormativo que estabeleça garantias para o exercício dos direitos da pessoa \\nafetada e proteção contra a discriminação direta, indireta, ilegal ou abusiva, \\nSF/23833.90768-16\\nPágina 16 de 33 Avulso do PL 2338/2023'),\n",
              " Document(metadata={'source': 'https://legis.senado.leg.br/sdleg-getter/documento?dm=9347622&ts=1735605216274&disposition=inline', 'page': 16, 'start_index': 0}, page_content='vedado o tratamento de dados de raça, cor ou etnia, salvo previsão expressa em \\nlei. \\n§ 2º Na impossibilidade de eliminação ou mitigação substantiva \\ndos riscos associados ao sistema de inteligência artificial identificados na \\navaliação de impacto algorítmico prevista no artigo 22 desta Lei, sua utilização \\nserá descontinuada. \\nSeção III \\nAvaliação de Impacto Algorítmico \\nArt. 22. A avaliação de impacto algorítmico de sistemas de \\ninteligência artificial é obrigação dos agentes de inteligência artificial, sempre \\nque o sistema for considerado como de alto risco pela avaliação preliminar. \\nParágrafo único. A autoridade competente será notificada sobre o \\nsistema de alto risco, mediante o compartilhamento das avaliações preliminar \\ne de impacto algorítmico. \\nArt. 23. A avaliação de impacto algorítmico será realizada por \\nprofissional ou equipe de profissionais com conhecimentos técnicos, científicos \\ne jurídicos necessários para realização do relatório e com independência \\nfuncional.'),\n",
              " Document(metadata={'source': 'https://legis.senado.leg.br/sdleg-getter/documento?dm=9347622&ts=1735605216274&disposition=inline', 'page': 16, 'start_index': 741}, page_content='e de impacto algorítmico. \\nArt. 23. A avaliação de impacto algorítmico será realizada por \\nprofissional ou equipe de profissionais com conhecimentos técnicos, científicos \\ne jurídicos necessários para realização do relatório e com independência \\nfuncional. \\nParágrafo único. Caberá à autoridade competente regulamentar os \\ncasos em que a realização ou auditoria da avaliação de impacto será \\nnecessariamente conduzida por profissional ou equipe de profissionais externos \\nao fornecedor; \\nArt. 24. A metodologia da avaliação de impacto conterá, ao \\nmenos, as seguintes etapas: \\nI – preparação; \\nII – cognição do risco; \\nIII – mitigação dos riscos encontrados; \\nIV – monitoramento. \\n§ 1º A avaliação de impacto considerará e registrará, ao menos: \\na) riscos conhecidos e previsíveis associados ao sistema de \\ninteligência artificial à época em que foi desenvolvido, bem como os riscos que \\npodem razoavelmente dele se esperar; \\nSF/23833.90768-16\\nPágina 17 de 33 Avulso do PL 2338/2023'),\n",
              " Document(metadata={'source': 'https://legis.senado.leg.br/sdleg-getter/documento?dm=9347622&ts=1735605216274&disposition=inline', 'page': 17, 'start_index': 0}, page_content='b) benefícios associados ao sistema de inteligência artificial; \\nc) probabilidade de consequências adversas, incluindo o número \\nde pessoas potencialmente impactadas; \\nd) gravidade das consequências adversas, incluindo o esforço \\nnecessário para mitigá-las; \\ne) lógica de funcionamento do sistema de inteligência artificial; \\nf) processo e resultado de testes e avaliações e medidas de \\nmitigação realizadas para verificação de possíveis impactos a direitos, com \\nespecial destaque para potenciais impactos discriminatórios; \\ng) treinamento e ações de conscientização dos riscos associados ao \\nsistema de inteligência artificial; \\nh) medidas de mitigação e indicação e justificação do risco \\nresidual do sistema de inteligência artificial, acompanhado de testes de controle \\nde qualidade frequentes; e \\ni) medidas de transparência ao público, especialmente aos \\npotenciais usuários do sistema, a respeito dos riscos residuais, principalmente'),\n",
              " Document(metadata={'source': 'https://legis.senado.leg.br/sdleg-getter/documento?dm=9347622&ts=1735605216274&disposition=inline', 'page': 17, 'start_index': 692}, page_content='residual do sistema de inteligência artificial, acompanhado de testes de controle \\nde qualidade frequentes; e \\ni) medidas de transparência ao público, especialmente aos \\npotenciais usuários do sistema, a respeito dos riscos residuais, principalmente \\nquando envolver alto grau de nocividade ou periculosidade à saúde ou \\nsegurança dos usuários, nos termos dos artigos 9º e 10 da Lei nº 8.078, de 11 \\nde setembro de 1990 (Código de Defesa do Consumidor). \\n§ 2º Em atenção ao princípio da precaução, quando da utilização \\nde sistemas de inteligência artificial que possam gerar impactos irreversíveis \\nou de difícil reversão, a avaliação de impacto algorítmico levará em \\nconsideração também as evidências incipientes, incompletas ou especulativas. \\n§ 3º A autoridade competente poderá estabelecer outros critérios e \\nelementos para a elaboração de avaliação de impacto, incluindo a participação \\ndos diferentes segmentos sociais afetados, conforme risco e porte econômico \\nda organização.'),\n",
              " Document(metadata={'source': 'https://legis.senado.leg.br/sdleg-getter/documento?dm=9347622&ts=1735605216274&disposition=inline', 'page': 17, 'start_index': 1440}, page_content='§ 3º A autoridade competente poderá estabelecer outros critérios e \\nelementos para a elaboração de avaliação de impacto, incluindo a participação \\ndos diferentes segmentos sociais afetados, conforme risco e porte econômico \\nda organização. \\n§ 4º Caberá à autoridade competente a regulamentação da \\nperiodicidade de atualização das avaliações de impacto, considerando o ciclo \\nde vida dos sistemas de inteligência artificial de alto risco e os campos de \\naplicação, podendo incorporar melhores práticas setoriais. \\n§ 5º Os agentes de inteligência artificial que, posteriormente à sua \\nintrodução no mercado ou utilização em serviço, tiverem conhecimento de \\nSF/23833.90768-16\\nPágina 18 de 33 Avulso do PL 2338/2023'),\n",
              " Document(metadata={'source': 'https://legis.senado.leg.br/sdleg-getter/documento?dm=9347622&ts=1735605216274&disposition=inline', 'page': 18, 'start_index': 0}, page_content='risco inesperado que apresentem a direitos de pessoas naturais, comunicará o \\nfato imediatamente às autoridades competente e às pessoas afetadas pelo \\nsistema de inteligência artificial. \\nArt. 25. A avaliação de impacto algorítmico consistirá em \\nprocesso iterativo contínuo, executado ao longo de todo o ciclo de vida dos \\nsistemas de inteligência artificial de alto risco, requeridas atualizações \\nperiódicas. \\n§ 1º Caberá à autoridade competente a regulamentação da \\nperiodicidade de atualização das avaliações de impacto. \\n§ 2º A atualização da avaliação de impacto algorítmico contará \\ntambém com participação pública, a partir de procedimento de consulta a partes \\ninteressadas, ainda que de maneira simplificada. \\nArt. 26. Garantidos os segredos industrial e comercial, as \\nconclusões da avaliação de impacto serão públicas, contendo ao menos as \\nseguintes informações: \\nI – descrição da finalidade pretendida para a qual o sistema será'),\n",
              " Document(metadata={'source': 'https://legis.senado.leg.br/sdleg-getter/documento?dm=9347622&ts=1735605216274&disposition=inline', 'page': 18, 'start_index': 671}, page_content='interessadas, ainda que de maneira simplificada. \\nArt. 26. Garantidos os segredos industrial e comercial, as \\nconclusões da avaliação de impacto serão públicas, contendo ao menos as \\nseguintes informações: \\nI – descrição da finalidade pretendida para a qual o sistema será \\nutilizado, assim como de seu contexto de uso e escopo territorial e temporal; \\nII – medidas de mitigação dos riscos, bem como o seu patamar \\nresidual, uma vez implementada tais medidas; e \\nIII – descrição da participação de diferentes segmentos afetados, \\ncaso tenha ocorrido, nos termos do § 3º do art. 24 desta Lei. \\nCAPÍTULO V \\nDA RESPONSABILIDADE CIVIL \\nArt. 27. O fornecedor ou operador de sistema de inteligência \\nartificial que cause dano patrimonial, moral, individual ou coletivo é obrigado \\na repará-lo integralmente, independentemente do grau de autonomia do \\nsistema. \\n§ 1º Quando se tratar de sistema de inteligência artificial de alto'),\n",
              " Document(metadata={'source': 'https://legis.senado.leg.br/sdleg-getter/documento?dm=9347622&ts=1735605216274&disposition=inline', 'page': 18, 'start_index': 1303}, page_content='Art. 27. O fornecedor ou operador de sistema de inteligência \\nartificial que cause dano patrimonial, moral, individual ou coletivo é obrigado \\na repará-lo integralmente, independentemente do grau de autonomia do \\nsistema. \\n§ 1º Quando se tratar de sistema de inteligência artificial de alto \\nrisco ou de risco excessivo, o fornecedor ou operador respondem objetivamente \\npelos danos causados, na medida de sua participação no dano. \\n§ 2º Quando não se tratar de sistema de inteligência artificial de \\nalto risco, a culpa do agente causador do dano será presumida, aplicando-se a \\ninversão do ônus da prova em favor da vítima. \\nSF/23833.90768-16\\nPágina 19 de 33 Avulso do PL 2338/2023'),\n",
              " Document(metadata={'source': 'https://legis.senado.leg.br/sdleg-getter/documento?dm=9347622&ts=1735605216274&disposition=inline', 'page': 19, 'start_index': 0}, page_content='Art. 28. Os agentes de inteligência artificial não serão \\nresponsabilizados quando: \\nI – comprovarem que não colocaram em circulação, empregaram \\nou tiraram proveito do sistema de inteligência artificial; ou \\nII – comprovarem que o dano é decorrente de fato exclusivo da \\nvítima ou de terceiro, assim como de caso fortuito externo. \\nArt. 29. As hipóteses de responsabilização civil decorrentes de \\ndanos causados por sistemas de inteligência artificial no âmbito das relações de \\nconsumo permanecem sujeitas às regras previstas na Lei nº 8.078, de 11 de \\nsetembro de 1990 (Código de Defesa do Consumidor), sem prejuízo da \\naplicação das demais normas desta Lei. \\nCAPÍTULO VI \\nCÓDIGOS DE BOAS PRÁTICAS E DE GOVERNANÇA \\nArt. 30. Os agentes de inteligência artificial poderão, \\nindividualmente ou por meio de associações, formular códigos de boas práticas \\ne de governança que estabeleçam as condições de organização, o regime de'),\n",
              " Document(metadata={'source': 'https://legis.senado.leg.br/sdleg-getter/documento?dm=9347622&ts=1735605216274&disposition=inline', 'page': 19, 'start_index': 663}, page_content='CAPÍTULO VI \\nCÓDIGOS DE BOAS PRÁTICAS E DE GOVERNANÇA \\nArt. 30. Os agentes de inteligência artificial poderão, \\nindividualmente ou por meio de associações, formular códigos de boas práticas \\ne de governança que estabeleçam as condições de organização, o regime de \\nfuncionamento, os procedimentos, inclusive sobre reclamações das pessoas \\nafetadas, as normas de segurança, os padrões técnicos, as obrigações \\nespecíficas para cada contexto de implementação, as ações educativas, os \\nmecanismos internos de supervisão e de mitigação de riscos e as medidas de \\nsegurança técnicas e organizacionais apropriadas para a gestão dos riscos \\ndecorrentes da aplicação dos sistemas. \\n§ 1º Ao se estabelecerem regras de boas práticas, serão \\nconsideradas a finalidade, a probabilidade e a gravidade dos riscos e dos \\nbenefícios decorrentes, a exemplo da metodologia disposta no art. 24 desta Lei. \\n§ 2º Os desenvolvedores e operadores de sistemas de inteligência \\nartificial, poderão:'),\n",
              " Document(metadata={'source': 'https://legis.senado.leg.br/sdleg-getter/documento?dm=9347622&ts=1735605216274&disposition=inline', 'page': 19, 'start_index': 1394}, page_content='consideradas a finalidade, a probabilidade e a gravidade dos riscos e dos \\nbenefícios decorrentes, a exemplo da metodologia disposta no art. 24 desta Lei. \\n§ 2º Os desenvolvedores e operadores de sistemas de inteligência \\nartificial, poderão: \\nI – implementar programa de governança que, no mínimo: \\na) demonstre o seu comprometimento em adotar processos e \\npolíticas internas que assegurem o cumprimento, de forma abrangente, de \\nnormas e boas práticas relativas à não maleficência e proporcionalidade entre \\nos métodos empregados e as finalidades determinadas e legítimas dos sistemas \\nde inteligência artificial; \\nSF/23833.90768-16\\nPágina 20 de 33 Avulso do PL 2338/2023'),\n",
              " Document(metadata={'source': 'https://legis.senado.leg.br/sdleg-getter/documento?dm=9347622&ts=1735605216274&disposition=inline', 'page': 20, 'start_index': 0}, page_content='b) seja adaptado à estrutura, à escala e ao volume de suas \\noperações, bem como ao seu potencial danoso; \\nc) tenha o objetivo de estabelecer relação de confiança com as \\npessoas afetadas, por meio de atuação transparente e que assegure mecanismos \\nde participação nos termos do art. 24, § 3º, desta Lei; \\nd) esteja integrado a sua estrutura geral de governança e estabeleça \\ne aplique mecanismos de supervisão internos e externos; \\ne) conte com planos de resposta para reversão dos possíveis \\nresultados prejudiciais do sistema de inteligência artificial; e \\nf) seja atualizado constantemente com base em informações \\nobtidas a partir de monitoramento contínuo e avaliações periódicas. \\n§ 3º A adesão voluntária a código de boas práticas e governança \\npode ser considerada indicativo de boa-fé por parte do agente e será levada em \\nconsideração pela autoridade competente para fins de aplicação de sanções \\nadministrativas. \\n§ 4º A autoridade competente poderá estabelecer procedimento de'),\n",
              " Document(metadata={'source': 'https://legis.senado.leg.br/sdleg-getter/documento?dm=9347622&ts=1735605216274&disposition=inline', 'page': 20, 'start_index': 752}, page_content='pode ser considerada indicativo de boa-fé por parte do agente e será levada em \\nconsideração pela autoridade competente para fins de aplicação de sanções \\nadministrativas. \\n§ 4º A autoridade competente poderá estabelecer procedimento de \\nanálise de compatibilidade do código de conduta com a legislação vigente, com \\nvistas à sua aprovação, publicização e atualização periódica. \\nCAPÍTULO VII \\nDA COMUNICAÇÃO DE INCIDENTES GRAVES \\nArt. 31. Os agentes de inteligência artificial comunicarão à \\nautoridade competente a ocorrência de graves incidentes de segurança, \\nincluindo quando houver risco à vida e integridade física de pessoas, a \\ninterrupção de funcionamento de operações críticas de infraestrutura, graves \\ndanos à propriedade ou ao meio ambiente, bem como graves violações aos \\ndireitos fundamentais, nos termos do regulamento. \\n§ 1º A comunicação será feita em prazo razoável, conforme \\ndefinido pela autoridade competente.'),\n",
              " Document(metadata={'source': 'https://legis.senado.leg.br/sdleg-getter/documento?dm=9347622&ts=1735605216274&disposition=inline', 'page': 20, 'start_index': 1389}, page_content='interrupção de funcionamento de operações críticas de infraestrutura, graves \\ndanos à propriedade ou ao meio ambiente, bem como graves violações aos \\ndireitos fundamentais, nos termos do regulamento. \\n§ 1º A comunicação será feita em prazo razoável, conforme \\ndefinido pela autoridade competente. \\n§ 2º A autoridade competente verificará a gravidade do incidente \\ne poderá, caso necessário, determinar ao agente a adoção de providências e \\nmedidas para reverter ou mitigar os efeitos do incidente. \\nSF/23833.90768-16\\nPágina 21 de 33 Avulso do PL 2338/2023'),\n",
              " Document(metadata={'source': 'https://legis.senado.leg.br/sdleg-getter/documento?dm=9347622&ts=1735605216274&disposition=inline', 'page': 21, 'start_index': 0}, page_content='CAPÍTULO VIII \\nDA SUPERVISÃO E FISCALIZAÇÃO \\nSeção I \\nDa Autoridade Competente \\nArt. 32. O Poder Executivo designará autoridade competente para \\nzelar pela implementação e fiscalização da presente Lei. \\nParágrafo único. Cabe à autoridade competente: \\nI – zelar pela proteção a direitos fundamentais e a demais direitos \\nafetados pela utilização de sistemas de inteligência artificial; \\nII – promover a elaboração, atualização e implementação da \\nEstratégia Brasileira de Inteligência Artificial junto aos órgãos de competência \\ncorrelata; \\nIII – promover e elaborar estudos sobre boas práticas no \\ndesenvolvimento e utilização de sistemas de inteligência artificial; \\nIV – estimular a adoção de boas práticas, inclusive códigos de \\nconduta, no desenvolvimento e utilização de sistemas de inteligência artificial; \\nV – promover ações de cooperação com autoridades de proteção e \\nde fomento ao desenvolvimento e à utilização dos sistemas de inteligência'),\n",
              " Document(metadata={'source': 'https://legis.senado.leg.br/sdleg-getter/documento?dm=9347622&ts=1735605216274&disposition=inline', 'page': 21, 'start_index': 668}, page_content='IV – estimular a adoção de boas práticas, inclusive códigos de \\nconduta, no desenvolvimento e utilização de sistemas de inteligência artificial; \\nV – promover ações de cooperação com autoridades de proteção e \\nde fomento ao desenvolvimento e à utilização dos sistemas de inteligência \\nartificial de outros países, de natureza internacional ou transnacional; \\nVI – expedir normas para a regulamentação desta Lei, inclusive \\nsobre: \\na) procedimentos associados ao exercício dos direitos previstos \\nnesta Lei; \\nb) procedimentos e requisitos para elaboração da avaliação de \\nimpacto algorítmico; \\nc) forma e requisitos das informações a serem publicizadas sobre \\na utilização de sistemas de inteligência artificial; e \\nd) procedimentos para certificação do desenvolvimento e \\nutilização de sistemas de alto risco. \\nSF/23833.90768-16\\nPágina 22 de 33 Avulso do PL 2338/2023'),\n",
              " Document(metadata={'source': 'https://legis.senado.leg.br/sdleg-getter/documento?dm=9347622&ts=1735605216274&disposition=inline', 'page': 22, 'start_index': 0}, page_content='VII – articular-se com as autoridades reguladoras públicas para \\nexercer suas competências em setores específicos de atividades econômicas e \\ngovernamentais sujeitas à regulação; \\nVIII – fiscalizar, de modo independente ou em conjunto com \\noutros órgãos públicos competentes, a divulgação das informações previstas \\nnos arts. 7º e 43; \\nIX – fiscalizar e aplicar sanções, em caso de desenvolvimento ou \\nutilização de sistemas de inteligência artificial realizado em descumprimento à \\nlegislação, mediante processo administrativo que assegure o contraditório, a \\nampla defesa e o direito de recurso; \\nX – solicitar, a qualquer momento, às entidades do poder público \\nque desenvolvam ou utilizem sistemas de inteligência artificial, informe \\nespecífico sobre o âmbito, a natureza dos dados e os demais detalhes do \\ntratamento realizado, com a possibilidade de emitir parecer técnico \\ncomplementar para garantir o cumprimento desta Lei; \\nXI – celebrar, a qualquer momento, compromisso com agentes de'),\n",
              " Document(metadata={'source': 'https://legis.senado.leg.br/sdleg-getter/documento?dm=9347622&ts=1735605216274&disposition=inline', 'page': 22, 'start_index': 739}, page_content='específico sobre o âmbito, a natureza dos dados e os demais detalhes do \\ntratamento realizado, com a possibilidade de emitir parecer técnico \\ncomplementar para garantir o cumprimento desta Lei; \\nXI – celebrar, a qualquer momento, compromisso com agentes de \\ninteligência artificial para eliminar irregularidade, incerteza jurídica ou \\nsituação contenciosa no âmbito de processos administrativos, de acordo com o \\nprevisto no Decreto-Lei nº 4.657, de 4 de setembro de 1942; \\nXII – apreciar petições em face do operador de sistema de \\ninteligência artificial, após comprovada apresentação de reclamação não \\nsolucionada no prazo estabelecido em regulamentação; e \\nXIII – elaborar relatórios anuais acerca de suas atividades. \\nParágrafo único. Ao exercer as atribuições do caput, o órgão \\ncompetente poderá estabelecer condições, requisitos, canais de comunicação e \\ndivulgação diferenciados para fornecedores e operadores de sistemas de'),\n",
              " Document(metadata={'source': 'https://legis.senado.leg.br/sdleg-getter/documento?dm=9347622&ts=1735605216274&disposition=inline', 'page': 22, 'start_index': 1401}, page_content='XIII – elaborar relatórios anuais acerca de suas atividades. \\nParágrafo único. Ao exercer as atribuições do caput, o órgão \\ncompetente poderá estabelecer condições, requisitos, canais de comunicação e \\ndivulgação diferenciados para fornecedores e operadores de sistemas de \\ninteligência artificial qualificados como micro ou pequenas empresas, nos \\ntermos da Lei Complementar nº 123, de 14 de dezembro de 2006, e startups, \\nnos termos da Lei Complementar nº 182, de 1º de junho de 2021. \\nArt. 33. A autoridade competente será o órgão central de \\naplicação desta Lei e do estabelecimento de normas e diretrizes para a sua \\nimplementação. \\nArt. 34. A autoridade competente e os órgãos e entidades públicas \\nresponsáveis pela regulação de setores específicos da atividade econômica e \\nSF/23833.90768-16\\nPágina 23 de 33 Avulso do PL 2338/2023'),\n",
              " Document(metadata={'source': 'https://legis.senado.leg.br/sdleg-getter/documento?dm=9347622&ts=1735605216274&disposition=inline', 'page': 23, 'start_index': 0}, page_content='governamental coordenarão suas atividades, nas correspondentes esferas de \\natuação, com vistas a assegurar o cumprimento desta Lei. \\n§ 1º A autoridade competente manterá fórum permanente de \\ncomunicação, inclusive por meio de cooperação técnica, com órgãos e \\nentidades da administração pública responsáveis pela regulação de setores \\nespecíficos da atividade econômica e governamental, a fim de facilitar as suas \\ncompetências regulatória, fiscalizatória e sancionatória. \\n§ 2º Nos ambientes regulatórios experimentais (sandbox \\nregulatório) que envolvam sistemas de inteligência artificial, conduzidos por \\nórgãos e entidades públicas responsáveis pela regulação de setores específicos \\nda atividade econômica, a autoridade competente será cientificada, podendo se \\nmanifestar quanto ao cumprimento das finalidades e princípios desta lei. \\nArt. 35. Os regulamentos e as normas editados pela autoridade \\ncompetente serão precedidos de consulta e audiência públicas, bem como de'),\n",
              " Document(metadata={'source': 'https://legis.senado.leg.br/sdleg-getter/documento?dm=9347622&ts=1735605216274&disposition=inline', 'page': 23, 'start_index': 689}, page_content='da atividade econômica, a autoridade competente será cientificada, podendo se \\nmanifestar quanto ao cumprimento das finalidades e princípios desta lei. \\nArt. 35. Os regulamentos e as normas editados pela autoridade \\ncompetente serão precedidos de consulta e audiência públicas, bem como de \\nanálises de impacto regulatório, nos termos dos arts. 6º a 12 da Lei nº 13.848, \\nde 25 de junho de 2019, no que cabível. \\nSeção II \\nDas Sanções Administrativas \\nArt. 36. Os agentes de inteligência artificial, em razão das \\ninfrações cometidas às normas previstas nesta Lei, ficam sujeitos às seguintes \\nsanções administrativas aplicáveis pela autoridade competente: \\nI – advertência; \\nII – multa simples, limitada, no total, a R$ 50.000.000,00 \\n(cinquenta milhões de reais) por infração, sendo, no caso de pessoa jurídica de \\ndireito privado, de até 2% (dois por cento) de seu faturamento, de seu grupo ou \\nconglomerado no Brasil no seu último exercício, excluídos os tributos;'),\n",
              " Document(metadata={'source': 'https://legis.senado.leg.br/sdleg-getter/documento?dm=9347622&ts=1735605216274&disposition=inline', 'page': 23, 'start_index': 1365}, page_content='II – multa simples, limitada, no total, a R$ 50.000.000,00 \\n(cinquenta milhões de reais) por infração, sendo, no caso de pessoa jurídica de \\ndireito privado, de até 2% (dois por cento) de seu faturamento, de seu grupo ou \\nconglomerado no Brasil no seu último exercício, excluídos os tributos; \\nIII – publicização da infração após devidamente apurada e \\nconfirmada a sua ocorrência; \\nIV – proibição ou restrição para participar de regime de sandbox \\nregulatório previsto nesta Lei, por até cinco anos; \\nV – suspensão parcial ou total, temporária ou definitiva, do \\ndesenvolvimento, fornecimento ou operação do sistema de inteligência \\nartificial; e \\nSF/23833.90768-16\\nPágina 24 de 33 Avulso do PL 2338/2023'),\n",
              " Document(metadata={'source': 'https://legis.senado.leg.br/sdleg-getter/documento?dm=9347622&ts=1735605216274&disposition=inline', 'page': 24, 'start_index': 0}, page_content='VI – proibição de tratamento de determinadas bases de dados. \\n§ 1º As sanções serão aplicadas após procedimento administrativo \\nque possibilite a oportunidade da ampla defesa, de forma gradativa, isolada ou \\ncumulativa, de acordo com as peculiaridades do caso concreto e considerados \\nos seguintes parâmetros e critérios: \\nI – a gravidade e a natureza das infrações e a eventual violação de \\ndireitos; \\nII – a boa-fé do infrator; \\nIII – a vantagem auferida ou pretendida pelo infrator; \\nIV – a condição econômica do infrator; \\nV – a reincidência; \\nVI – o grau do dano; \\nVII – a cooperação do infrator; \\nVIII – a adoção reiterada e demonstrada de mecanismos e \\nprocedimentos internos capazes de minimizar riscos, inclusive a análise de \\nimpacto algorítmico e efetiva implementação de código de ética; \\nIX – a adoção de política de boas práticas e governança; \\nX – a pronta adoção de medidas corretivas; \\nXI – a proporcionalidade entre a gravidade da falta e a intensidade \\nda sanção; e'),\n",
              " Document(metadata={'source': 'https://legis.senado.leg.br/sdleg-getter/documento?dm=9347622&ts=1735605216274&disposition=inline', 'page': 24, 'start_index': 736}, page_content='impacto algorítmico e efetiva implementação de código de ética; \\nIX – a adoção de política de boas práticas e governança; \\nX – a pronta adoção de medidas corretivas; \\nXI – a proporcionalidade entre a gravidade da falta e a intensidade \\nda sanção; e \\nXII – a cumulação com outras sanções administrativas \\neventualmente já aplicadas em definitivo para o mesmo ato ilícito. \\n§ 2º Antes ou durante o processo administrativo do § 1º, poderá a \\nautoridade competente adotar medidas preventivas, incluída multa cominatória, \\nobservado o limite total a que se refere o inciso II do caput, quando houver \\nindício ou fundado receio de que o agente de inteligência artificial: \\nI – cause ou possa causar lesão irreparável ou de difícil reparação; \\nou \\nII – torne ineficaz o resultado final do processo. \\nSF/23833.90768-16\\nPágina 25 de 33 Avulso do PL 2338/2023'),\n",
              " Document(metadata={'source': 'https://legis.senado.leg.br/sdleg-getter/documento?dm=9347622&ts=1735605216274&disposition=inline', 'page': 25, 'start_index': 0}, page_content='§ 3º O disposto neste artigo não substitui a aplicação de sanções \\nadministrativas, civis ou penais definidas na Lei nº 8.078, de 11 de setembro de \\n1990, na Lei nº 13.709, de 14 de agosto de 2018, e em legislação específica. \\n§ 4º No caso do desenvolvimento, fornecimento ou utilização de \\nsistemas de inteligência artificial de risco excessivo haverá, no mínimo, \\naplicação de multa e, no caso de pessoa jurídica, a suspensão parcial ou total, \\nprovisória ou definitiva de suas atividades. \\n§ 5º A aplicação das sanções previstas neste artigo não exclui, em \\nqualquer hipótese, a obrigação da reparação integral do dano causado, nos \\ntermos do art. 27. \\nArt. 37. A autoridade competente definirá, por meio de \\nregulamento próprio, o procedimento de apuração e critérios de aplicação das \\nsanções administrativas a infrações a esta Lei, que serão objeto de consulta \\npública, sem prejuízo das disposições do Decreto-Lei nº 4.657, de 4 de'),\n",
              " Document(metadata={'source': 'https://legis.senado.leg.br/sdleg-getter/documento?dm=9347622&ts=1735605216274&disposition=inline', 'page': 25, 'start_index': 656}, page_content='Art. 37. A autoridade competente definirá, por meio de \\nregulamento próprio, o procedimento de apuração e critérios de aplicação das \\nsanções administrativas a infrações a esta Lei, que serão objeto de consulta \\npública, sem prejuízo das disposições do Decreto-Lei nº 4.657, de 4 de \\nsetembro de 1942, Lei nº 9.784, de 29 de janeiro de 1999, e demais disposições \\nlegais pertinentes. \\nParágrafo único. As metodologias a que se refere o caput deste \\nartigo serão previamente publicadas e apresentarão objetivamente as formas e \\ndosimetrias das sanções, que conterão fundamentação detalhada de todos os \\nseus elementos, demonstrando a observância dos critérios previstos nesta Lei. \\nSeção III \\nMedidas para fomentar a inovação \\nArt. 38. A autoridade competente poderá autorizar o \\nfuncionamento de ambiente regulatório experimental para inovação em \\ninteligência artificial (sandbox regulatório) para as entidades que o requererem'),\n",
              " Document(metadata={'source': 'https://legis.senado.leg.br/sdleg-getter/documento?dm=9347622&ts=1735605216274&disposition=inline', 'page': 25, 'start_index': 1337}, page_content='Seção III \\nMedidas para fomentar a inovação \\nArt. 38. A autoridade competente poderá autorizar o \\nfuncionamento de ambiente regulatório experimental para inovação em \\ninteligência artificial (sandbox regulatório) para as entidades que o requererem \\ne preencherem os requisitos especificados por esta Lei e em regulamentação. \\nArt. 39. As solicitações de autorização para sandboxes \\nregulatórios serão apresentadas ao órgão competente por meio de projeto cujas \\ncaracterísticas contemplem, entre outras: \\nI – inovação no emprego da tecnologia ou no uso alternativo de \\ntecnologias existentes; \\nII – aprimoramentos no sentido de ganhos de eficiência, redução \\nde custos, aumento de segurança, diminuição de riscos, benefícios à sociedade \\ne a consumidores, entre outros; \\nSF/23833.90768-16\\nPágina 26 de 33 Avulso do PL 2338/2023'),\n",
              " Document(metadata={'source': 'https://legis.senado.leg.br/sdleg-getter/documento?dm=9347622&ts=1735605216274&disposition=inline', 'page': 26, 'start_index': 0}, page_content='III – plano de descontinuidade, com previsão de medidas a serem \\ntomadas para assegurar a viabilidade operacional do projeto uma vez encerrado \\no período da autorização do sandbox regulatório. \\nArt. 40. A autoridade competente editará regulamentação para \\nestabelecer os procedimentos para a solicitação e autorização de funcionamento \\nde sandboxes regulatórios, podendo limitar ou interromper o seu \\nfuncionamento, bem como emitir recomendações, levando em consideração, \\ndentre outros aspectos, a preservação de direitos fundamentais, de direitos dos \\nconsumidores potencialmente afetados e a segurança e proteção dos dados \\npessoais que forem objeto de tratamento. \\nArt. 41. Os participantes no ambiente de testagem da \\nregulamentação da inteligência artificial continuam a ser responsáveis, nos \\ntermos da legislação aplicável em matéria de responsabilidade, por quaisquer \\ndanos infligidos a terceiros em resultado da experimentação que ocorre no \\nambiente de testagem.'),\n",
              " Document(metadata={'source': 'https://legis.senado.leg.br/sdleg-getter/documento?dm=9347622&ts=1735605216274&disposition=inline', 'page': 26, 'start_index': 723}, page_content='regulamentação da inteligência artificial continuam a ser responsáveis, nos \\ntermos da legislação aplicável em matéria de responsabilidade, por quaisquer \\ndanos infligidos a terceiros em resultado da experimentação que ocorre no \\nambiente de testagem. \\nArt. 42. Não constitui ofensa a direitos autorais a utilização \\nautomatizada de obras, como extração, reprodução, armazenamento e \\ntransformação, em processos de mineração de dados e textos em sistemas de \\ninteligência artificial, nas atividades feitas por organizações e instituições de \\npesquisa, de jornalismo e por museus, arquivos e bibliotecas, desde que: \\nI – não tenha como objetivo a simples reprodução, exibição ou \\ndisseminação da obra original em si; \\nII – o uso ocorra na medida necessária para o objetivo a ser \\nalcançado; \\nIII – não prejudique de forma injustificada os interesses \\neconômicos dos titulares; e \\nIV – não concorra com a exploração normal das obras. \\n§ 1º Eventuais reproduções de obras para a atividade de mineração'),\n",
              " Document(metadata={'source': 'https://legis.senado.leg.br/sdleg-getter/documento?dm=9347622&ts=1735605216274&disposition=inline', 'page': 26, 'start_index': 1440}, page_content='II – o uso ocorra na medida necessária para o objetivo a ser \\nalcançado; \\nIII – não prejudique de forma injustificada os interesses \\neconômicos dos titulares; e \\nIV – não concorra com a exploração normal das obras. \\n§ 1º Eventuais reproduções de obras para a atividade de mineração \\nde dados serão mantidas em estritas condições de segurança, e apenas pelo \\ntempo necessário para a realização da atividade ou para a finalidade específica \\nde verificação dos resultados da pesquisa científica. \\n§ 2º Aplica-se o disposto no caput à atividade de mineração de \\ndados e textos para outras atividades analíticas em sistemas de inteligência \\nartificial, cumpridas as condições dos incisos do caput e do § 1º, desde que as \\nSF/23833.90768-16\\nPágina 27 de 33 Avulso do PL 2338/2023'),\n",
              " Document(metadata={'source': 'https://legis.senado.leg.br/sdleg-getter/documento?dm=9347622&ts=1735605216274&disposition=inline', 'page': 27, 'start_index': 0}, page_content='atividades não comuniquem a obra ao público e que o acesso às obras tenha se \\ndado de forma legítima. \\n§ 3º A atividade de mineração de textos e dados que envolva dados \\npessoais estará sujeita às disposições da Lei nº 13.709, de 14 de agosto de 2018 \\n(Lei Geral de Proteção de Dados Pessoais). \\nSeção IV \\nBase de dados pública de inteligência artificial \\nArt. 43. Cabe à autoridade competente a criação e manutenção de \\nbase de dados de inteligência artificial de alto risco, acessível ao público, que \\ncontenha os documentos públicos das avaliações de impacto, respeitados os \\nsegredos comercial e industrial, nos termos do regulamento. \\nCAPÍTULO IX \\nDAS DISPOSIÇÕES FINAIS \\nArt. 44. Os direitos e princípios expressos nesta Lei não excluem \\noutros previstos no ordenamento jurídico pátrio ou nos tratados internacionais \\nem que a República Federativa do Brasil seja parte. \\nArt. 45. Esta Lei entra em vigor um ano após a sua publicação. \\nJUSTIFICAÇÃO'),\n",
              " Document(metadata={'source': 'https://legis.senado.leg.br/sdleg-getter/documento?dm=9347622&ts=1735605216274&disposition=inline', 'page': 27, 'start_index': 677}, page_content='Art. 44. Os direitos e princípios expressos nesta Lei não excluem \\noutros previstos no ordenamento jurídico pátrio ou nos tratados internacionais \\nem que a República Federativa do Brasil seja parte. \\nArt. 45. Esta Lei entra em vigor um ano após a sua publicação. \\nJUSTIFICAÇÃO \\nO desenvolvimento e a popularização das tecnologias de \\ninteligência artificial têm revolucionado diversas áreas da atividade humana. \\nAlém disso, as previsões apontam que a inteligência artificial (IA) provocará \\nmudanças econômicas e sociais ainda mais profundas num futuro próximo. \\nReconhecendo a relevância dessa questão, algumas proposições \\nlegislativas foram recentemente apresentadas, tanto no Senado Federal quanto \\nna Câmara dos Deputados, com o objetivo de estabelecer balizas para o \\ndesenvolvimento e a aplicação de sistemas de inteligência artificial no Brasil. \\nEm particular, destacam-se o Projeto de Lei (PL) nº 5.051, de 2019, de autoria'),\n",
              " Document(metadata={'source': 'https://legis.senado.leg.br/sdleg-getter/documento?dm=9347622&ts=1735605216274&disposition=inline', 'page': 27, 'start_index': 1381}, page_content='na Câmara dos Deputados, com o objetivo de estabelecer balizas para o \\ndesenvolvimento e a aplicação de sistemas de inteligência artificial no Brasil. \\nEm particular, destacam-se o Projeto de Lei (PL) nº 5.051, de 2019, de autoria \\ndo Senador Styvenson Valentim, que estabelece os princípios para o uso da \\nInteligência Artificial no Brasil; o PL nº 21, de 2020, do Deputado Federal \\nEduardo Bismarck, que estabelece fundamentos, princípios e diretrizes para o \\ndesenvolvimento e a aplicação da inteligência artificial no Brasil; e dá outras \\nprovidências, e que foi aprovado pela Câmara dos Deputados; e o PL nº 872, \\nde 2021, do Senador Veneziano Vital do Rêgo, que dispõe sobre o uso da \\nInteligência Artificial. \\nSF/23833.90768-16\\nPágina 28 de 33 Avulso do PL 2338/2023'),\n",
              " Document(metadata={'source': 'https://legis.senado.leg.br/sdleg-getter/documento?dm=9347622&ts=1735605216274&disposition=inline', 'page': 28, 'start_index': 0}, page_content='Em 3 de fevereiro de 2022, esses três projetos passaram a tramitar \\nconjuntamente no Senado Federal e, em sequência, em 17 de fevereiro do \\nmesmo ano, por meio do Ato do Presidente do Senado Federal nº 4, de 2022, \\nde minha autoria, por sugestão do Senador Eduardo Gomes, tendo em mente a \\nelaboração de um texto legal com a mais avançada tecnicidade, foi instituída a \\nComissão de Juristas destinada a subsidiar a elaboração de minuta de \\nsubstitutivo a eles. \\nComposta por notórios juristas, a comissão teve como membros \\ngrandes especialistas nos ramos do direito civil e do direito digital, aos quais \\nagradeço o tempo, a dedicação e o compartilhamento do texto final, que ora \\napresento. Integraram o colegiado: o Ministro do Superior Tribunal de Justiça, \\nRicardo Villas Bôas Cueva (Presidente); Laura Schertel Ferreira Mendes \\n(Relatora); Ana de Oliveira Frazão; Bruno Ricardo Bioni; Danilo Cesar \\nMaganhoto Doneda (in memoriam); Fabrício de Mota Alves; Miriam Wimmer;'),\n",
              " Document(metadata={'source': 'https://legis.senado.leg.br/sdleg-getter/documento?dm=9347622&ts=1735605216274&disposition=inline', 'page': 28, 'start_index': 682}, page_content=\"apresento. Integraram o colegiado: o Ministro do Superior Tribunal de Justiça, \\nRicardo Villas Bôas Cueva (Presidente); Laura Schertel Ferreira Mendes \\n(Relatora); Ana de Oliveira Frazão; Bruno Ricardo Bioni; Danilo Cesar \\nMaganhoto Doneda (in memoriam); Fabrício de Mota Alves; Miriam Wimmer; \\nWederson Advincula Siqueira; Claudia Lima Marques; Juliano Souza de \\nAlbuquerque Maranhão; Thiago Luís Santos Sombra; Georges Abboud; \\nFrederico Quadros D'Almeida; Victor Marcel Pinheiro; Estela Aranha; Clara \\nIglesias Keller; Mariana Giorgetti Valente e Filipe José Medon Affonso. Não \\npoderia deixar de agradecer, ademais, ao corpo técnico do Senado Federal, em \\nespecial à Consultoria Legislativa e aos servidores que prestaram suporte ao \\ncolegiado: Reinilson Prado dos Santos; Renata Felix Perez e Donaldo Portela \\nRodrigues.  \\nA referida Comissão realizou uma série de audiências públicas, \\nalém de seminário internacional, ouvindo mais de setenta especialistas sobre a\"),\n",
              " Document(metadata={'source': 'https://legis.senado.leg.br/sdleg-getter/documento?dm=9347622&ts=1735605216274&disposition=inline', 'page': 28, 'start_index': 1420}, page_content='colegiado: Reinilson Prado dos Santos; Renata Felix Perez e Donaldo Portela \\nRodrigues.  \\nA referida Comissão realizou uma série de audiências públicas, \\nalém de seminário internacional, ouvindo mais de setenta especialistas sobre a \\nmatéria, representantes de diversos segmentos: sociedade civil organizada, \\ngoverno, academia e setor privado. Abriu ainda oportunidade para a \\nparticipação de quaisquer interessados, por meio de contribuições escritas, \\ntendo recebido 102 manifestações, individualmente analisadas e organizadas \\nde acordo com suas propostas. Finalmente, a Comissão demandou à \\nConsultoria Legislativa do Senado Federal estudo sobre a regulamentação da \\ninteligência artificial em mais de trinta países integrantes da Organização para \\na Cooperação e Desenvolvimento Econômico (OCDE), o que permitiu analisar \\no panorama normativo mundial da matéria. \\nCom base em todo esse extenso material, em 6 de dezembro de'),\n",
              " Document(metadata={'source': 'https://legis.senado.leg.br/sdleg-getter/documento?dm=9347622&ts=1735605216274&disposition=inline', 'page': 28, 'start_index': 2092}, page_content='inteligência artificial em mais de trinta países integrantes da Organização para \\na Cooperação e Desenvolvimento Econômico (OCDE), o que permitiu analisar \\no panorama normativo mundial da matéria. \\nCom base em todo esse extenso material, em 6 de dezembro de \\n2022, a Comissão de Juristas apresentou seu relatório final, juntamente com \\nanteprojeto de lei para regulamentação da inteligência artificial. \\nNesse contexto, a presente iniciativa se baseia nas conclusões da \\ncitada Comissão e busca conciliar, na disciplina legal, a proteção de direitos e \\nSF/23833.90768-16\\nPágina 29 de 33 Avulso do PL 2338/2023'),\n",
              " Document(metadata={'source': 'https://legis.senado.leg.br/sdleg-getter/documento?dm=9347622&ts=1735605216274&disposition=inline', 'page': 29, 'start_index': 0}, page_content='liberdades fundamentais, a valorização do trabalho e da dignidade da pessoa \\nhumana e a inovação tecnológica representada pela inteligência artificial. \\nO projeto tem um duplo objetivo. De um lado, estabelece direitos \\npara proteção do elo mais vulnerável em questão, a pessoa natural que já é \\ndiariamente impactada por sistemas de inteligência artificial, desde a \\nrecomendação de conteúdo e direcionamento de publicidade na Internet até a \\nsua análise de elegibilidade para tomada de crédito e para determinadas \\npolíticas públicas. De outro lado, ao dispor de ferramentas de governança e de \\num arranjo institucional de fiscalização e supervisão, cria condições de \\nprevisibilidade acerca da sua interpretação e, em última análise, segurança \\njurídica para inovação e o desenvolvimento tecnológico. \\nA proposição parte da premissa, portanto, de que não há um trade-\\noff entre a proteção de direitos e liberdades fundamentais, da valorização do'),\n",
              " Document(metadata={'source': 'https://legis.senado.leg.br/sdleg-getter/documento?dm=9347622&ts=1735605216274&disposition=inline', 'page': 29, 'start_index': 670}, page_content='previsibilidade acerca da sua interpretação e, em última análise, segurança \\njurídica para inovação e o desenvolvimento tecnológico. \\nA proposição parte da premissa, portanto, de que não há um trade-\\noff entre a proteção de direitos e liberdades fundamentais, da valorização do \\ntrabalho e da dignidade da pessoa humana face à ordem econômica e à criação \\nde novas cadeias de valor. Pelo contrário, seus fundamentos e a sua base \\nprincipiológica buscam tal harmonização, nos termos da Constituição Federal. \\nEstruturalmente, a proposição estabelece uma regulação baseada \\nem riscos e uma modelagem regulatória fundada em direitos. Apresenta ainda \\ninstrumentos de governança para uma adequada prestação de contas dos \\nagentes econômicos desenvolvedores e utilizadores da inteligência artificial, \\nincentivando uma atuação de boa-fé e um eficaz gerenciamento de riscos. \\nO texto proposto, inicialmente, define fundamentos e princípios'),\n",
              " Document(metadata={'source': 'https://legis.senado.leg.br/sdleg-getter/documento?dm=9347622&ts=1735605216274&disposition=inline', 'page': 29, 'start_index': 1318}, page_content='instrumentos de governança para uma adequada prestação de contas dos \\nagentes econômicos desenvolvedores e utilizadores da inteligência artificial, \\nincentivando uma atuação de boa-fé e um eficaz gerenciamento de riscos. \\nO texto proposto, inicialmente, define fundamentos e princípios \\ngerais para o desenvolvimento e utilização dos sistemas de inteligência \\nartificial, que balizam todas as demais disposições específicas. \\nDedica capítulo específico à proteção dos direitos das pessoas \\nafetadas por sistemas de inteligência artificial, no qual: garante acesso \\napropriado à informação e adequada compreensão das decisões tomadas por \\nesses sistemas; estabelece e regula o direito de contestar decisões \\nautomatizadas e de solicitar intervenção humana; e disciplina o direito à não-\\ndiscriminação e à correção de vieses discriminatórios. \\nAlém de fixar direitos básicos e transversais para todo e qualquer \\ncontexto em que há interação entre máquina e ser humano, como informação e'),\n",
              " Document(metadata={'source': 'https://legis.senado.leg.br/sdleg-getter/documento?dm=9347622&ts=1735605216274&disposition=inline', 'page': 29, 'start_index': 2025}, page_content='automatizadas e de solicitar intervenção humana; e disciplina o direito à não-\\ndiscriminação e à correção de vieses discriminatórios. \\nAlém de fixar direitos básicos e transversais para todo e qualquer \\ncontexto em que há interação entre máquina e ser humano, como informação e \\ntransparência, intensifica-se tal obrigação quando o sistema de IA produz \\nefeitos jurídicos relevantes ou impactem os sujeitos de maneira significativa \\n(ex: direito de contestação e intervenção humana). Assim, o peso da regulação \\né calibrado de acordo com os potenciais riscos do contexto de aplicação da \\ntecnologia. Foram estabelecidas, de forma simétrica aos direitos, determinadas \\nSF/23833.90768-16\\nPágina 30 de 33 Avulso do PL 2338/2023'),\n",
              " Document(metadata={'source': 'https://legis.senado.leg.br/sdleg-getter/documento?dm=9347622&ts=1735605216274&disposition=inline', 'page': 30, 'start_index': 0}, page_content='medidas gerais e específicas de governança para, respectivamente, sistemas de \\ninteligência artificial com qualquer grau de risco e para os categorizados como \\nde alto risco. \\nAo abordar a categorização dos riscos da inteligência artificial, a \\nproposição estabelece a exigência de avaliação preliminar; define as aplicações \\nvedadas, por risco excessivo; e define as aplicações de alto risco, sujeitas a \\nnormas de controle mais estritas. \\nNo que tange à governança dos sistemas, o projeto elenca as \\nmedidas a serem adotadas para garantir a transparência e a mitigação de vieses; \\nfixa medidas adicionais para sistemas de alto risco e para sistemas \\ngovernamentais de inteligência artificial; e normatiza o procedimento para a \\navaliação de impacto algorítmico. \\nO texto ainda aborda as regras de responsabilização civil \\nenvolvendo sistemas de inteligência artificial, definindo inclusive as hipóteses \\nem que os responsáveis por seu desenvolvimento e utilização não serão \\nresponsabilizados.'),\n",
              " Document(metadata={'source': 'https://legis.senado.leg.br/sdleg-getter/documento?dm=9347622&ts=1735605216274&disposition=inline', 'page': 30, 'start_index': 730}, page_content='avaliação de impacto algorítmico. \\nO texto ainda aborda as regras de responsabilização civil \\nenvolvendo sistemas de inteligência artificial, definindo inclusive as hipóteses \\nem que os responsáveis por seu desenvolvimento e utilização não serão \\nresponsabilizados. \\nConforme a gradação de normas de acordo com o risco imposto \\npelo sistema - que permeia toda a minuta da proposição - faz-se uma \\ndiferenciação importante no capítulo da responsabilidade civil: quando se tratar \\nde sistema de IA de alto risco ou de risco excessivo, o fornecedor ou operador \\nrespondem objetivamente pelos danos causados, na medida da participação de \\ncada um no dano. E quando se tratar de IA que não seja de alto risco, a culpa \\ndo agente causador do dano será presumida, aplicando-se a inversão do ônus \\nda prova em favor da vítima. \\nO projeto também reforça a proteção contra a discriminação, por \\nmeio de diversos instrumentos, como o direito à informação e compreensão, o'),\n",
              " Document(metadata={'source': 'https://legis.senado.leg.br/sdleg-getter/documento?dm=9347622&ts=1735605216274&disposition=inline', 'page': 30, 'start_index': 1444}, page_content='do agente causador do dano será presumida, aplicando-se a inversão do ônus \\nda prova em favor da vítima. \\nO projeto também reforça a proteção contra a discriminação, por \\nmeio de diversos instrumentos, como o direito à informação e compreensão, o \\ndireito à contestação, e em um direito específico de correção de vieses \\ndiscriminatórios diretos, indiretos, ilegais ou abusivos, além das medidas de \\ngovernança preventivas. Além de adotar definições sobre discriminação direta \\ne indireta – incorporando, assim, definições da Convenção Interamericana \\ncontra o Racismo, promulgada em 2022 –, o texto tem como ponto de atenção \\ngrupos (hiper)vulneráveis tanto para a qualificação do que venha ser um \\nsistema de alto risco como para o reforço de determinados direitos. \\nAo dispor sobre a fiscalização da inteligência artificial, o projeto \\ndetermina que o Poder Executivo designe autoridade para zelar pelo \\ncumprimento das normas estabelecidas e especifica suas competências e fixa'),\n",
              " Document(metadata={'source': 'https://legis.senado.leg.br/sdleg-getter/documento?dm=9347622&ts=1735605216274&disposition=inline', 'page': 30, 'start_index': 2144}, page_content='sistema de alto risco como para o reforço de determinados direitos. \\nAo dispor sobre a fiscalização da inteligência artificial, o projeto \\ndetermina que o Poder Executivo designe autoridade para zelar pelo \\ncumprimento das normas estabelecidas e especifica suas competências e fixa \\nsanções administrativas. \\nSF/23833.90768-16\\nPágina 31 de 33 Avulso do PL 2338/2023'),\n",
              " Document(metadata={'source': 'https://legis.senado.leg.br/sdleg-getter/documento?dm=9347622&ts=1735605216274&disposition=inline', 'page': 31, 'start_index': 0}, page_content='São também previstas medidas para fomentar a inovação da \\ninteligência artificial, destacando-se o ambiente regulatório experimental \\n(sandbox regulatório). \\nCom isso, a partir de uma abordagem mista de disposições ex-ante \\ne ex-post, a proposição traça critérios para fins de avaliação e desencadeamento \\nde quais tipos de ações devem ser tomadas para mitigação dos riscos em jogo, \\nenvolvendo também os setores interessados no processo regulatório, por meio \\nda corregulação. \\nAinda, em linha com o direito internacional, traça balizas para \\nconformar direitos autorais e de propriedade intelectual à noção de que os dados \\ndevem ser um bem comum e, portanto, circularem para o treinamento de \\nmáquina e o desenvolvimento de sistema de inteligência artificial - sem, \\ncontudo, implicar em prejuízo aos titulares de tais direitos.  Há, com isso, \\ndesdobramentos de como a regulação pode fomentar a inovação. Diante do \\nexposto, e cientes do desafio que a matéria representa, contamos com a'),\n",
              " Document(metadata={'source': 'https://legis.senado.leg.br/sdleg-getter/documento?dm=9347622&ts=1735605216274&disposition=inline', 'page': 31, 'start_index': 696}, page_content='máquina e o desenvolvimento de sistema de inteligência artificial - sem, \\ncontudo, implicar em prejuízo aos titulares de tais direitos.  Há, com isso, \\ndesdobramentos de como a regulação pode fomentar a inovação. Diante do \\nexposto, e cientes do desafio que a matéria representa, contamos com a \\ncolaboração dos nobres colegas para o aperfeiçoamento dessa proposta. \\nSala das Sessões,  \\nSenador Rodrigo Pacheco  \\nSF/23833.90768-16\\nPágina 32 de 33 Avulso do PL 2338/2023'),\n",
              " Document(metadata={'source': 'https://legis.senado.leg.br/sdleg-getter/documento?dm=9347622&ts=1735605216274&disposition=inline', 'page': 32, 'start_index': 0}, page_content='-\\n-\\n-\\n-\\n-\\n-\\n-\\n-\\n-\\n-\\n-\\nLEGISLAÇÃO CITADA  Constituição de 1988 - CON-1988-10-05 - 1988/88 \\nhttps://normas.leg.br/?urn=urn:lex:br:federal:constituicao:1988;1988\\nDecreto-Lei nº 4.657, de 4 de Setembro de 1942 - Lei de Introdução às Normas do\\nDireito Brasileiro; Lei de Introdução ao Código Civil - 4657/42 \\nhttps://normas.leg.br/?urn=urn:lex:br:federal:decreto.lei:1942;4657\\nLei Complementar nº 123, de 14 de Dezembro de 2006 - Estatuto Nacional da\\nMicroempresa e da Empresa de Pequeno Porte; Estatuto da Micro e Pequena\\nEmpresa; Lei do Simples Nacional; Lei do Supersimples  - 123/06 \\nhttps://normas.leg.br/?urn=urn:lex:br:federal:lei.complementar:2006;123\\nLei Complementar nº 182, de 1º de Junho de 2021 - Marco Legal das Startups e do\\nEmpreendedorismo Inovador - 182/21 \\nhttps://normas.leg.br/?urn=urn:lex:br:federal:lei.complementar:2021;182\\nLei nº 8.078, de 11 de Setembro de 1990 - Código de Defesa do Consumidor  - 8078/90 \\nhttps://normas.leg.br/?urn=urn:lex:br:federal:lei:1990;8078\\nart9\\nart10'),\n",
              " Document(metadata={'source': 'https://legis.senado.leg.br/sdleg-getter/documento?dm=9347622&ts=1735605216274&disposition=inline', 'page': 32, 'start_index': 735}, page_content='Empreendedorismo Inovador - 182/21 \\nhttps://normas.leg.br/?urn=urn:lex:br:federal:lei.complementar:2021;182\\nLei nº 8.078, de 11 de Setembro de 1990 - Código de Defesa do Consumidor  - 8078/90 \\nhttps://normas.leg.br/?urn=urn:lex:br:federal:lei:1990;8078\\nart9\\nart10\\nLei nº 9.784, de 29 de Janeiro de 1999 - Lei Geral do Processo Administrativo; Lei do\\nProcesso Administrativo Federal  - 9784/99 \\nhttps://normas.leg.br/?urn=urn:lex:br:federal:lei:1999;9784\\nLei nº 13.709, de 14 de Agosto de 2018 - Lei Geral de Proteção de Dados Pessoais\\n(LGPDP) - 13709/18 \\nhttps://normas.leg.br/?urn=urn:lex:br:federal:lei:2018;13709\\nart18\\nLei nº 13.848, de 25 de Junho de 2019 - LEI-13848-2019-06-25 - 13848/19 \\nhttps://normas.leg.br/?urn=urn:lex:br:federal:lei:2019;13848\\nPágina 33 de 33 Avulso do PL 2338/2023')]"
            ]
          },
          "metadata": {},
          "execution_count": 6
        }
      ]
    },
    {
      "cell_type": "code",
      "execution_count": 7,
      "metadata": {
        "id": "sr7SbN37yWt3",
        "colab": {
          "base_uri": "https://localhost:8080/"
        },
        "outputId": "40faf211-5a7a-4ff6-ca65-d0367edd1b5c"
      },
      "outputs": [
        {
          "output_type": "stream",
          "name": "stdout",
          "text": [
            "VIII – a privacidade, a proteção de dados e a autodeterminação \n",
            "informativa; \n",
            "IX – a promoção da pesquisa e do desenvolvimento com a \n",
            "finalidade de estimular a inovação nos setores produtivos e no poder público; e \n",
            "X – o acesso à informação e à educação, e a conscientização sobre \n",
            "os sistemas de inteligência artificial e suas aplicações. \n",
            "Art. 3º O desenvolvimento, a implementação e o uso de sistemas \n",
            "de inteligência artificial observarão a boa-fé e os seguintes princípios: \n",
            "I – crescimento inclusivo, desenvolvimento sustentável e bem-\n",
            "estar; \n",
            "II – autodeterminação e liberdade de decisão e de escolha; \n",
            "III – participação humana no ciclo da inteligência artificial e \n",
            "supervisão humana efetiva; \n",
            "IV – não discriminação; \n",
            "V – justiça, equidade e inclusão; \n",
            "VI – transparência, explicabilidade, inteligibilidade e \n",
            "auditabilidade; \n",
            "VII – confiabilidade e robustez dos sistemas de inteligência \n",
            "artificial e segurança da informação;\n"
          ]
        }
      ],
      "source": [
        "print(all_splits[3].page_content)"
      ]
    },
    {
      "cell_type": "markdown",
      "metadata": {
        "id": "pTiXNUSxyWt3"
      },
      "source": [
        "#**4. Indexando - Store**"
      ]
    },
    {
      "cell_type": "markdown",
      "source": [
        "Criação da vector store usando FAISS."
      ],
      "metadata": {
        "id": "HFtlOEZtpQYD"
      }
    },
    {
      "cell_type": "code",
      "source": [
        "# Inicialização do modelo de embeddings\n",
        "embeddings_model = OpenAIEmbeddings()\n",
        "\n",
        "# Criação do vector store\n",
        "vectorstore = FAISS.from_documents(all_splits, OpenAIEmbeddings())\n",
        "\n",
        "# Criação do recuperador de documentos\n",
        "retriever = vectorstore.as_retriever(search_type=\"similarity\", search_kwargs={\"k\": 3})\n",
        "\n",
        "# Realizando a busca\n",
        "retrieved_docs = retriever.invoke(\"O que é sistema de inteligência artificial?\")\n",
        "len(retrieved_docs)"
      ],
      "metadata": {
        "colab": {
          "base_uri": "https://localhost:8080/"
        },
        "id": "sNWstL4DwXp1",
        "outputId": "213434d2-3fbb-4d35-f7c4-ccac94e41a7e"
      },
      "execution_count": 8,
      "outputs": [
        {
          "output_type": "execute_result",
          "data": {
            "text/plain": [
              "3"
            ]
          },
          "metadata": {},
          "execution_count": 8
        }
      ]
    },
    {
      "cell_type": "code",
      "source": [
        "print(retrieved_docs[0].page_content)"
      ],
      "metadata": {
        "colab": {
          "base_uri": "https://localhost:8080/"
        },
        "id": "MKaEuvxG0nxU",
        "outputId": "0140bdfc-0c22-4e1f-e889-123c56fa77e7"
      },
      "execution_count": 12,
      "outputs": [
        {
          "output_type": "stream",
          "name": "stdout",
          "text": [
            "XII – não maleficência e proporcionalidade entre os métodos \n",
            "empregados e as finalidades determinadas e legítimas dos sistemas de \n",
            "inteligência artificial. \n",
            "Art. 4º Para as finalidades desta Lei, adotam-se as seguintes \n",
            "definições: \n",
            "I – sistema de inteligência artificial: sistema computacional, com \n",
            "graus diferentes de autonomia, desenhado para inferir como atingir um dado \n",
            "conjunto de objetivos, utilizando abordagens baseadas em aprendizagem de \n",
            "máquina e/ou lógica e representação do conhecimento, por meio de dados de \n",
            "entrada provenientes de máquinas ou humanos, com o objetivo de produzir \n",
            "previsões, recomendações ou decisões que possam influenciar o ambiente \n",
            "virtual ou real; \n",
            "II – fornecedor de sistema de inteligência artificial: pessoa natural \n",
            "ou jurídica, de natureza pública ou privada, que desenvolva um sistema de \n",
            "inteligência artificial, diretamente ou por encomenda, com vistas a sua \n",
            "colocação no mercado ou a sua aplicação em serviço por ela fornecido, sob seu\n"
          ]
        }
      ]
    },
    {
      "cell_type": "markdown",
      "metadata": {
        "id": "1EsO2VyZyWt4"
      },
      "source": [
        "#**5. Buscando e Recuperando Informações - Retrieve**"
      ]
    },
    {
      "cell_type": "markdown",
      "source": [
        "Criação do prompt template usando ChatPromptTemplate."
      ],
      "metadata": {
        "id": "3SZLyGI2piWu"
      }
    },
    {
      "cell_type": "code",
      "execution_count": 13,
      "metadata": {
        "id": "HATshtkiyWt5"
      },
      "outputs": [],
      "source": [
        "from langchain_core.prompts import ChatPromptTemplate\n",
        "\n",
        "system_template = \"\"\"Você é um assistente para tarefas de perguntas e respostas. Use os seguintes trechos de contexto recuperados para responder à pergunta. Se você não souber a resposta, apenas diga que não sabe. Use no máximo duas frases e mantenha a resposta concisa e fale apenas o necessário.\n",
        "\n",
        "Pergunta: {question}\n",
        "\n",
        "Contexto: {context}\n",
        "\n",
        "Resposta:\n",
        "\"\"\"\n",
        "\n",
        "prompt_template = ChatPromptTemplate.from_template(system_template)"
      ]
    },
    {
      "cell_type": "markdown",
      "metadata": {
        "id": "PUwSLxWGyWt5"
      },
      "source": [
        "#**6. Gerando Respostas - Generate**"
      ]
    },
    {
      "cell_type": "markdown",
      "source": [
        "Criação da chain usando LangChain e realização de perguntas ao sistema."
      ],
      "metadata": {
        "id": "5nWzlrDjp58c"
      }
    },
    {
      "cell_type": "code",
      "execution_count": 14,
      "metadata": {
        "id": "HBYAsNmkyWt5"
      },
      "outputs": [],
      "source": [
        "from langchain_openai import ChatOpenAI\n",
        "\n",
        "llm = ChatOpenAI(model=\"gpt-4o-mini\")"
      ]
    },
    {
      "cell_type": "code",
      "execution_count": 15,
      "metadata": {
        "id": "Jj3Sr55xyWt5"
      },
      "outputs": [],
      "source": [
        "from langchain_core.output_parsers import StrOutputParser\n",
        "from langchain_core.runnables import RunnablePassthrough\n",
        "\n",
        "def format_docs(docs):\n",
        "    return \"\\n\\n\".join(doc.page_content for doc in docs)\n",
        "\n",
        "rag_chain = (\n",
        "    {\"context\": retriever | format_docs, \"question\": RunnablePassthrough()}\n",
        "    | prompt_template\n",
        "    | llm\n",
        "    | StrOutputParser()\n",
        ")"
      ]
    },
    {
      "cell_type": "code",
      "source": [
        "for chunk in rag_chain.stream(\"O PROJETO DE LEI N° 2338 dispõe sobre o que?\"):\n",
        "    print(chunk, end=\"\", flush=True)"
      ],
      "metadata": {
        "colab": {
          "base_uri": "https://localhost:8080/"
        },
        "id": "g4R6fxDrBC_5",
        "outputId": "26c59673-48e3-4a48-ed19-f5d3aa9fb371"
      },
      "execution_count": 16,
      "outputs": [
        {
          "output_type": "stream",
          "name": "stdout",
          "text": [
            "O PROJETO DE LEI N° 2338 de 2023 dispõe sobre o uso da Inteligência Artificial, incluindo aspectos como direitos humanos, proteção ao meio ambiente e fiscalização. Ele estabelece normas e sanções administrativas relacionadas ao cumprimento dessas diretrizes."
          ]
        }
      ]
    },
    {
      "cell_type": "code",
      "source": [
        "for chunk in rag_chain.stream(\"O que são sistemas de inteligência artificial de alto risco ?\"):\n",
        "    print(chunk, end=\"\", flush=True)"
      ],
      "metadata": {
        "id": "sxBbgYdD_L5l",
        "colab": {
          "base_uri": "https://localhost:8080/"
        },
        "outputId": "3cd3fef7-1330-4c7c-86e7-df8063c0d872"
      },
      "execution_count": 17,
      "outputs": [
        {
          "output_type": "stream",
          "name": "stdout",
          "text": [
            "Sistemas de inteligência artificial de alto risco são aqueles utilizados em áreas críticas, como segurança de infraestruturas, educação e recrutamento, que exigem regulamentação e avaliação de impacto devido ao seu potencial de afetar significativamente a vida das pessoas. Eles estão sujeitos a normas de controle mais rigorosas para garantir a transparência e a mitigação de vieses."
          ]
        }
      ]
    },
    {
      "cell_type": "code",
      "execution_count": 18,
      "metadata": {
        "id": "sOTZCo6RyWt5",
        "colab": {
          "base_uri": "https://localhost:8080/"
        },
        "outputId": "d940b92e-f321-4a73-afa5-307fa0f4e69c"
      },
      "outputs": [
        {
          "output_type": "stream",
          "name": "stdout",
          "text": [
            "As pessoas afetadas por sistemas de inteligência artificial têm direitos como o direito à informação prévia sobre interações, o direito à explicação sobre decisões tomadas, o direito de contestar essas decisões, e o direito à privacidade e proteção de dados. Além disso, devem ter acesso a participação humana nas decisões e proteção contra discriminação."
          ]
        }
      ],
      "source": [
        "for chunk in rag_chain.stream(\"Quais os direitos das pessoas afetadas por sistemas de inteligência artificial ?\"):\n",
        "    print(chunk, end=\"\", flush=True)"
      ]
    },
    {
      "cell_type": "code",
      "source": [
        "for chunk in rag_chain.stream(\"Qual a responsabilidade civil do fornecedor ou operador de sistema de inteligência artificial que cause dano patrimonial, moral, individual ou coletivo ?\"):\n",
        "    print(chunk, end=\"\", flush=True)\n"
      ],
      "metadata": {
        "id": "E0GtrzO2DUKh",
        "colab": {
          "base_uri": "https://localhost:8080/"
        },
        "outputId": "781b3f71-ce60-4a81-fdc1-9999adaf1e02"
      },
      "execution_count": 19,
      "outputs": [
        {
          "output_type": "stream",
          "name": "stdout",
          "text": [
            "O fornecedor ou operador de sistema de inteligência artificial que causar dano patrimonial, moral, individual ou coletivo é obrigado a repará-lo integralmente. Para sistemas de alto risco, a responsabilidade é objetiva, enquanto para os demais, a culpa é presumida, aplicando-se a inversão do ônus da prova em favor da vítima."
          ]
        }
      ]
    },
    {
      "cell_type": "code",
      "source": [
        "for chunk in rag_chain.stream(\"De quem é a obrigação para avaliar o impacto algorítmico de sistemas de inteligência artificial? E quais as etapas de avaliação de impacto?\"):\n",
        "    print(chunk, end=\"\", flush=True)"
      ],
      "metadata": {
        "id": "l8BijviNDxVG",
        "colab": {
          "base_uri": "https://localhost:8080/"
        },
        "outputId": "c70e95ac-309a-45e1-8d53-120e0386e340"
      },
      "execution_count": 20,
      "outputs": [
        {
          "output_type": "stream",
          "name": "stdout",
          "text": [
            "A obrigação de avaliar o impacto algorítmico é do fornecedor ou operador do sistema de inteligência artificial, realizada por profissionais com conhecimentos técnicos, científicos e jurídicos. As etapas da avaliação incluem preparação, cognição do risco, mitigação dos riscos encontrados e monitoramento."
          ]
        }
      ]
    }
  ],
  "metadata": {
    "kernelspec": {
      "display_name": "base",
      "language": "python",
      "name": "python3"
    },
    "language_info": {
      "codemirror_mode": {
        "name": "ipython",
        "version": 3
      },
      "file_extension": ".py",
      "mimetype": "text/x-python",
      "name": "python",
      "nbconvert_exporter": "python",
      "pygments_lexer": "ipython3",
      "version": "3.10.13"
    },
    "colab": {
      "provenance": []
    }
  },
  "nbformat": 4,
  "nbformat_minor": 0
}