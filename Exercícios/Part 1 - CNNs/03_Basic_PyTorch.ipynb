{
  "cells": [
    {
      "cell_type": "markdown",
      "source": [
        "**Terceiro Trabalho**\n",
        "\n",
        "**Nome:Valéria Cristina A. R. de Figueredo**"
      ],
      "metadata": {
        "id": "cE-HFP0O0V6H"
      }
    },
    {
      "cell_type": "code",
      "execution_count": 1,
      "metadata": {
        "id": "2SSb3QikzoMf"
      },
      "outputs": [],
      "source": [
        "# Importando PyTorch\n",
        "import torch"
      ]
    },
    {
      "cell_type": "markdown",
      "metadata": {
        "id": "GcyoxeFNzoMg"
      },
      "source": [
        "# Introdução ao PyTorch\n",
        "\n",
        "## O que é PyTorch?\n",
        "PyTorch é uma biblioteca de aprendizado profundo de código aberto desenvolvida pelo Facebook's AI Research lab (FAIR). Ela é amplamente utilizada para tarefas de visão computacional e processamento de linguagem natural."
      ]
    },
    {
      "cell_type": "markdown",
      "metadata": {
        "id": "JjsmcIrvzoMi"
      },
      "source": [
        "### História e contexto\n",
        "PyTorch foi lançado em janeiro de 2017. Ele é baseado na biblioteca Torch, que é uma estrutura de aprendizado de máquina em Lua. PyTorch é conhecido por sua facilidade de uso e integração com Python, o que o torna popular entre pesquisadores e engenheiros.\n",
        "\n",
        "### Comparação com outras bibliotecas\n",
        "- **TensorFlow**: Desenvolvido pelo Google, TensorFlow é uma das bibliotecas de aprendizado profundo mais populares. Enquanto TensorFlow é conhecido por sua escalabilidade e produção, PyTorch é elogiado por sua facilidade de uso e flexibilidade.\n",
        "- **NumPy**: NumPy é uma biblioteca fundamental para computação científica em Python. PyTorch usa tensores, que são similares aos arrays do NumPy, mas com suporte para computação em GPU."
      ]
    },
    {
      "cell_type": "markdown",
      "metadata": {
        "id": "8g7TUql3zoMi"
      },
      "source": [
        "## O que são tensores?\n",
        "Tensores são a estrutura de dados fundamental em PyTorch. Eles são similares aos arrays do NumPy, mas com suporte para computação em GPU.\n",
        "\n",
        "Tensores 1D, 2D, 3D, etc.\n",
        "- 1D: Vetores\n",
        "- 2D: Matrizes\n",
        "- 3D: Matrizes tridimensionais (cubos de dados)\n",
        "- ND: Tensores de N dimensões"
      ]
    },
    {
      "cell_type": "code",
      "execution_count": 2,
      "metadata": {
        "id": "IvqDBNrnzoMi",
        "colab": {
          "base_uri": "https://localhost:8080/"
        },
        "outputId": "c83ec23b-b275-4874-9fe4-5e794d3d78b5"
      },
      "outputs": [
        {
          "output_type": "stream",
          "name": "stdout",
          "text": [
            "tensor([1, 2, 3, 4])\n"
          ]
        }
      ],
      "source": [
        "# Tensor 1D\n",
        "tensor_1d = torch.tensor([1, 2, 3, 4])\n",
        "print(tensor_1d)"
      ]
    },
    {
      "cell_type": "code",
      "execution_count": 3,
      "metadata": {
        "id": "DA6MuBfNzoMj",
        "colab": {
          "base_uri": "https://localhost:8080/"
        },
        "outputId": "8322da5b-8a9b-4072-ba79-8536b939d52e"
      },
      "outputs": [
        {
          "output_type": "stream",
          "name": "stdout",
          "text": [
            "tensor([[1, 2, 3],\n",
            "        [4, 5, 6]])\n"
          ]
        }
      ],
      "source": [
        "# Tensor 2D\n",
        "tensor_2d = torch.tensor([[1, 2, 3], [4, 5, 6]])\n",
        "print(tensor_2d)"
      ]
    },
    {
      "cell_type": "code",
      "execution_count": 4,
      "metadata": {
        "id": "ruAHMxh0zoMj",
        "colab": {
          "base_uri": "https://localhost:8080/"
        },
        "outputId": "fd9edba6-d1a3-4aac-e372-451a2fa07e64"
      },
      "outputs": [
        {
          "output_type": "stream",
          "name": "stdout",
          "text": [
            "tensor([[[1, 2],\n",
            "         [3, 4]],\n",
            "\n",
            "        [[5, 6],\n",
            "         [7, 8]]])\n"
          ]
        }
      ],
      "source": [
        "# Tensor 3D\n",
        "tensor_3d = torch.tensor([[[1, 2], [3, 4]], [[5, 6], [7, 8]]])\n",
        "print(tensor_3d)"
      ]
    },
    {
      "cell_type": "markdown",
      "metadata": {
        "id": "zA4yCQiXzoMj"
      },
      "source": [
        "### Tipos de dados\n",
        "Os tensores em PyTorch suportam vários tipos de dados, como inteiros e floats. O tipo de dado pode ser especificado durante a criação do tensor."
      ]
    },
    {
      "cell_type": "code",
      "execution_count": 5,
      "metadata": {
        "id": "OfJGXPpgzoMj",
        "colab": {
          "base_uri": "https://localhost:8080/"
        },
        "outputId": "ae94d5b3-6458-40dd-8061-fba97e380942"
      },
      "outputs": [
        {
          "output_type": "stream",
          "name": "stdout",
          "text": [
            "tensor([1, 2, 3], dtype=torch.int32)\n"
          ]
        }
      ],
      "source": [
        "# Criação de um tensor de inteiros\n",
        "tensor_int = torch.tensor([1, 2, 3], dtype=torch.int32)\n",
        "print(tensor_int)"
      ]
    },
    {
      "cell_type": "code",
      "execution_count": 6,
      "metadata": {
        "id": "ZMJlF3YxzoMk",
        "colab": {
          "base_uri": "https://localhost:8080/"
        },
        "outputId": "0cad189c-eaa0-4dc4-f4aa-0cf6db98bc71"
      },
      "outputs": [
        {
          "output_type": "stream",
          "name": "stdout",
          "text": [
            "tensor([1., 2., 3.])\n"
          ]
        }
      ],
      "source": [
        "# Criação de um tensor de floats\n",
        "tensor_float = torch.tensor([1.0, 2.0, 3.0], dtype=torch.float32)\n",
        "print(tensor_float)"
      ]
    },
    {
      "cell_type": "markdown",
      "metadata": {
        "id": "aN4skYOfzoMk"
      },
      "source": [
        "## Funções de Criação de Tensores\n",
        "PyTorch fornece várias funções utilitárias para criar tensores de forma eficiente.\n",
        "\n",
        "- `torch.zeros`: Cria um tensor preenchido com zeros.\n",
        "- `torch.zeros_like`: Cria um tensor preenchido com zeros, com as mesmas dimensões de um tensor dado.\n",
        "- `torch.ones`: Cria um tensor preenchido com uns.\n",
        "- `torch.ones_like`: Cria um tensor preenchido com uns, com as mesmas dimensões de um tensor dado.\n",
        "- `torch.linspace`: Cria um tensor com valores linearmente espaçados entre dois pontos.\n",
        "- `torch.arange`: Cria um tensor com valores em uma faixa específica com um passo definido."
      ]
    },
    {
      "cell_type": "code",
      "execution_count": 7,
      "metadata": {
        "id": "ATGLXlpazoMk",
        "colab": {
          "base_uri": "https://localhost:8080/"
        },
        "outputId": "1b261cf3-9953-4b36-854e-59ab55a5a2d8"
      },
      "outputs": [
        {
          "output_type": "stream",
          "name": "stdout",
          "text": [
            "tensor([[[0., 0., 0., 0., 0.],\n",
            "         [0., 0., 0., 0., 0.],\n",
            "         [0., 0., 0., 0., 0.]],\n",
            "\n",
            "        [[0., 0., 0., 0., 0.],\n",
            "         [0., 0., 0., 0., 0.],\n",
            "         [0., 0., 0., 0., 0.]],\n",
            "\n",
            "        [[0., 0., 0., 0., 0.],\n",
            "         [0., 0., 0., 0., 0.],\n",
            "         [0., 0., 0., 0., 0.]]])\n"
          ]
        }
      ],
      "source": [
        "# Criação de tensores de zeros\n",
        "tensor_zeros = torch.zeros(3, 3, 5)\n",
        "print(tensor_zeros)"
      ]
    },
    {
      "cell_type": "code",
      "execution_count": 8,
      "metadata": {
        "id": "aEzmyhdrzoMk",
        "colab": {
          "base_uri": "https://localhost:8080/"
        },
        "outputId": "0befb9db-fa9a-45ce-c057-dd393ddcbd4e"
      },
      "outputs": [
        {
          "output_type": "stream",
          "name": "stdout",
          "text": [
            "tensor([[0, 0, 0],\n",
            "        [0, 0, 0]])\n"
          ]
        }
      ],
      "source": [
        "# Criação de tensores de zeros_like\n",
        "tensor_zeros_like = torch.zeros_like(tensor_2d)\n",
        "print(tensor_zeros_like)"
      ]
    },
    {
      "cell_type": "code",
      "execution_count": 9,
      "metadata": {
        "id": "KuigG0QHzoMl",
        "colab": {
          "base_uri": "https://localhost:8080/"
        },
        "outputId": "a994a2cd-fb88-4b72-d874-26711a34806c"
      },
      "outputs": [
        {
          "output_type": "stream",
          "name": "stdout",
          "text": [
            "tensor([[1., 1.],\n",
            "        [1., 1.]])\n"
          ]
        }
      ],
      "source": [
        "# Criação de tensores de uns\n",
        "tensor_ones = torch.ones(2, 2)\n",
        "print(tensor_ones)"
      ]
    },
    {
      "cell_type": "code",
      "execution_count": 10,
      "metadata": {
        "id": "J_ggJh_1zoMl",
        "colab": {
          "base_uri": "https://localhost:8080/"
        },
        "outputId": "4faa0cd0-64d5-4cd3-c925-6e5c564cbb98"
      },
      "outputs": [
        {
          "output_type": "stream",
          "name": "stdout",
          "text": [
            "tensor([[1, 1, 1],\n",
            "        [1, 1, 1]])\n"
          ]
        }
      ],
      "source": [
        "# Criação de tensores de ones_like\n",
        "tensor_ones_like = torch.ones_like(tensor_2d)\n",
        "print(tensor_ones_like)"
      ]
    },
    {
      "cell_type": "code",
      "execution_count": 11,
      "metadata": {
        "id": "oZzHJSS2zoMl",
        "colab": {
          "base_uri": "https://localhost:8080/"
        },
        "outputId": "eacb79af-2c93-4f06-f20a-74650dd736c1"
      },
      "outputs": [
        {
          "output_type": "stream",
          "name": "stdout",
          "text": [
            "tensor([ 0.0000,  2.5000,  5.0000,  7.5000, 10.0000])\n"
          ]
        }
      ],
      "source": [
        "# Linspace\n",
        "tensor_linspace = torch.linspace(0, 10, steps=5)\n",
        "print(tensor_linspace)"
      ]
    },
    {
      "cell_type": "code",
      "execution_count": 12,
      "metadata": {
        "id": "dqnr9Wi1zoMl",
        "colab": {
          "base_uri": "https://localhost:8080/"
        },
        "outputId": "e184b584-cd6d-4f9c-f7b2-55dd1ef23151"
      },
      "outputs": [
        {
          "output_type": "stream",
          "name": "stdout",
          "text": [
            "tensor([0.0000, 2.5000, 5.0000, 7.5000])\n"
          ]
        }
      ],
      "source": [
        "# Arange\n",
        "tensor_arange = torch.arange(0, 10, step=2.5)\n",
        "print(tensor_arange)"
      ]
    },
    {
      "cell_type": "markdown",
      "metadata": {
        "id": "uC5h7CcyzoMl"
      },
      "source": [
        "## Indexação e Fatiamento\n",
        "A indexação e o fatiamento em PyTorch são similares ao NumPy, permitindo acessar e modificar partes específicas de um tensor."
      ]
    },
    {
      "cell_type": "code",
      "execution_count": 13,
      "metadata": {
        "id": "zOmwh-K5zoMl",
        "colab": {
          "base_uri": "https://localhost:8080/"
        },
        "outputId": "86688c12-2214-4f87-c8c5-7fc718a224b1"
      },
      "outputs": [
        {
          "output_type": "stream",
          "name": "stdout",
          "text": [
            "Tensor original:\n",
            " tensor([[1, 2, 3],\n",
            "        [4, 5, 6],\n",
            "        [7, 8, 9]])\n"
          ]
        }
      ],
      "source": [
        "# Criando um tensor de exemplo\n",
        "tensor = torch.tensor([[1, 2, 3], [4, 5, 6], [7, 8, 9]])\n",
        "print(\"Tensor original:\\n\", tensor)"
      ]
    },
    {
      "cell_type": "code",
      "execution_count": 14,
      "metadata": {
        "id": "WPrCAeSWzoMl",
        "colab": {
          "base_uri": "https://localhost:8080/"
        },
        "outputId": "7171d8f0-685f-4c67-fea1-bc2b5b2a9caf"
      },
      "outputs": [
        {
          "output_type": "stream",
          "name": "stdout",
          "text": [
            "Elemento na posição [1, 2]: tensor(6)\n"
          ]
        }
      ],
      "source": [
        "# Indexação por elementos específicos\n",
        "print(\"Elemento na posição [1, 2]:\", tensor[1, 2])  # Acessa o valor '6'"
      ]
    },
    {
      "cell_type": "code",
      "execution_count": 15,
      "metadata": {
        "id": "DN7TGa_TzoMm",
        "colab": {
          "base_uri": "https://localhost:8080/"
        },
        "outputId": "7809799e-4ecd-4d32-c305-19730cea789e"
      },
      "outputs": [
        {
          "output_type": "stream",
          "name": "stdout",
          "text": [
            "Primeira linha: tensor([1, 2, 3])\n",
            "Segunda coluna: tensor([2, 5, 8])\n"
          ]
        }
      ],
      "source": [
        "# Indexação\n",
        "print(\"Primeira linha:\", tensor[0, :])  # Obtendo a primeira linha\n",
        "print(\"Segunda coluna:\", tensor[:, 1])  # Obtendo a segunda coluna"
      ]
    },
    {
      "cell_type": "code",
      "execution_count": 16,
      "metadata": {
        "id": "646wLl5rzoMm",
        "colab": {
          "base_uri": "https://localhost:8080/"
        },
        "outputId": "32fcb026-ecee-4195-8ee0-3fcb93e60b51"
      },
      "outputs": [
        {
          "output_type": "stream",
          "name": "stdout",
          "text": [
            "Subtensor a partir da segunda linha e segunda coluna:\n",
            " tensor([[5, 6],\n",
            "        [8, 9]])\n"
          ]
        }
      ],
      "source": [
        "# Fatiamento\n",
        "print(\"Subtensor a partir da segunda linha e segunda coluna:\\n\", tensor[1:, 1:])"
      ]
    },
    {
      "cell_type": "code",
      "execution_count": 17,
      "metadata": {
        "id": "9z_NuRFVzoMm",
        "colab": {
          "base_uri": "https://localhost:8080/"
        },
        "outputId": "ab915e9a-e019-434b-c63c-6e712f14986a"
      },
      "outputs": [
        {
          "output_type": "stream",
          "name": "stdout",
          "text": [
            "Subtensor pulando uma linha e uma coluna:\n",
            " tensor([[1, 3],\n",
            "        [7, 9]])\n"
          ]
        }
      ],
      "source": [
        "# Exemplo de fatiamento complexo: pulando elementos\n",
        "print(\"Subtensor pulando uma linha e uma coluna:\\n\", tensor[::2, ::2])  # Pulando linhas e colunas"
      ]
    },
    {
      "cell_type": "code",
      "execution_count": 18,
      "metadata": {
        "id": "H-Z04UKEzoMm",
        "colab": {
          "base_uri": "https://localhost:8080/"
        },
        "outputId": "336ec262-0669-48a9-fae5-477b2308f7fd"
      },
      "outputs": [
        {
          "output_type": "stream",
          "name": "stdout",
          "text": [
            "Última linha do tensor: tensor([7, 8, 9])\n",
            "Última coluna do tensor: tensor([3, 6, 9])\n"
          ]
        }
      ],
      "source": [
        "# Fatiamento com valores negativos\n",
        "print(\"Última linha do tensor:\", tensor[-1, :])  # Acessando a última linha\n",
        "print(\"Última coluna do tensor:\", tensor[:, -1])  # Acessando a última coluna"
      ]
    },
    {
      "cell_type": "markdown",
      "metadata": {
        "id": "AtCXKxZ8zoMm"
      },
      "source": [
        "## Operações básicas com tensores\n",
        "PyTorch suporta várias operações básicas com tensores, como adição, multiplicação, subtração e divisão."
      ]
    },
    {
      "cell_type": "code",
      "execution_count": 19,
      "metadata": {
        "id": "rT4fFPJ3zoMn",
        "colab": {
          "base_uri": "https://localhost:8080/"
        },
        "outputId": "26ed49aa-4509-4f98-c757-60bcd9fba118"
      },
      "outputs": [
        {
          "output_type": "stream",
          "name": "stdout",
          "text": [
            "+ tensor([5, 7, 9])\n",
            "* tensor([ 4, 10, 18])\n",
            "- tensor([-3, -3, -3])\n",
            "/ tensor([0.2500, 0.4000, 0.5000])\n",
            "Produto escalar tensor(32)\n"
          ]
        }
      ],
      "source": [
        "a = torch.tensor([1, 2, 3])\n",
        "b = torch.tensor([4, 5, 6])\n",
        "\n",
        "# Adição\n",
        "print(\"+\", a + b)\n",
        "\n",
        "# Multiplicação\n",
        "print(\"*\", a * b)\n",
        "\n",
        "# Subtração\n",
        "print(\"-\", a - b)\n",
        "\n",
        "# Divisão\n",
        "print(\"/\", a / b)\n",
        "\n",
        "# Produto escalar\n",
        "dot_product = torch.dot(a, b)\n",
        "print(\"Produto escalar\", dot_product)"
      ]
    },
    {
      "cell_type": "markdown",
      "metadata": {
        "id": "BJLDAvnqzoMn"
      },
      "source": [
        "## Manipulando formato (shape)"
      ]
    },
    {
      "cell_type": "code",
      "execution_count": 20,
      "metadata": {
        "id": "rs_vH4Q1zoMn",
        "colab": {
          "base_uri": "https://localhost:8080/"
        },
        "outputId": "be3b7bc8-a3fd-4762-99a6-25e35aa31a0c"
      },
      "outputs": [
        {
          "output_type": "stream",
          "name": "stdout",
          "text": [
            "tensor([[ 0,  1,  2],\n",
            "        [ 3,  4,  5],\n",
            "        [ 6,  7,  8],\n",
            "        [ 9, 10, 11]])\n"
          ]
        }
      ],
      "source": [
        "tensor = torch.arange(12).reshape(4, 3)\n",
        "print(tensor)"
      ]
    },
    {
      "cell_type": "code",
      "execution_count": 21,
      "metadata": {
        "id": "ysjSzIZmzoMn",
        "colab": {
          "base_uri": "https://localhost:8080/"
        },
        "outputId": "cde88ade-fb03-4e66-c8f4-d6ddc94e35c5"
      },
      "outputs": [
        {
          "output_type": "stream",
          "name": "stdout",
          "text": [
            "tensor([[ 0,  1],\n",
            "        [ 2,  3],\n",
            "        [ 4,  5],\n",
            "        [ 6,  7],\n",
            "        [ 8,  9],\n",
            "        [10, 11]])\n"
          ]
        }
      ],
      "source": [
        "# View\n",
        "tensor_reshaped = tensor.view(6, 2)\n",
        "print(tensor_reshaped)"
      ]
    },
    {
      "cell_type": "code",
      "execution_count": 22,
      "metadata": {
        "id": "iOR5nGn3zoMo",
        "colab": {
          "base_uri": "https://localhost:8080/"
        },
        "outputId": "479b1710-d32d-49ac-e2f1-992450f8ece1"
      },
      "outputs": [
        {
          "output_type": "stream",
          "name": "stdout",
          "text": [
            "tensor([[ 0,  3,  6,  9],\n",
            "        [ 1,  4,  7, 10],\n",
            "        [ 2,  5,  8, 11]])\n"
          ]
        }
      ],
      "source": [
        "# Transpose\n",
        "tensor_transposed = tensor.t()\n",
        "print(tensor_transposed)"
      ]
    },
    {
      "cell_type": "markdown",
      "metadata": {
        "id": "4uuhm061zoMo"
      },
      "source": [
        "### Flatten\n",
        "A função flatten retorna um tensor 1D contendo todos os elementos do tensor original"
      ]
    },
    {
      "cell_type": "code",
      "execution_count": 23,
      "metadata": {
        "id": "SfIRxe0AzoMo",
        "colab": {
          "base_uri": "https://localhost:8080/"
        },
        "outputId": "a4fab5c7-4577-4b5c-fdd3-daba5f1d8a1d"
      },
      "outputs": [
        {
          "output_type": "stream",
          "name": "stdout",
          "text": [
            "tensor([ 0,  1,  2,  3,  4,  5,  6,  7,  8,  9, 10, 11])\n"
          ]
        }
      ],
      "source": [
        "# Flatten\n",
        "tensor_flattened = tensor.flatten()\n",
        "print(tensor_flattened)"
      ]
    },
    {
      "cell_type": "code",
      "execution_count": 24,
      "metadata": {
        "id": "nb9FE1FZzoMp",
        "colab": {
          "base_uri": "https://localhost:8080/"
        },
        "outputId": "12ffbcb8-28c4-4651-d36f-79dfd5fd7e2f"
      },
      "outputs": [
        {
          "output_type": "stream",
          "name": "stdout",
          "text": [
            "tensor([[[[ 0],\n",
            "          [ 1],\n",
            "          [ 2],\n",
            "          [ 3],\n",
            "          [ 4],\n",
            "          [ 5]],\n",
            "\n",
            "         [[ 6],\n",
            "          [ 7],\n",
            "          [ 8],\n",
            "          [ 9],\n",
            "          [10],\n",
            "          [11]]]])\n",
            "torch.Size([1, 2, 6, 1])\n"
          ]
        }
      ],
      "source": [
        "# Reshape\n",
        "tensor_reshaped = tensor.reshape(1, 2, 6, 1)\n",
        "print(tensor_reshaped)\n",
        "print(tensor_reshaped.shape)"
      ]
    },
    {
      "cell_type": "markdown",
      "metadata": {
        "id": "hox5diTqzoMp"
      },
      "source": [
        "### Squeeze e Unsqueeze\n",
        "- `squeeze`: Remove dimensões de tamanho 1 de um tensor.\n",
        "- `unsqueeze`: Adiciona uma dimensão de tamanho 1 em um tensor."
      ]
    },
    {
      "cell_type": "code",
      "execution_count": 26,
      "metadata": {
        "id": "QadNbkbKzoMp",
        "colab": {
          "base_uri": "https://localhost:8080/"
        },
        "outputId": "fb8092a0-5929-4d85-8323-ea818449b22a"
      },
      "outputs": [
        {
          "output_type": "stream",
          "name": "stdout",
          "text": [
            "tensor([[ 0,  1,  2,  3,  4,  5],\n",
            "        [ 6,  7,  8,  9, 10, 11]])\n",
            "torch.Size([2, 6])\n"
          ]
        }
      ],
      "source": [
        "# Squeeze\n",
        "tensor_squeezed = tensor_reshaped.squeeze()\n",
        "print(tensor_squeezed)\n",
        "print(tensor_squeezed.shape)"
      ]
    },
    {
      "cell_type": "code",
      "execution_count": null,
      "metadata": {
        "id": "JKMdU_OfzoMp"
      },
      "outputs": [],
      "source": [
        "# Unsqueeze\n",
        "tensor_unsqueezed = tensor_squeezed.unsqueeze(dim=0)\n",
        "print(tensor_unsqueezed)\n",
        "print(tensor_unsqueezed.shape)"
      ]
    },
    {
      "cell_type": "markdown",
      "metadata": {
        "id": "0eJ2PKhvzoMq"
      },
      "source": [
        "## Broadcasting\n",
        "O broadcasting é uma técnica que permite que tensores de diferentes formas sejam utilizados juntos em operações aritméticas. Em vez de copiar dados, o PyTorch ajusta os tensores de forma automática para que tenham formas compatíveis."
      ]
    },
    {
      "cell_type": "markdown",
      "metadata": {
        "id": "X_nqzO8uzoMq"
      },
      "source": [
        "### Adição de um Escalar\n",
        "\n",
        "Quando adicionamos um escalar a um tensor, o escalar é automaticamente expandido para a forma do tensor:"
      ]
    },
    {
      "cell_type": "code",
      "execution_count": 29,
      "metadata": {
        "id": "PAxCCjGdzoMq",
        "colab": {
          "base_uri": "https://localhost:8080/"
        },
        "outputId": "44b84d48-2f12-4678-9a4c-c8694075f061"
      },
      "outputs": [
        {
          "output_type": "stream",
          "name": "stdout",
          "text": [
            "tensor([[11, 12, 13],\n",
            "        [14, 15, 16]])\n"
          ]
        }
      ],
      "source": [
        "# Cria um tensor 2x3\n",
        "tensor = torch.tensor([[1, 2, 3], [4, 5, 6]])\n",
        "\n",
        "# Adiciona um escalar\n",
        "scalar = 10\n",
        "\n",
        "# Broadcasting para adicionar o escalar a cada elemento do tensor\n",
        "result = tensor + scalar\n",
        "print(result)"
      ]
    },
    {
      "cell_type": "markdown",
      "metadata": {
        "id": "MPezzWAXzoMq"
      },
      "source": [
        "### Adição de Tensores com Diferentes Dimensões\n",
        "\n",
        "Vamos adicionar um tensor 2x3 com um tensor 1x3. Neste caso, o tensor 1x3 será expandido (broadcasted) para uma forma 2x3:"
      ]
    },
    {
      "cell_type": "code",
      "execution_count": 30,
      "metadata": {
        "id": "7aw0NvpezoMr",
        "colab": {
          "base_uri": "https://localhost:8080/"
        },
        "outputId": "aa702911-e57b-406e-98c6-6fd165351335"
      },
      "outputs": [
        {
          "output_type": "stream",
          "name": "stdout",
          "text": [
            "tensor([[11, 22, 33],\n",
            "        [14, 25, 36]])\n"
          ]
        }
      ],
      "source": [
        "# Cria um tensor 2x3\n",
        "tensor_a = torch.tensor([[1, 2, 3], [4, 5, 6]])\n",
        "\n",
        "# Cria um tensor 1x3\n",
        "tensor_b = torch.tensor([10, 20, 30])\n",
        "\n",
        "# Broadcasting para adicionar tensores de diferentes formas\n",
        "result = tensor_a + tensor_b\n",
        "print(result)"
      ]
    },
    {
      "cell_type": "markdown",
      "metadata": {
        "id": "I1UrbA6NzoMr"
      },
      "source": [
        "### Regras de Broadcasting\n",
        "\n",
        "Para que o broadcasting funcione, os tensores devem seguir algumas regras:\n",
        "\n",
        "1. **Compatibilidade de Dimensões**: As dimensões dos tensores devem ser compatíveis. Duas dimensões são compatíveis se forem iguais ou se uma delas for 1.\n",
        "2. **Expansão Automática**: Se uma dimensão de um tensor for 1, ela será expandida para corresponder à dimensão do outro tensor.\n",
        "\n",
        "No exemplo a seguir, o tensor `tensor_c` de forma 2x1 é expandido para 2x3, e o tensor `tensor_d` de forma 1x3 é expandido para 2x3. O resultado é um tensor 2x3 onde cada elemento é o produto dos elementos correspondentes."
      ]
    },
    {
      "cell_type": "code",
      "execution_count": 28,
      "metadata": {
        "id": "6vrg4jKCzoMr",
        "colab": {
          "base_uri": "https://localhost:8080/"
        },
        "outputId": "8c3d90d4-8b5e-4ce1-8439-3a7feede12e6"
      },
      "outputs": [
        {
          "output_type": "stream",
          "name": "stdout",
          "text": [
            "tensor([[10, 20, 30],\n",
            "        [20, 40, 60]])\n"
          ]
        }
      ],
      "source": [
        "# Cria um tensor 2x1\n",
        "tensor_c = torch.tensor([[1], [2]])\n",
        "\n",
        "# Cria um tensor 1x3\n",
        "tensor_d = torch.tensor([10, 20, 30])\n",
        "\n",
        "# Broadcasting para multiplicar tensores de diferentes formas\n",
        "result = tensor_c * tensor_d\n",
        "print(result)"
      ]
    },
    {
      "cell_type": "markdown",
      "metadata": {
        "id": "QrK_rTAKzoMr"
      },
      "source": [
        "## Operações de Redução em PyTorch\n",
        "\n",
        "As operações de redução são usadas para reduzir as dimensões de um tensor, aplicando operações como soma, média, mínimo e máximo. Essas operações são fundamentais em várias aplicações de machine learning e deep learning."
      ]
    },
    {
      "cell_type": "code",
      "execution_count": 31,
      "metadata": {
        "id": "_s-riJ2zzoMr",
        "colab": {
          "base_uri": "https://localhost:8080/"
        },
        "outputId": "32acf6e2-cc11-4c96-bad0-e9fcc225c144"
      },
      "outputs": [
        {
          "output_type": "stream",
          "name": "stdout",
          "text": [
            "Tensor original:\n",
            " tensor([[1., 2., 3.],\n",
            "        [4., 5., 6.]])\n",
            "torch.Size([2, 3])\n"
          ]
        }
      ],
      "source": [
        "# Cria um tensor 2x3\n",
        "tensor = torch.tensor([[1.0, 2.0, 3.0], [4.0, 5.0, 6.0]])\n",
        "print(\"Tensor original:\\n\", tensor)\n",
        "print(tensor.shape)"
      ]
    },
    {
      "cell_type": "markdown",
      "metadata": {
        "id": "15nnjaq5zoMr"
      },
      "source": [
        "### Soma de Todos os Elementos\n",
        "\n",
        "A função `torch.sum` calcula a soma de todos os elementos do tensor:"
      ]
    },
    {
      "cell_type": "code",
      "execution_count": 32,
      "metadata": {
        "id": "neLDSlpwzoMr",
        "colab": {
          "base_uri": "https://localhost:8080/"
        },
        "outputId": "162611df-8e98-4b89-8c65-8ebe199d8146"
      },
      "outputs": [
        {
          "output_type": "stream",
          "name": "stdout",
          "text": [
            "Soma de todos os elementos: 21.0\n"
          ]
        }
      ],
      "source": [
        "# Soma de todos os elementos do tensor\n",
        "sum_all = torch.sum(tensor)\n",
        "print(\"Soma de todos os elementos:\", sum_all.item())"
      ]
    },
    {
      "cell_type": "markdown",
      "metadata": {
        "id": "dredqzWvzoMr"
      },
      "source": [
        "### Soma ao Longo de um Eixo\n",
        "\n",
        "Podemos calcular a soma ao longo de um eixo específico, usando o parâmetro `dim`:"
      ]
    },
    {
      "cell_type": "code",
      "execution_count": 33,
      "metadata": {
        "id": "_l66DSygzoMr",
        "colab": {
          "base_uri": "https://localhost:8080/"
        },
        "outputId": "51dc438d-4241-4805-891d-5c89f6cc9dca"
      },
      "outputs": [
        {
          "output_type": "stream",
          "name": "stdout",
          "text": [
            "Soma ao longo do eixo 0 (linhas): tensor([5., 7., 9.])\n",
            "torch.Size([3])\n"
          ]
        }
      ],
      "source": [
        "# Soma ao longo do eixo 0 (linhas)\n",
        "sum_dim0 = torch.sum(tensor, axis=0)\n",
        "print(\"Soma ao longo do eixo 0 (linhas):\", sum_dim0)\n",
        "print(sum_dim0.shape)"
      ]
    },
    {
      "cell_type": "code",
      "execution_count": 34,
      "metadata": {
        "id": "ryPciZYPzoMs",
        "colab": {
          "base_uri": "https://localhost:8080/"
        },
        "outputId": "5ecc46c4-37b5-49d9-b7dd-3cd5d7e17cab"
      },
      "outputs": [
        {
          "output_type": "stream",
          "name": "stdout",
          "text": [
            "Soma ao longo do eixo 1 (colunas): tensor([ 6., 15.])\n",
            "torch.Size([2])\n"
          ]
        }
      ],
      "source": [
        "# Soma ao longo do eixo 1 (colunas)\n",
        "sum_dim1 = torch.sum(tensor, dim=1)\n",
        "print(\"Soma ao longo do eixo 1 (colunas):\", sum_dim1)\n",
        "print(sum_dim1.shape)"
      ]
    },
    {
      "cell_type": "markdown",
      "metadata": {
        "id": "84BlDuQlzoMs"
      },
      "source": [
        "### Média dos Elementos\n",
        "\n",
        "A função `torch.mean` calcula a média dos elementos do tensor:"
      ]
    },
    {
      "cell_type": "code",
      "execution_count": 35,
      "metadata": {
        "id": "9TkLdStXzoMs",
        "colab": {
          "base_uri": "https://localhost:8080/"
        },
        "outputId": "61727757-2fa2-48b4-da03-2ef49d2ff75a"
      },
      "outputs": [
        {
          "output_type": "stream",
          "name": "stdout",
          "text": [
            "Média de todos os elementos: 3.5\n"
          ]
        }
      ],
      "source": [
        "# Média de todos os elementos do tensor\n",
        "mean_all = torch.mean(tensor)\n",
        "print(\"Média de todos os elementos:\", mean_all.item())"
      ]
    },
    {
      "cell_type": "code",
      "execution_count": 36,
      "metadata": {
        "id": "8rfZ1xF1zoMs",
        "colab": {
          "base_uri": "https://localhost:8080/"
        },
        "outputId": "9196ebe1-ec50-4893-f77d-8181017fbce7"
      },
      "outputs": [
        {
          "output_type": "stream",
          "name": "stdout",
          "text": [
            "Média ao longo do eixo 0 (linhas): tensor([2.5000, 3.5000, 4.5000])\n",
            "torch.Size([3])\n"
          ]
        }
      ],
      "source": [
        "# Média ao longo do eixo 0 (linhas)\n",
        "mean_dim0 = torch.mean(tensor, dim=0)\n",
        "print(\"Média ao longo do eixo 0 (linhas):\", mean_dim0)\n",
        "print(mean_dim0.shape)"
      ]
    },
    {
      "cell_type": "code",
      "execution_count": 37,
      "metadata": {
        "id": "0Z4034OdzoMs",
        "colab": {
          "base_uri": "https://localhost:8080/"
        },
        "outputId": "95f94545-41e8-4d30-f553-204dff618ced"
      },
      "outputs": [
        {
          "output_type": "stream",
          "name": "stdout",
          "text": [
            "Média ao longo do eixo 1 (colunas): tensor([2., 5.])\n",
            "torch.Size([2])\n"
          ]
        }
      ],
      "source": [
        "# Média ao longo do eixo 1 (colunas)\n",
        "mean_dim1 = torch.mean(tensor, dim=1)\n",
        "print(\"Média ao longo do eixo 1 (colunas):\", mean_dim1)\n",
        "print(mean_dim1.shape)"
      ]
    },
    {
      "cell_type": "markdown",
      "metadata": {
        "id": "B5C4cblvzoMs"
      },
      "source": [
        "### Valor Mínimo e Máximo\n",
        "\n",
        "Podemos encontrar o valor mínimo e máximo de um tensor usando `torch.min` e `torch.max`:"
      ]
    },
    {
      "cell_type": "code",
      "execution_count": 38,
      "metadata": {
        "id": "tbMCPy1tzoMs",
        "colab": {
          "base_uri": "https://localhost:8080/"
        },
        "outputId": "9f7eef1f-efb5-43b8-a774-92dc597abd94"
      },
      "outputs": [
        {
          "output_type": "stream",
          "name": "stdout",
          "text": [
            "Valor mínimo de todos os elementos: tensor(1.)\n",
            "\n",
            "Valor máximo de todos os elementos: tensor(6.)\n",
            "\n",
            "Valor mínimo ao longo do eixo 0 (linhas): tensor([1., 2., 3.])\n",
            "Índices dos valores mínimos ao longo do eixo 0 (linhas): tensor([0, 0, 0])\n",
            "\n",
            "Valor máximo ao longo do eixo 1 (colunas): tensor([3., 6.])\n",
            "Índices dos valores máximos ao longo do eixo 1 (colunas): tensor([2, 2])\n"
          ]
        }
      ],
      "source": [
        "# Valor mínimo de todos os elementos do tensor\n",
        "min_all = torch.min(tensor)\n",
        "print(\"Valor mínimo de todos os elementos:\", min_all)\n",
        "print()\n",
        "\n",
        "# Valor máximo de todos os elementos do tensor\n",
        "max_all = torch.max(tensor)\n",
        "print(\"Valor máximo de todos os elementos:\", max_all)\n",
        "print()\n",
        "\n",
        "# Valor mínimo ao longo do eixo 0 (linhas)\n",
        "min_dim0, min_indices_dim0 = torch.min(tensor, dim=0)\n",
        "print(\"Valor mínimo ao longo do eixo 0 (linhas):\", min_dim0)\n",
        "print(\"Índices dos valores mínimos ao longo do eixo 0 (linhas):\", min_indices_dim0)\n",
        "print()\n",
        "\n",
        "# Valor máximo ao longo do eixo 1 (colunas)\n",
        "max_dim1, max_indices_dim1 = torch.max(tensor, dim=1)\n",
        "print(\"Valor máximo ao longo do eixo 1 (colunas):\", max_dim1)\n",
        "print(\"Índices dos valores máximos ao longo do eixo 1 (colunas):\", max_indices_dim1)"
      ]
    },
    {
      "cell_type": "markdown",
      "metadata": {
        "id": "tZy6UQGOzoMs"
      },
      "source": [
        "### Produto dos Elementos\n",
        "\n",
        "A função `torch.prod` calcula o produto de todos os elementos do tensor:"
      ]
    },
    {
      "cell_type": "code",
      "execution_count": 39,
      "metadata": {
        "id": "7D3XzxpczoMt",
        "colab": {
          "base_uri": "https://localhost:8080/"
        },
        "outputId": "0edae180-7396-4ff0-e6dd-4ee670cbd827"
      },
      "outputs": [
        {
          "output_type": "stream",
          "name": "stdout",
          "text": [
            "Produto de todos os elementos: tensor(720.)\n",
            "\n",
            "Produto ao longo do eixo 0 (linhas): tensor([ 4., 10., 18.])\n",
            "\n",
            "Produto ao longo do eixo 1 (colunas): tensor([  6., 120.])\n"
          ]
        }
      ],
      "source": [
        "# Produto de todos os elementos do tensor\n",
        "prod_all = torch.prod(tensor)\n",
        "print(\"Produto de todos os elementos:\", prod_all)\n",
        "print()\n",
        "\n",
        "# Produto ao longo do eixo 0 (linhas)\n",
        "prod_dim0 = torch.prod(tensor, dim=0)\n",
        "print(\"Produto ao longo do eixo 0 (linhas):\", prod_dim0)\n",
        "print()\n",
        "\n",
        "# Produto ao longo do eixo 1 (colunas)\n",
        "prod_dim1 = torch.prod(tensor, dim=1)\n",
        "print(\"Produto ao longo do eixo 1 (colunas):\", prod_dim1)"
      ]
    },
    {
      "cell_type": "markdown",
      "metadata": {
        "id": "T9A-DrwazoMt"
      },
      "source": [
        "## Propriedade requires_grad\n",
        "A propriedade `requires_grad` em PyTorch é fundamental para a construção e treinamento de redes neurais, pois permite calcular automaticamente os gradientes das operações. Quando `requires_grad` é definido como `True` em um tensor, todas as operações feitas nesse tensor serão rastreadas para a diferenciação automática.\n",
        "\n",
        "### Autograd e Grafos Computacionais\n",
        "\n",
        "Autograd é um componente essencial em frameworks de deep learning como PyTorch, que permite a diferenciação automática de tensores. Este mecanismo é fundamental para a otimização dos modelos de aprendizado de máquina, pois permite calcular gradientes de forma eficiente, necessária para o ajuste dos parâmetros do modelo durante o treinamento.\n",
        "\n",
        "#### Grafos Computacionais\n",
        "\n",
        "Para entender o funcionamento do autograd, é importante compreender os grafos computacionais. Um grafo computacional é uma representação gráfica de uma sequência de operações matemáticas, onde:\n",
        "\n",
        "- **Nós (nodes)** representam operações matemáticas ou variáveis.\n",
        "- **Arestas (edges)** representam os fluxos de dados (tensores) entre as operações.\n",
        "\n",
        "![alt text](https://miro.medium.com/max/908/1*ahiviCqq6B0R_XWBmgvHkA.png \"Grafo Computacional\")\n",
        "\n",
        "Durante a construção de um modelo, as operações realizadas nos tensores criam um grafo computacional dinâmico, também conhecido como *Dynamic Computation Graph*. Esse grafo é dinâmico porque é construído à medida que as operações são executadas, permitindo flexibilidade e facilidade na criação e modificação de modelos.\n",
        "\n",
        "#### Propagação para Frente (Forward Pass)\n",
        "\n",
        "Durante a propagação para frente (forward pass), os tensores são passados através das operações definidas no grafo computacional, produzindo uma saída. Este processo é usado para calcular a perda (loss) do modelo.\n",
        "\n",
        "#### Propagação para Trás (Backward Pass)\n",
        "\n",
        "A propagação para trás (backward pass) é o processo de calcular os gradientes dos tensores em relação à perda, utilizando a regra da cadeia. O autograd facilita essa tarefa, realizando automaticamente a diferenciação reversa ao longo do grafo computacional. Os passos são:\n",
        "\n",
        "1. **Calcula a perda**: A partir das saídas do forward pass.\n",
        "2. **Calcula os gradientes**: Utilizando a diferenciação automática.\n",
        "3. **Atualiza os parâmetros**: Os gradientes calculados são usados para ajustar os parâmetros do modelo através de otimização, como o gradiente descendente."
      ]
    },
    {
      "cell_type": "markdown",
      "metadata": {
        "id": "UYbyWcs0zoMt"
      },
      "source": [
        "### Criando Tensores com `requires_grad`\n",
        "\n",
        "Vamos criar tensores com a propriedade `requires_grad` definida como `True`:"
      ]
    },
    {
      "cell_type": "code",
      "execution_count": 40,
      "metadata": {
        "id": "AIH7-CbdzoMt",
        "colab": {
          "base_uri": "https://localhost:8080/"
        },
        "outputId": "98397dfa-e341-42b2-8870-8f4f3f2c71ed"
      },
      "outputs": [
        {
          "output_type": "stream",
          "name": "stdout",
          "text": [
            "tensor([1., 2., 3.], requires_grad=True)\n"
          ]
        }
      ],
      "source": [
        "# Tensor com requires_grad\n",
        "x = torch.tensor([1.0, 2.0, 3.0], requires_grad=True)\n",
        "print(x)"
      ]
    },
    {
      "cell_type": "markdown",
      "metadata": {
        "id": "tHVpKjFYzoMv"
      },
      "source": [
        "### Realizando Operações com Tensores que Têm `requires_grad`\n",
        "\n",
        "Quando realizamos operações com tensores que têm `requires_grad=True`, o PyTorch cria uma tape (fita) para rastrear todas as operações. Vamos ver um exemplo:"
      ]
    },
    {
      "cell_type": "code",
      "execution_count": 41,
      "metadata": {
        "id": "TuJHZUSSzoMv",
        "colab": {
          "base_uri": "https://localhost:8080/"
        },
        "outputId": "ea9a64ed-3385-4205-f1fb-92823f337a32"
      },
      "outputs": [
        {
          "output_type": "stream",
          "name": "stdout",
          "text": [
            "tensor(14., grad_fn=<SumBackward0>)\n"
          ]
        }
      ],
      "source": [
        "# Realiza uma operação com o tensor x\n",
        "y = x ** 2\n",
        "\n",
        "# Mais uma operação\n",
        "z = y.sum()\n",
        "\n",
        "print(z)"
      ]
    },
    {
      "cell_type": "markdown",
      "metadata": {
        "id": "u-2crsF1zoMw"
      },
      "source": [
        "### Calculando Gradientes\n",
        "\n",
        "Para calcular os gradientes, usamos o método `backward()`. Isso calcula o gradiente da função de perda em relação a todos os tensores que têm `requires_grad=True`.\n",
        "\n",
        "Os gradientes armazenados em `x.grad` representam a derivada da soma `z` em relação a `x`. Como `z` é a soma dos elementos de `y` e `y = x ** 2`, a derivada de `z` em relação a `x` é `2 * x`."
      ]
    },
    {
      "cell_type": "code",
      "execution_count": 42,
      "metadata": {
        "id": "TocoyKYgzoMw",
        "colab": {
          "base_uri": "https://localhost:8080/"
        },
        "outputId": "53fae372-3741-4bd8-c292-8fb8ebac8683"
      },
      "outputs": [
        {
          "output_type": "stream",
          "name": "stdout",
          "text": [
            "tensor([2., 4., 6.])\n"
          ]
        }
      ],
      "source": [
        "# Calcula os gradientes\n",
        "z.backward()\n",
        "\n",
        "# z = x1² + x2² + x3²\n",
        "# dz/x1 = 2x1\n",
        "\n",
        "# Imprime os gradientes armazenados em x.grad\n",
        "print(x.grad)"
      ]
    },
    {
      "cell_type": "markdown",
      "metadata": {
        "id": "Gkyj5zOczoMw"
      },
      "source": [
        "### Desativando o Rastreamento de Gradientes\n",
        "\n",
        "Em algumas situações, não queremos rastrear as operações, como durante a inferência do modelo. Podemos desativar temporariamente o rastreamento de gradientes usando `torch.no_grad()` ou `detach()`. Vamos ver como:"
      ]
    },
    {
      "cell_type": "code",
      "execution_count": 43,
      "metadata": {
        "id": "HiL--rsDzoMw",
        "colab": {
          "base_uri": "https://localhost:8080/"
        },
        "outputId": "cf6d05e9-8777-41df-d5d2-e47a4f2cc630"
      },
      "outputs": [
        {
          "output_type": "stream",
          "name": "stdout",
          "text": [
            "False\n",
            "False\n"
          ]
        }
      ],
      "source": [
        "# Desativando o rastreamento de gradientes temporariamente\n",
        "with torch.no_grad():\n",
        "    y = x * 2\n",
        "    print(y.requires_grad)  # False, pois o rastreamento está desativado\n",
        "\n",
        "# Criando um novo tensor sem rastreamento de gradientes\n",
        "x_detached = x.detach()\n",
        "print(x_detached.requires_grad)  # False, pois o tensor foi separado da tape de computação"
      ]
    },
    {
      "cell_type": "markdown",
      "metadata": {
        "id": "njd39f12zoMw"
      },
      "source": [
        "### Verificando se um Tensor Requer Gradiente\n",
        "\n",
        "Podemos verificar se um tensor requer gradiente usando a propriedade `requires_grad`:"
      ]
    },
    {
      "cell_type": "code",
      "execution_count": 44,
      "metadata": {
        "id": "lrJwX533zoMx",
        "colab": {
          "base_uri": "https://localhost:8080/"
        },
        "outputId": "f16cb6c4-e90b-4b18-84a5-703e0d4c3496"
      },
      "outputs": [
        {
          "output_type": "stream",
          "name": "stdout",
          "text": [
            "True\n",
            "False\n"
          ]
        }
      ],
      "source": [
        "print(x.requires_grad)  # True, pois x foi criado com requires_grad=True\n",
        "print(x_detached.requires_grad)  # False, pois x_detached foi separado da tape de computação"
      ]
    },
    {
      "cell_type": "markdown",
      "metadata": {
        "id": "VcmBQH0hzoMx"
      },
      "source": [
        "## Exercícios - PyTorch Básico"
      ]
    },
    {
      "cell_type": "markdown",
      "metadata": {
        "id": "L-2Y71qdzoMx"
      },
      "source": [
        "### Exercício 1: Criação de Tensores\n",
        "\n",
        "1. Crie um tensor 1D com os valores de 1 a 10.\n",
        "2. Crie um tensor 2D de forma (3, 3) com valores aleatórios.\n",
        "3. Crie um tensor 3D de forma (2, 3, 4) com todos os valores iguais a 1.\n",
        "4. Crie um tensor de zeros com as mesmas dimensões do tensor 2D criado no exercício 2.\n",
        "5. Crie um tensor de uns com as mesmas dimensões do tensor 3D criado no exercício 3."
      ]
    },
    {
      "cell_type": "code",
      "execution_count": 49,
      "metadata": {
        "id": "e2eLoDWQzoMx",
        "colab": {
          "base_uri": "https://localhost:8080/"
        },
        "outputId": "cd16713f-50d0-4e00-e003-d128d8a3029d"
      },
      "outputs": [
        {
          "output_type": "stream",
          "name": "stdout",
          "text": [
            "Tensor 1D: tensor([ 1,  2,  3,  4,  5,  6,  7,  8,  9, 10])\n",
            "\n",
            "Tensor 2D aleatório (3x3):\n",
            "tensor([[0.4487, 0.0963, 0.3403],\n",
            "        [0.8463, 0.9391, 0.1978],\n",
            "        [0.0681, 0.7816, 0.7750]])\n",
            "\n",
            "Tensor 3D de uns (2x3x4):\n",
            "tensor([[[1., 1., 1., 1.],\n",
            "         [1., 1., 1., 1.],\n",
            "         [1., 1., 1., 1.]],\n",
            "\n",
            "        [[1., 1., 1., 1.],\n",
            "         [1., 1., 1., 1.],\n",
            "         [1., 1., 1., 1.]]])\n",
            "\n",
            "Tensor de zeros com as dimensões 2D de forma (3, 3) :\n",
            "tensor([[0., 0., 0.],\n",
            "        [0., 0., 0.],\n",
            "        [0., 0., 0.]])\n",
            "\n",
            "Tensor de uns com a mesma forma que o tensor 3D:\n",
            "tensor([[[1., 1., 1., 1.],\n",
            "         [1., 1., 1., 1.],\n",
            "         [1., 1., 1., 1.]],\n",
            "\n",
            "        [[1., 1., 1., 1.],\n",
            "         [1., 1., 1., 1.],\n",
            "         [1., 1., 1., 1.]]])\n"
          ]
        }
      ],
      "source": [
        "# 1.Tensor 1D com os valores de 1 a 10\n",
        "tensor_1d = torch.arange(1, 11)\n",
        "print(\"Tensor 1D:\", tensor_1d)\n",
        "# 2. Tensor 2D de forma (3, 3) com valores aleatórios\n",
        "tensor_2d_random = torch.rand(3, 3)\n",
        "print(\"\\nTensor 2D aleatório (3x3):\")\n",
        "print(tensor_2d_random)\n",
        "# 3. Tensor 3D de forma (2, 3, 4) com todos os valores iguais a 1\n",
        "tensor_3d_ones = torch.ones(2, 3, 4)\n",
        "print(\"\\nTensor 3D de uns (2x3x4):\")\n",
        "print(tensor_3d_ones)\n",
        "# 4. Tensor de zeros com as dimensões 2D de forma (3, 3)\n",
        "tensor_zeros = torch.zeros_like(tensor_2d_random)\n",
        "print(\"\\nTensor de zeros com as dimensões 2D de forma (3, 3) :\")\n",
        "print(tensor_zeros)\n",
        "# 5. Tensor de uns com as dimensões do Tensor 3D de forma (2, 3, 4)\n",
        "tensor_ones_like_3d = torch.ones_like(tensor_3d_ones)\n",
        "print(\"\\nTensor de uns com a mesma forma que o tensor 3D:\")\n",
        "print(tensor_ones_like_3d)\n"
      ]
    },
    {
      "cell_type": "markdown",
      "metadata": {
        "id": "l4MFo8MwzoMx"
      },
      "source": [
        "### Exercício 2: Manipulação de Tensores\n",
        "\n",
        "1. Dado o tensor `a = torch.tensor([[1, 2], [3, 4], [5, 6]])`, obtenha a primeira coluna.\n",
        "2. Dado o tensor `b = torch.tensor([[[1, 2, 3], [4, 5, 6]], [[7, 8, 9], [10, 11, 12]]])`, obtenha o subtensor `[[7, 8, 9], [10, 11, 12]]`.\n",
        "3. Dado o tensor `c = torch.tensor([1, 2, 3, 4, 5, 6])`, mude sua forma para (2, 3).\n",
        "4. Dado o tensor `d = torch.tensor([1, 2, 3, 4, 5, 6])`, adicione uma dimensão extra para que ele se torne de forma (1, 6)."
      ]
    },
    {
      "cell_type": "code",
      "source": [
        "\n",
        "# 1. Primeira coluna do tensor 'a'\n",
        "a = torch.tensor([[1, 2], [3, 4], [5, 6]])\n",
        "primeira_coluna = a[:, 0]\n",
        "print(\"Primeira coluna de 'a':\", primeira_coluna)\n",
        "\n",
        "# 2. Obter o subtensor [[7, 8, 9], [10, 11, 12]] de 'b'\n",
        "b = torch.tensor([[[1, 2, 3], [4, 5, 6]], [[7, 8, 9], [10, 11, 12]]])\n",
        "subtensor_b = b[1]  # O subtensor está na segunda dimensão do tensor\n",
        "print(\"\\nSubtensor de 'b':\", subtensor_b)\n",
        "\n",
        "# 3. Mudar a forma do tensor 'c' para (2, 3)\n",
        "c = torch.tensor([1, 2, 3, 4, 5, 6])\n",
        "c_reshaped = c.reshape(2, 3)\n",
        "print(\"\\nTensor 'c' com forma (2, 3):\", c_reshaped)\n",
        "\n",
        "# 4. Adicionar uma dimensão extra ao tensor 'd' para que tenha a forma (1, 6)\n",
        "d = torch.tensor([1, 2, 3, 4, 5, 6])\n",
        "d_expanded = d.unsqueeze(0)  # Adiciona uma dimensão extra no índice 0\n",
        "print(\"\\nTensor 'd' com forma (1, 6):\", d_expanded)"
      ],
      "metadata": {
        "colab": {
          "base_uri": "https://localhost:8080/"
        },
        "id": "wOgJUG4HAUXe",
        "outputId": "a1766605-188f-42d9-8db7-ee1b04e5b2a1"
      },
      "execution_count": 50,
      "outputs": [
        {
          "output_type": "stream",
          "name": "stdout",
          "text": [
            "Primeira coluna de 'a': tensor([1, 3, 5])\n",
            "\n",
            "Subtensor de 'b': tensor([[ 7,  8,  9],\n",
            "        [10, 11, 12]])\n",
            "\n",
            "Tensor 'c' com forma (2, 3): tensor([[1, 2, 3],\n",
            "        [4, 5, 6]])\n",
            "\n",
            "Tensor 'd' com forma (1, 6): tensor([[1, 2, 3, 4, 5, 6]])\n"
          ]
        }
      ]
    },
    {
      "cell_type": "markdown",
      "metadata": {
        "id": "VMQLZ-FQzoMx"
      },
      "source": [
        "### Exercício 3: Funções de Criação de Tensores\n",
        "\n",
        "1. Crie um tensor contendo valores de 0 a 1, espaçados igualmente em 5 passos.\n",
        "2. Crie um tensor contendo valores de 0 a 10, com um passo de 2.\n",
        "3. Crie um tensor de forma (3, 3) com valores aleatórios entre 0 e 10.\n",
        "4. Crie um tensor correspondente a uma imagem em escala de cinza de dimensões 128x128 com valores aleatórios entre 0 e 255.\n",
        "5. Crie um tensor correspondente a uma imagem em RGB de dimensões 128x128 com valores aleatórios entre 0 e 255."
      ]
    },
    {
      "cell_type": "code",
      "execution_count": 56,
      "metadata": {
        "id": "0PHqPwpwzoMx",
        "colab": {
          "base_uri": "https://localhost:8080/"
        },
        "outputId": "7948757b-cbb1-4fb6-d892-13bd94e35436"
      },
      "outputs": [
        {
          "output_type": "stream",
          "name": "stdout",
          "text": [
            "Tensor de 0 a 1, espaçados igualmente em 5 passos: tensor([0.0000, 0.2500, 0.5000, 0.7500, 1.0000])\n"
          ]
        }
      ],
      "source": [
        "# 1. Criar um tensor contendo valores de 0 a 1, espaçados igualmente em 5 passos\n",
        "tensor_0_1_5_steps = torch.linspace(0, 1, 5)\n",
        "print(\"Tensor de 0 a 1, espaçados igualmente em 5 passos:\", tensor_0_1_5_steps)\n"
      ]
    },
    {
      "cell_type": "code",
      "source": [
        "# 2. Tensor contendo valores de 0 a 10, com um passo de 2\n",
        "tensor_0_10_step_2 = torch.arange(0, 11, 2)\n",
        "print(\"\\nTensor de 0 a 10, com um passo de 2:\", tensor_0_10_step_2)\n"
      ],
      "metadata": {
        "colab": {
          "base_uri": "https://localhost:8080/"
        },
        "id": "1qzbSkJ6Ev74",
        "outputId": "4f2f54e5-784b-4bcd-c2d5-61e4ba839885"
      },
      "execution_count": 57,
      "outputs": [
        {
          "output_type": "stream",
          "name": "stdout",
          "text": [
            "\n",
            "Tensor de 0 a 10, com um passo de 2: tensor([ 0,  2,  4,  6,  8, 10])\n"
          ]
        }
      ]
    },
    {
      "cell_type": "code",
      "source": [
        "# 3. Tensor de forma (3, 3) com valores aleatórios entre 0 e 10\n",
        "tensor_random_3x3 = torch.randint(0, 11, (3, 3))\n",
        "print(\"\\nTensor 3x3 com valores aleatórios entre 0 e 10:\", tensor_random_3x3)"
      ],
      "metadata": {
        "colab": {
          "base_uri": "https://localhost:8080/"
        },
        "id": "NgxCEoiOE87C",
        "outputId": "512b50e0-49eb-428e-f372-aa912b43953d"
      },
      "execution_count": 58,
      "outputs": [
        {
          "output_type": "stream",
          "name": "stdout",
          "text": [
            "\n",
            "Tensor 3x3 com valores aleatórios entre 0 e 10: tensor([[9, 3, 5],\n",
            "        [6, 5, 8],\n",
            "        [0, 6, 1]])\n"
          ]
        }
      ]
    },
    {
      "cell_type": "code",
      "source": [
        "# 4. Criar um tensor correspondente a uma imagem em escala de cinza de dimensões 128x128 com valores aleatórios entre 0 e 255\n",
        "tensor_gray_image = torch.randint(0, 256, (128, 128))\n",
        "print(\"\\nTensor de imagem em escala de cinza (128x128):\")\n",
        "print(tensor_gray_image)"
      ],
      "metadata": {
        "colab": {
          "base_uri": "https://localhost:8080/"
        },
        "id": "ADo0A0nHFg5O",
        "outputId": "92938fda-429e-4814-af27-a7cd38dc9a22"
      },
      "execution_count": 59,
      "outputs": [
        {
          "output_type": "stream",
          "name": "stdout",
          "text": [
            "\n",
            "Tensor de imagem em escala de cinza (128x128):\n",
            "tensor([[160, 146,  35,  ..., 108,  16, 209],\n",
            "        [ 28,  48, 243,  ..., 116, 149,  11],\n",
            "        [195, 219, 182,  ..., 125,  26, 176],\n",
            "        ...,\n",
            "        [ 77, 177, 165,  ...,  49, 217, 122],\n",
            "        [228, 186, 130,  ..., 238, 203,   7],\n",
            "        [ 17, 235, 254,  ..., 254,  45, 181]])\n"
          ]
        }
      ]
    },
    {
      "cell_type": "code",
      "source": [
        "# 5. Criar um tensor correspondente a uma imagem em RGB de dimensões 128x128 com valores aleatórios entre 0 e 255\n",
        "tensor_rgb_image = torch.randint(0, 256, (128, 128, 3))\n",
        "print(\"\\nTensor de imagem RGB (128x128):\")\n",
        "print(tensor_rgb_image)"
      ],
      "metadata": {
        "colab": {
          "base_uri": "https://localhost:8080/"
        },
        "id": "n-MensoeFw_I",
        "outputId": "20968574-f342-4857-c940-b3720f63fce3"
      },
      "execution_count": 61,
      "outputs": [
        {
          "output_type": "stream",
          "name": "stdout",
          "text": [
            "\n",
            "Tensor de imagem RGB (128x128):\n",
            "tensor([[[239,  33,  67],\n",
            "         [172,  96,  13],\n",
            "         [174, 197, 175],\n",
            "         ...,\n",
            "         [ 98, 160,  96],\n",
            "         [227, 239, 217],\n",
            "         [ 39, 252,  13]],\n",
            "\n",
            "        [[ 88,  56, 215],\n",
            "         [232, 113, 240],\n",
            "         [ 78,  75, 111],\n",
            "         ...,\n",
            "         [160,  74,  40],\n",
            "         [ 13,  67,  64],\n",
            "         [179, 225, 173]],\n",
            "\n",
            "        [[188, 117, 146],\n",
            "         [185, 183, 113],\n",
            "         [ 21,  31, 255],\n",
            "         ...,\n",
            "         [ 84, 195, 126],\n",
            "         [ 90, 113, 137],\n",
            "         [204,  29, 129]],\n",
            "\n",
            "        ...,\n",
            "\n",
            "        [[ 47,  34, 204],\n",
            "         [ 41,  74, 100],\n",
            "         [146,   7, 123],\n",
            "         ...,\n",
            "         [125, 183, 211],\n",
            "         [131, 119,  88],\n",
            "         [188, 129,  29]],\n",
            "\n",
            "        [[ 62, 142, 144],\n",
            "         [174, 194,  45],\n",
            "         [  5, 182, 254],\n",
            "         ...,\n",
            "         [ 53, 133, 124],\n",
            "         [246, 248, 248],\n",
            "         [  7,  70, 199]],\n",
            "\n",
            "        [[120, 134, 255],\n",
            "         [137,  17, 164],\n",
            "         [ 76,  49,  37],\n",
            "         ...,\n",
            "         [184, 212, 217],\n",
            "         [185, 176, 169],\n",
            "         [105,  77, 134]]])\n"
          ]
        }
      ]
    },
    {
      "cell_type": "markdown",
      "metadata": {
        "id": "-0R8iDYNzoMx"
      },
      "source": [
        "### Exercício 4: Operações Avançadas com Tensores\n",
        "\n",
        "1. Dado o tensor `a = torch.tensor([1, 2, 3])` e `b = torch.tensor([[4], [5], [6]])`, calcule a soma de `a` e `b` usando broadcasting.\n",
        "2. Dado o tensor `a = torch.tensor([1.0, 2.0, 3.0, 4.0])`, calcule a soma de todos os elementos.\n",
        "3. Dado o tensor `a = torch.tensor([1.0, 2.0, 3.0, 4.0])`, calcule a média de todos os elementos.\n",
        "4. Dado o tensor `a = torch.tensor([1.0, 2.0, 3.0, 4.0])`, calcule a raiz quadrada de todos os elementos."
      ]
    },
    {
      "cell_type": "code",
      "execution_count": 62,
      "metadata": {
        "id": "cGfGonGkzoMy",
        "colab": {
          "base_uri": "https://localhost:8080/"
        },
        "outputId": "5e04d5a5-bac7-4416-c20f-2121a02a858e"
      },
      "outputs": [
        {
          "output_type": "stream",
          "name": "stdout",
          "text": [
            "Soma de 'a' e 'b' usando broadcasting: tensor([[5, 6, 7],\n",
            "        [6, 7, 8],\n",
            "        [7, 8, 9]])\n"
          ]
        }
      ],
      "source": [
        "# 1. Soma de 'a' e 'b' usando broadcasting\n",
        "a = torch.tensor([1, 2, 3])\n",
        "b = torch.tensor([[4], [5], [6]])\n",
        "soma_ab = a + b  # Broadcasting ocorre aqui, 'a' será expandido para (3, 3)\n",
        "print(\"Soma de 'a' e 'b' usando broadcasting:\", soma_ab)\n"
      ]
    },
    {
      "cell_type": "code",
      "source": [
        "# 2. Soma de todos os elementos de 'a'\n",
        "a_float = torch.tensor([1.0, 2.0, 3.0, 4.0])\n",
        "soma_total = torch.sum(a_float)\n",
        "print(\"\\nSoma de todos os elementos de 'a':\", soma_total)"
      ],
      "metadata": {
        "colab": {
          "base_uri": "https://localhost:8080/"
        },
        "id": "ILfBY9IeICdd",
        "outputId": "3f7db616-2cfb-4184-d5d2-d68789cfb7df"
      },
      "execution_count": 63,
      "outputs": [
        {
          "output_type": "stream",
          "name": "stdout",
          "text": [
            "\n",
            "Soma de todos os elementos de 'a': tensor(10.)\n"
          ]
        }
      ]
    },
    {
      "cell_type": "code",
      "source": [
        "# 3. Média de todos os elementos de 'a'\n",
        "media_total = torch.mean(a_float)\n",
        "print(\"\\nMédia de todos os elementos de 'a':\", media_total)"
      ],
      "metadata": {
        "colab": {
          "base_uri": "https://localhost:8080/"
        },
        "id": "vIhOjj5BIG4y",
        "outputId": "81b75bf1-7be0-4627-b361-3fad214dbdad"
      },
      "execution_count": 64,
      "outputs": [
        {
          "output_type": "stream",
          "name": "stdout",
          "text": [
            "\n",
            "Média de todos os elementos de 'a': tensor(2.5000)\n"
          ]
        }
      ]
    },
    {
      "cell_type": "code",
      "source": [
        "# 4. Raiz quadrada de todos os elementos de 'a'\n",
        "raiz_quadrada = torch.sqrt(a_float)\n",
        "print(\"\\nRaiz quadrada de todos os elementos de 'a':\", raiz_quadrada)"
      ],
      "metadata": {
        "colab": {
          "base_uri": "https://localhost:8080/"
        },
        "id": "A3rQSv5OILrF",
        "outputId": "e7222068-ff9d-454d-fba5-604b7f30f9d1"
      },
      "execution_count": 65,
      "outputs": [
        {
          "output_type": "stream",
          "name": "stdout",
          "text": [
            "\n",
            "Raiz quadrada de todos os elementos de 'a': tensor([1.0000, 1.4142, 1.7321, 2.0000])\n"
          ]
        }
      ]
    },
    {
      "cell_type": "markdown",
      "metadata": {
        "id": "-rB12Ks9zoMy"
      },
      "source": [
        "### Exercício 5: Autograd e Backpropagation\n",
        "\n",
        "1. Crie um tensor `x` com os valores `[2.0, 3.0]` e `requires_grad=True`. Calcule `y = x^2` e os gradientes.\n",
        "2. Crie um tensor `x` com o valor `3.0` e `requires_grad=True`. Calcule `y = 2*x + 1` e o gradiente.\n",
        "3. Crie um tensor `x` com os valores `[1.0, 2.0, 3.0]` e `requires_grad=True`. Calcule `y = x^3` e os gradientes."
      ]
    },
    {
      "cell_type": "code",
      "execution_count": 66,
      "metadata": {
        "id": "cya80p_PzoMy",
        "colab": {
          "base_uri": "https://localhost:8080/"
        },
        "outputId": "fb1e40d9-772e-4482-c063-e24851e6f4c5"
      },
      "outputs": [
        {
          "output_type": "stream",
          "name": "stdout",
          "text": [
            "Gradientes de y = x^2 com x = [2.0, 3.0]: tensor([4., 6.])\n"
          ]
        }
      ],
      "source": [
        "# 1. Tensor 'x' com os valores [2.0, 3.0] e requires_grad=True\n",
        "x1 = torch.tensor([2.0, 3.0], requires_grad=True)\n",
        "y1 = x1**2  # y = x^2\n",
        "y1.backward(torch.ones_like(x1))  # Calcula os gradientes de y1 com relação a x1\n",
        "\n",
        "print(\"Gradientes de y = x^2 com x = [2.0, 3.0]:\", x1.grad)\n"
      ]
    },
    {
      "cell_type": "code",
      "source": [
        "# 2. Tensor 'x' com o valor 3.0 e requires_grad=True\n",
        "x2 = torch.tensor(3.0, requires_grad=True)\n",
        "y2 = 2*x2 + 1  # y = 2*x + 1\n",
        "y2.backward()  # Calcula o gradiente de y2 com relação a x2\n",
        "\n",
        "print(\"\\nGradiente de y = 2*x + 1 com x = 3.0:\", x2.grad)"
      ],
      "metadata": {
        "colab": {
          "base_uri": "https://localhost:8080/"
        },
        "id": "M_qGG-cDKhtB",
        "outputId": "058b526d-ee3d-4a43-ed8d-f575d4da4674"
      },
      "execution_count": 67,
      "outputs": [
        {
          "output_type": "stream",
          "name": "stdout",
          "text": [
            "\n",
            "Gradiente de y = 2*x + 1 com x = 3.0: tensor(2.)\n"
          ]
        }
      ]
    },
    {
      "cell_type": "code",
      "source": [
        "# 3. Tensor 'x' com os valores [1.0, 2.0, 3.0] e requires_grad=True\n",
        "x3 = torch.tensor([1.0, 2.0, 3.0], requires_grad=True)\n",
        "y3 = x3**3  # y = x^3\n",
        "y3.backward(torch.ones_like(x3))  # Calcula os gradientes de y3 com relação a x3\n",
        "\n",
        "print(\"\\nGradientes de y = x^3 com x = [1.0, 2.0, 3.0]:\", x3.grad)"
      ],
      "metadata": {
        "colab": {
          "base_uri": "https://localhost:8080/"
        },
        "id": "wWwU9DtTKnmr",
        "outputId": "cb254c4f-4433-41e9-d2ca-e0ca765a34d4"
      },
      "execution_count": 68,
      "outputs": [
        {
          "output_type": "stream",
          "name": "stdout",
          "text": [
            "\n",
            "Gradientes de y = x^3 com x = [1.0, 2.0, 3.0]: tensor([ 3., 12., 27.])\n"
          ]
        }
      ]
    },
    {
      "cell_type": "markdown",
      "metadata": {
        "id": "MX6K7HvOzoMy"
      },
      "source": [
        "### Exercício 6: Operações de Redução\n",
        "\n",
        "1. Crie um tensor de forma (4, 5) contendo valores de 1 a 20 usando `torch.arange`. Em seguida, calcule a soma de todos os elementos do tensor.\n",
        "\n",
        "2. Crie um tensor de forma (3, 4) com valores aleatórios entre 0 e 1 usando `torch.rand`. Calcule a média dos elementos ao longo do eixo 1 (colunas).\n",
        "\n",
        "3. Crie um tensor de forma (5, 5) contendo valores espaçados igualmente de 0 a 24 usando `torch.linspace`. Encontre o valor mínimo e o máximo de todos os elementos do tensor.\n",
        "\n",
        "4. Crie um tensor de forma (3, 6) com valores inteiros aleatórios entre 10 e 50 usando `torch.randint`. Calcule o produto dos elementos ao longo do eixo 0 (linhas).\n",
        "\n",
        "5. Crie um tensor de forma (2, 3, 4) com valores aleatórios entre 0 e 1 usando `torch.rand`. Encontre a soma dos elementos ao longo do eixo 2."
      ]
    },
    {
      "cell_type": "code",
      "execution_count": 71,
      "metadata": {
        "id": "ANBpEU1VzoMy",
        "colab": {
          "base_uri": "https://localhost:8080/"
        },
        "outputId": "097e4f24-f6e9-4ae2-eb8e-9cc282401302"
      },
      "outputs": [
        {
          "output_type": "stream",
          "name": "stdout",
          "text": [
            "tensor([[ 1,  2,  3,  4,  5],\n",
            "        [ 6,  7,  8,  9, 10],\n",
            "        [11, 12, 13, 14, 15],\n",
            "        [16, 17, 18, 19, 20]])\n",
            "Soma de todos os elementos do tensor 1: tensor(210)\n"
          ]
        }
      ],
      "source": [
        "# primeira Questão\n",
        "# Criando o tensor de forma (4, 5) com valores de 1 a 20 usando torch.arange\n",
        "tensor1 = torch.arange(1, 21).reshape(4, 5)\n",
        "print(tensor1)\n",
        "\n",
        "# Calculando a soma de todos os elementos\n",
        "soma1 = tensor1.sum()\n",
        "print(\"Soma de todos os elementos do tensor 1:\", soma1)"
      ]
    },
    {
      "cell_type": "code",
      "source": [
        "#segunda questão\n",
        "# Criando um tensor de forma (3, 4) com valores aleatórios entre 0 e 1\n",
        "tensor2 = torch.rand(3, 4)\n",
        "print(tensor2)\n",
        "\n",
        "# Calculando a média ao longo do eixo 1 (colunas)\n",
        "media2 = tensor2.mean(dim=1)\n",
        "print(\"\\nMédia dos elementos ao longo do eixo 1 (colunas) do tensor 2:\", media2)"
      ],
      "metadata": {
        "colab": {
          "base_uri": "https://localhost:8080/"
        },
        "id": "N5FwUOlzOoeH",
        "outputId": "e5456fd9-76a0-42d4-a4f3-f162ea45de19"
      },
      "execution_count": 73,
      "outputs": [
        {
          "output_type": "stream",
          "name": "stdout",
          "text": [
            "tensor([[0.4892, 0.4045, 0.1031, 0.1305],\n",
            "        [0.7880, 0.2831, 0.3851, 0.1364],\n",
            "        [0.9562, 0.2805, 0.4906, 0.8871]])\n",
            "\n",
            "Média dos elementos ao longo do eixo 1 (colunas) do tensor 2: tensor([0.2818, 0.3981, 0.6536])\n"
          ]
        }
      ]
    },
    {
      "cell_type": "code",
      "source": [
        "#terceira questão\n",
        "# Criando um tensor de forma (5, 5) com valores igualmente espaçados de 0 a 24\n",
        "tensor3 = torch.linspace(0, 24, steps=25).reshape(5, 5)\n",
        "print(tensor3)\n",
        "\n",
        "# Encontrando o valor mínimo e máximo\n",
        "minimo3 = tensor3.min()\n",
        "maximo3 = tensor3.max()\n",
        "\n",
        "print(\"\\nValor mínimo do tensor 3:\", minimo3)\n",
        "print(\"Valor máximo do tensor 3:\", maximo3)"
      ],
      "metadata": {
        "colab": {
          "base_uri": "https://localhost:8080/"
        },
        "id": "DvmEBhDlPFi1",
        "outputId": "6140e5f4-75e6-4739-a7dd-26f6e5fc1b50"
      },
      "execution_count": 75,
      "outputs": [
        {
          "output_type": "stream",
          "name": "stdout",
          "text": [
            "tensor([[ 0.,  1.,  2.,  3.,  4.],\n",
            "        [ 5.,  6.,  7.,  8.,  9.],\n",
            "        [10., 11., 12., 13., 14.],\n",
            "        [15., 16., 17., 18., 19.],\n",
            "        [20., 21., 22., 23., 24.]])\n",
            "\n",
            "Valor mínimo do tensor 3: tensor(0.)\n",
            "Valor máximo do tensor 3: tensor(24.)\n"
          ]
        }
      ]
    },
    {
      "cell_type": "code",
      "source": [
        "#quarta questão\n",
        "# Criando um tensor de forma (3, 6) com valores inteiros aleatórios entre 10 e 50\n",
        "tensor4 = torch.randint(10, 51, (3, 6))\n",
        "print(tensor4)\n",
        "\n",
        "# Calculando o produto ao longo do eixo 0 (linhas)\n",
        "produto4 = tensor4.prod(dim=0)\n",
        "print(\"\\nProduto dos elementos ao longo do eixo 0 (linhas) do tensor 4:\", produto4)"
      ],
      "metadata": {
        "colab": {
          "base_uri": "https://localhost:8080/"
        },
        "id": "s0hsz9tsPoV2",
        "outputId": "0d4fc05e-00a2-4cc4-f9ad-067355c40519"
      },
      "execution_count": 76,
      "outputs": [
        {
          "output_type": "stream",
          "name": "stdout",
          "text": [
            "tensor([[21, 19, 25, 30, 27, 10],\n",
            "        [14, 27, 31, 50, 19, 11],\n",
            "        [24, 42, 11, 25, 24, 11]])\n",
            "\n",
            "Produto dos elementos ao longo do eixo 0 (linhas) do tensor 4: tensor([ 7056, 21546,  8525, 37500, 12312,  1210])\n"
          ]
        }
      ]
    },
    {
      "cell_type": "code",
      "source": [
        "#quinta questão\n",
        "# Criando um tensor de forma (2, 3, 4) com valores aleatórios entre 0 e 1\n",
        "tensor5 = torch.rand(2, 3, 4)\n",
        "\n",
        "# Calculando a soma dos elementos ao longo do eixo 2\n",
        "soma5 = tensor5.sum(dim=2)\n",
        "print(\"\\nSoma dos elementos ao longo do eixo 2 do tensor 5:\", soma5)"
      ],
      "metadata": {
        "colab": {
          "base_uri": "https://localhost:8080/"
        },
        "id": "10pm9qCtQSf3",
        "outputId": "227bbc10-a5b9-48bd-b5a9-70d6524419f5"
      },
      "execution_count": 78,
      "outputs": [
        {
          "output_type": "stream",
          "name": "stdout",
          "text": [
            "\n",
            "Soma dos elementos ao longo do eixo 2 do tensor 5: tensor([[1.7557, 2.4340, 1.2060],\n",
            "        [1.6520, 1.9264, 3.0347]])\n"
          ]
        }
      ]
    }
  ],
  "metadata": {
    "kernelspec": {
      "display_name": "base",
      "language": "python",
      "name": "python3"
    },
    "language_info": {
      "codemirror_mode": {
        "name": "ipython",
        "version": 3
      },
      "file_extension": ".py",
      "mimetype": "text/x-python",
      "name": "python",
      "nbconvert_exporter": "python",
      "pygments_lexer": "ipython3",
      "version": "3.10.13"
    },
    "colab": {
      "provenance": []
    }
  },
  "nbformat": 4,
  "nbformat_minor": 0
}